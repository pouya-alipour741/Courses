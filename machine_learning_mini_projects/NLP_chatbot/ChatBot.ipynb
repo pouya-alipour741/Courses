{
 "cells": [
  {
   "cell_type": "code",
   "execution_count": 1,
   "id": "1e1760de",
   "metadata": {},
   "outputs": [
    {
     "name": "stderr",
     "output_type": "stream",
     "text": [
      "C:\\ProgramData\\Anaconda3\\lib\\site-packages\\scipy\\__init__.py:146: UserWarning: A NumPy version >=1.16.5 and <1.23.0 is required for this version of SciPy (detected version 1.26.0\n",
      "  warnings.warn(f\"A NumPy version >={np_minversion} and <{np_maxversion}\"\n"
     ]
    }
   ],
   "source": [
    "import json\n",
    "import random\n",
    "import numpy as np\n",
    "from Modules.model import NeuralNet\n",
    "from Modules.nltk_utils import bag_of_words,stem,tokenize\n",
    "\n",
    "\n",
    "import torch"
   ]
  },
  {
   "cell_type": "code",
   "execution_count": 2,
   "id": "588678c9",
   "metadata": {
    "scrolled": true
   },
   "outputs": [
    {
     "data": {
      "text/plain": [
       "58"
      ]
     },
     "execution_count": 2,
     "metadata": {},
     "output_type": "execute_result"
    }
   ],
   "source": [
    "with open(\"intents.json\", \"r\") as f:\n",
    "    intents = json.load(f)  \n",
    "\n",
    "data = torch.load(\"data.pth\")    \n",
    "data[\"input_size\"]"
   ]
  },
  {
   "cell_type": "code",
   "execution_count": 3,
   "id": "298c3d6a",
   "metadata": {},
   "outputs": [],
   "source": [
    "input_size = data[\"input_size\"]\n",
    "hidden_size = data[\"hidden_size\"]\n",
    "num_classes = data[\"num_classes\"]\n",
    "all_words = data[\"all_words\"]\n",
    "tags = data[\"tags\"]\n",
    "model_state = data[\"model_state\"]"
   ]
  },
  {
   "cell_type": "code",
   "execution_count": 4,
   "id": "b308b304",
   "metadata": {},
   "outputs": [
    {
     "data": {
      "text/plain": [
       "NeuralNet(\n",
       "  (l1): Linear(in_features=58, out_features=8, bias=True)\n",
       "  (l2): Linear(in_features=8, out_features=8, bias=True)\n",
       "  (l3): Linear(in_features=8, out_features=7, bias=True)\n",
       "  (relu): ReLU()\n",
       ")"
      ]
     },
     "execution_count": 4,
     "metadata": {},
     "output_type": "execute_result"
    }
   ],
   "source": [
    "model = NeuralNet(input_size, hidden_size, num_classes)\n",
    "model"
   ]
  },
  {
   "cell_type": "code",
   "execution_count": 5,
   "id": "59fae648",
   "metadata": {},
   "outputs": [
    {
     "data": {
      "text/plain": [
       "<All keys matched successfully>"
      ]
     },
     "execution_count": 5,
     "metadata": {},
     "output_type": "execute_result"
    }
   ],
   "source": [
    "model.load_state_dict(model_state)"
   ]
  },
  {
   "cell_type": "code",
   "execution_count": 6,
   "id": "34d278f8",
   "metadata": {},
   "outputs": [
    {
     "data": {
      "text/plain": [
       "NeuralNet(\n",
       "  (l1): Linear(in_features=58, out_features=8, bias=True)\n",
       "  (l2): Linear(in_features=8, out_features=8, bias=True)\n",
       "  (l3): Linear(in_features=8, out_features=7, bias=True)\n",
       "  (relu): ReLU()\n",
       ")"
      ]
     },
     "execution_count": 6,
     "metadata": {},
     "output_type": "execute_result"
    }
   ],
   "source": [
    "model.eval()"
   ]
  },
  {
   "cell_type": "code",
   "execution_count": 7,
   "id": "1cbdca34",
   "metadata": {},
   "outputs": [
    {
     "name": "stdout",
     "output_type": "stream",
     "text": [
      "let's chat, type quit to exit\n",
      "You: hi\n",
      "sam:Hi there, what can I do for you?\n",
      "You: quit\n",
      "\n",
      "sam left\n"
     ]
    }
   ],
   "source": [
    "print(\"let's chat, type quit to exit\")\n",
    "bot_name = \"sam\"\n",
    "while True:\n",
    "    sentence = input(\"You: \")\n",
    "    if sentence == \"quit\":\n",
    "        break\n",
    "    \n",
    "    sentence = tokenize(sentence)\n",
    "    X = bag_of_words(sentence, all_words)\n",
    "    X = X.reshape(1, X.shape[0])\n",
    "    X = torch.from_numpy(X)\n",
    "    \n",
    "    preds = model(X)\n",
    "    pred_probs = torch.softmax(preds, dim=1)\n",
    "    pred_probs_labels = torch.argmax(pred_probs, dim=1)\n",
    "    \n",
    "    tag = tags[pred_probs_labels]\n",
    "    \n",
    "    #verbose\n",
    "#     print(f'tensor_probs: {pred_probs}')\n",
    "#     print(f'labels: {tags}')\n",
    "#     print(f'probs: {pred_probs.max().item()}')\n",
    "    \n",
    "    if pred_probs.max().item() > 0.75:\n",
    "        for intent in intents[\"intents\"]:\n",
    "            if intent[\"tag\"] == tag:\n",
    "                print(f'{bot_name}:{random.choice(intent[\"responses\"])}')\n",
    "    else:\n",
    "        print(f\"sorry could not understand\")\n",
    "print(f\"\\n{bot_name} left\")"
   ]
  }
 ],
 "metadata": {
  "kernelspec": {
   "display_name": "Python 3 (ipykernel)",
   "language": "python",
   "name": "python3"
  },
  "language_info": {
   "codemirror_mode": {
    "name": "ipython",
    "version": 3
   },
   "file_extension": ".py",
   "mimetype": "text/x-python",
   "name": "python",
   "nbconvert_exporter": "python",
   "pygments_lexer": "ipython3",
   "version": "3.9.12"
  }
 },
 "nbformat": 4,
 "nbformat_minor": 5
}
