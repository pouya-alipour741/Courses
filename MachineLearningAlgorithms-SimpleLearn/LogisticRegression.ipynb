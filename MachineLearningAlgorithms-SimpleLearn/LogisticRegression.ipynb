{
 "cells": [
  {
   "cell_type": "code",
   "execution_count": 24,
   "id": "4dd0e0b9",
   "metadata": {},
   "outputs": [],
   "source": [
    "from sklearn.model_selection import train_test_split\n",
    "from sklearn.datasets import load_digits\n",
    "import numpy as np\n",
    "import matplotlib.pyplot as plt\n",
    "import seaborn as sns\n",
    "import pandas as pd\n",
    "from sklearn import metrics\n",
    "%matplotlib inline\n",
    "digits = load_digits()"
   ]
  },
  {
   "cell_type": "code",
   "execution_count": 25,
   "id": "c63d8886",
   "metadata": {},
   "outputs": [
    {
     "data": {
      "text/plain": [
       "dict_keys(['data', 'target', 'frame', 'feature_names', 'target_names', 'images', 'DESCR'])"
      ]
     },
     "execution_count": 25,
     "metadata": {},
     "output_type": "execute_result"
    }
   ],
   "source": [
    "digits.keys()"
   ]
  },
  {
   "cell_type": "code",
   "execution_count": 26,
   "id": "a976351b",
   "metadata": {},
   "outputs": [
    {
     "data": {
      "text/plain": [
       "(64,)"
      ]
     },
     "execution_count": 26,
     "metadata": {},
     "output_type": "execute_result"
    }
   ],
   "source": [
    "digits.data[0].shape"
   ]
  },
  {
   "cell_type": "code",
   "execution_count": 27,
   "id": "5c9e5977",
   "metadata": {},
   "outputs": [
    {
     "data": {
      "text/plain": [
       "(1797,)"
      ]
     },
     "execution_count": 27,
     "metadata": {},
     "output_type": "execute_result"
    }
   ],
   "source": [
    "digits.target.shape"
   ]
  },
  {
   "cell_type": "code",
   "execution_count": 28,
   "id": "f1df30bb",
   "metadata": {},
   "outputs": [
    {
     "name": "stdout",
     "output_type": "stream",
     "text": [
      "(64,)\n",
      "(64,)\n",
      "(64,)\n",
      "(64,)\n",
      "(64,)\n"
     ]
    },
    {
     "data": {
      "image/png": "[encoded data removed]",
      "text/plain": [
       "<Figure size 1440x504 with 5 Axes>"
      ]
     },
     "metadata": {
      "needs_background": "light"
     },
     "output_type": "display_data"
    }
   ],
   "source": [
    "plt.figure(figsize=(20,7))\n",
    "\n",
    "for i, (image,label) in enumerate(zip(digits.data[:5],digits.target[:5])):\n",
    "    print(image.shape)\n",
    "    plt.subplot(1,5, i+1)\n",
    "    plt.imshow(np.reshape(image,(8,8)),cmap=plt.cm.Spectral)\n",
    "    plt.xlabel(False)\n",
    "    plt.title(f\"train:{label}\",fontsize=20)"
   ]
  },
  {
   "cell_type": "code",
   "execution_count": 29,
   "id": "927eed71",
   "metadata": {},
   "outputs": [
    {
     "data": {
      "text/plain": [
       "((1797, 64), (1797,))"
      ]
     },
     "execution_count": 29,
     "metadata": {},
     "output_type": "execute_result"
    }
   ],
   "source": [
    "X = digits.data\n",
    "y = digits.target\n",
    "X.shape,y.shape"
   ]
  },
  {
   "cell_type": "code",
   "execution_count": 30,
   "id": "db2af705",
   "metadata": {},
   "outputs": [
    {
     "data": {
      "text/plain": [
       "(1383, 64)"
      ]
     },
     "execution_count": 30,
     "metadata": {},
     "output_type": "execute_result"
    }
   ],
   "source": [
    "X_train,X_test,y_train,y_test = train_test_split(X,y,test_size=0.23,random_state=2)\n",
    "X_train.shape"
   ]
  },
  {
   "cell_type": "code",
   "execution_count": 31,
   "id": "c97bde34",
   "metadata": {},
   "outputs": [
    {
     "data": {
      "text/plain": [
       "LogisticRegression(solver='liblinear')"
      ]
     },
     "execution_count": 31,
     "metadata": {},
     "output_type": "execute_result"
    }
   ],
   "source": [
    "from sklearn.linear_model import LogisticRegression\n",
    "\n",
    "logregressor = LogisticRegression(solver=\"liblinear\")\n",
    "logregressor.fit(X_train,y_train)"
   ]
  },
  {
   "cell_type": "code",
   "execution_count": 32,
   "id": "6b369d7e",
   "metadata": {},
   "outputs": [
    {
     "data": {
      "text/plain": [
       "array([4, 0, 9, 1, 8, 7, 1, 5, 1, 6])"
      ]
     },
     "execution_count": 32,
     "metadata": {},
     "output_type": "execute_result"
    }
   ],
   "source": [
    "logregressor.predict(X_test[0:10])"
   ]
  },
  {
   "cell_type": "code",
   "execution_count": 33,
   "id": "9eda42b7",
   "metadata": {},
   "outputs": [
    {
     "data": {
      "text/plain": [
       "array([4])"
      ]
     },
     "execution_count": 33,
     "metadata": {},
     "output_type": "execute_result"
    }
   ],
   "source": [
    "logregressor.predict(X_test[0].reshape(1,-1))"
   ]
  },
  {
   "cell_type": "code",
   "execution_count": 34,
   "id": "d5040050",
   "metadata": {},
   "outputs": [
    {
     "data": {
      "text/plain": [
       "array([4, 0, 9, 1, 8, 7, 1, 5, 1, 6, 6, 7, 6, 1, 5, 5, 1, 6, 2, 7, 4, 6,\n",
       "       4, 1, 5, 2, 9, 5, 4, 6, 5, 6, 3, 4, 0, 9, 9, 8, 4, 6, 8, 1, 5, 7,\n",
       "       8, 8, 9, 6, 1, 7, 0, 1, 9, 7, 3, 3, 1, 8, 8, 8, 9, 8, 5, 1, 4, 8,\n",
       "       7, 5, 8, 4, 3, 9, 3, 8, 7, 3, 3, 0, 8, 7, 2, 8, 5, 3, 8, 7, 6, 4,\n",
       "       6, 2, 2, 0, 1, 1, 5, 3, 5, 7, 6, 8, 2, 2, 6, 4, 6, 7, 3, 7, 3, 9,\n",
       "       4, 7, 0, 3, 5, 1, 5, 0, 3, 9, 2, 7, 7, 2, 0, 8, 1, 9, 2, 1, 5, 1,\n",
       "       0, 3, 4, 3, 0, 8, 3, 2, 2, 7, 3, 1, 6, 7, 2, 8, 3, 1, 1, 6, 4, 8,\n",
       "       2, 1, 8, 4, 8, 3, 1, 1, 9, 5, 4, 9, 7, 4, 8, 9, 5, 7, 6, 9, 0, 0,\n",
       "       4, 0, 0, 9, 0, 6, 5, 8, 8, 3, 7, 8, 2, 0, 8, 2, 7, 3, 0, 2, 1, 5,\n",
       "       2, 7, 0, 6, 9, 3, 3, 1, 3, 5, 2, 8, 5, 2, 1, 2, 9, 4, 6, 5, 5, 5,\n",
       "       9, 7, 1, 5, 7, 6, 3, 7, 1, 7, 5, 1, 7, 2, 7, 5, 5, 4, 8, 6, 6, 2,\n",
       "       8, 7, 3, 7, 8, 0, 3, 5, 7, 4, 3, 4, 1, 0, 3, 3, 5, 4, 1, 3, 1, 2,\n",
       "       5, 1, 4, 0, 3, 1, 5, 5, 7, 4, 0, 1, 0, 8, 5, 5, 5, 4, 0, 1, 8, 6,\n",
       "       2, 1, 1, 1, 7, 9, 6, 7, 9, 7, 0, 4, 9, 6, 9, 2, 7, 2, 1, 0, 8, 2,\n",
       "       8, 6, 5, 7, 8, 4, 5, 7, 8, 6, 5, 2, 6, 9, 3, 0, 0, 8, 0, 6, 6, 7,\n",
       "       1, 4, 5, 6, 9, 7, 2, 8, 5, 1, 2, 4, 1, 8, 8, 7, 6, 0, 8, 0, 6, 5,\n",
       "       5, 7, 8, 0, 4, 1, 4, 5, 9, 2, 2, 3, 9, 1, 3, 9, 3, 2, 8, 0, 6, 5,\n",
       "       6, 2, 5, 2, 3, 2, 6, 1, 0, 7, 6, 0, 6, 2, 7, 0, 3, 2, 4, 2, 9, 6,\n",
       "       9, 7, 7, 0, 3, 5, 4, 1, 2, 2, 1, 2, 7, 7, 0, 4, 9, 8])"
      ]
     },
     "execution_count": 34,
     "metadata": {},
     "output_type": "execute_result"
    }
   ],
   "source": [
    "predictions = logregressor.predict(X_test)\n",
    "predictions"
   ]
  },
  {
   "cell_type": "code",
   "execution_count": 35,
   "id": "1f5e3ca9",
   "metadata": {},
   "outputs": [
    {
     "data": {
      "text/plain": [
       "0.9420289855072463"
      ]
     },
     "execution_count": 35,
     "metadata": {},
     "output_type": "execute_result"
    }
   ],
   "source": [
    "##accuracy\n",
    "score = logregressor.score(X_test,y_test)\n",
    "score\n"
   ]
  },
  {
   "cell_type": "code",
   "execution_count": 36,
   "id": "a1784ec1",
   "metadata": {},
   "outputs": [
    {
     "data": {
      "text/plain": [
       "0.8514231196389328"
      ]
     },
     "execution_count": 36,
     "metadata": {},
     "output_type": "execute_result"
    }
   ],
   "source": [
    "from sklearn.metrics import r2_score\n",
    "r2_score(y_test,predictions)"
   ]
  },
  {
   "cell_type": "code",
   "execution_count": 37,
   "id": "35c02a1c",
   "metadata": {},
   "outputs": [
    {
     "data": {
      "text/plain": [
       "array([[38,  0,  0,  0,  0,  0,  0,  0,  0,  0],\n",
       "       [ 0, 44,  0,  1,  0,  0,  0,  0,  2,  1],\n",
       "       [ 0,  0, 43,  0,  0,  0,  0,  0,  0,  0],\n",
       "       [ 0,  0,  0, 37,  0,  0,  0,  3,  2,  0],\n",
       "       [ 0,  2,  0,  0, 34,  0,  0,  0,  1,  1],\n",
       "       [ 0,  0,  0,  0,  0, 46,  0,  0,  0,  0],\n",
       "       [ 0,  0,  0,  0,  0,  0, 40,  0,  1,  0],\n",
       "       [ 0,  0,  0,  0,  0,  0,  0, 45,  1,  0],\n",
       "       [ 0,  2,  0,  0,  0,  0,  0,  0, 35,  1],\n",
       "       [ 0,  0,  0,  1,  0,  1,  0,  1,  3, 28]], dtype=int64)"
      ]
     },
     "execution_count": 37,
     "metadata": {},
     "output_type": "execute_result"
    }
   ],
   "source": [
    "cm = metrics.confusion_matrix(y_test,predictions)\n",
    "cm\n"
   ]
  },
  {
   "cell_type": "code",
   "execution_count": 38,
   "id": "525a0df7",
   "metadata": {},
   "outputs": [
    {
     "data": {
      "text/plain": [
       "Text(0.5, 1.0, 'accuracy:0.9420289855072463')"
      ]
     },
     "execution_count": 38,
     "metadata": {},
     "output_type": "execute_result"
    },
    {
     "data": {
      "image/png": "[encoded data removed]",
      "text/plain": [
       "<Figure size 648x648 with 2 Axes>"
      ]
     },
     "metadata": {
      "needs_background": "light"
     },
     "output_type": "display_data"
    }
   ],
   "source": [
    "plt.figure(figsize=(9,9))\n",
    "sns.heatmap(cm, annot=True,fmt=\".3f\", linewidths=0.5, square=True, cmap=\"Blues_r\" )\n",
    "plt.xlabel(\"Predicted labels\")\n",
    "plt.ylabel(\"Actual labels\")\n",
    "plt.title(f\"accuracy:{score}\",size=15)"
   ]
  },
  {
   "cell_type": "code",
   "execution_count": 39,
   "id": "9d60ac8e",
   "metadata": {},
   "outputs": [
    {
     "data": {
      "image/png": "[encoded data removed]",
      "text/plain": [
       "<Figure size 1440x216 with 5 Axes>"
      ]
     },
     "metadata": {
      "needs_background": "light"
     },
     "output_type": "display_data"
    }
   ],
   "source": [
    "classified_correct_index = []\n",
    "# index = 0\n",
    "for index,(predict, actual) in enumerate(zip(predictions,y_test)):\n",
    "    if predict == actual:\n",
    "        classified_correct_index.append(index)\n",
    "#     index +=1\n",
    "plt.figure(figsize=(20,3))\n",
    "for i, correct in enumerate(classified_correct_index[:5]):\n",
    "    plt.subplot(1,5,i+1)\n",
    "    plt.imshow(np.reshape(X_test[correct],(8,8)),cmap=plt.cm.Spectral_r)\n",
    "    plt.xlabel(False)\n",
    "    plt.title(f\"predict:{predictions[correct]}|truth:{y_test[correct]}\",fontsize=20)"
   ]
  },
  {
   "cell_type": "code",
   "execution_count": 40,
   "id": "7f5d61e6",
   "metadata": {},
   "outputs": [
    {
     "data": {
      "text/plain": [
       "array([4, 0, 9, 1, 8, 7, 1, 5, 1, 6, 6, 7, 6, 1, 5, 5, 1, 6, 2, 7, 4, 6,\n",
       "       4, 1, 5, 2, 9, 5, 4, 6, 5, 6, 3, 4, 0, 9, 9, 8, 4, 6, 8, 1, 5, 7,\n",
       "       8, 8, 9, 6, 1, 7, 0, 1, 9, 7, 3, 3, 1, 8, 8, 8, 9, 8, 5, 1, 4, 8,\n",
       "       7, 5, 8, 4, 3, 9, 3, 8, 7, 3, 3, 0, 8, 7, 2, 8, 5, 3, 8, 7, 6, 4,\n",
       "       6, 2, 2, 0, 1, 1, 5, 3, 5, 7, 6, 8, 2, 2, 6, 4, 6, 7, 3, 7, 3, 9,\n",
       "       4, 7, 0, 3, 5, 1, 5, 0, 3, 9, 2, 7, 7, 2, 0, 8, 1, 9, 2, 1, 5, 1,\n",
       "       0, 3, 4, 3, 0, 8, 3, 2, 2, 7, 3, 1, 6, 7, 2, 8, 3, 1, 1, 6, 4, 8,\n",
       "       2, 1, 8, 4, 8, 3, 1, 1, 9, 5, 4, 9, 7, 4, 8, 9, 5, 7, 6, 9, 0, 0,\n",
       "       4, 0, 0, 9, 0, 6, 5, 8, 8, 3, 7, 8, 2, 0, 8, 2, 7, 3, 0, 2, 1, 5,\n",
       "       2, 7, 0, 6, 9, 3, 3, 1, 3, 5, 2, 8, 5, 2, 1, 2, 9, 4, 6, 5, 5, 5,\n",
       "       9, 7, 1, 5, 7, 6, 3, 7, 1, 7, 5, 1, 7, 2, 7, 5, 5, 4, 8, 6, 6, 2,\n",
       "       8, 7, 3, 7, 8, 0, 3, 5, 7, 4, 3, 4, 1, 0, 3, 3, 5, 4, 1, 3, 1, 2,\n",
       "       5, 1, 4, 0, 3, 1, 5, 5, 7, 4, 0, 1, 0, 8, 5, 5, 5, 4, 0, 1, 8, 6,\n",
       "       2, 1, 1, 1, 7, 9, 6, 7, 9, 7, 0, 4, 9, 6, 9, 2, 7, 2, 1, 0, 8, 2,\n",
       "       8, 6, 5, 7, 8, 4, 5, 7, 8, 6, 5, 2, 6, 9, 3, 0, 0, 8, 0, 6, 6, 7,\n",
       "       1, 4, 5, 6, 9, 7, 2, 8, 5, 1, 2, 4, 1, 8, 8, 7, 6, 0, 8, 0, 6, 5,\n",
       "       5, 7, 8, 0, 4, 1, 4, 5, 9, 2, 2, 3, 9, 1, 3, 9, 3, 2, 8, 0, 6, 5,\n",
       "       6, 2, 5, 2, 3, 2, 6, 1, 0, 7, 6, 0, 6, 2, 7, 0, 3, 2, 4, 2, 9, 6,\n",
       "       9, 7, 7, 0, 3, 5, 4, 1, 2, 2, 1, 2, 7, 7, 0, 4, 9, 8])"
      ]
     },
     "execution_count": 40,
     "metadata": {},
     "output_type": "execute_result"
    }
   ],
   "source": [
    "predictions"
   ]
  },
  {
   "cell_type": "code",
   "execution_count": 41,
   "id": "983d7039",
   "metadata": {},
   "outputs": [
    {
     "data": {
      "text/plain": [
       "array([ True,  True,  True,  True, False,  True])"
      ]
     },
     "execution_count": 41,
     "metadata": {},
     "output_type": "execute_result"
    }
   ],
   "source": [
    "(predictions == y_test)[:6]"
   ]
  }
 ],
 "metadata": {
  "kernelspec": {
   "display_name": "Python 3 (ipykernel)",
   "language": "python",
   "name": "python3"
  },
  "language_info": {
   "codemirror_mode": {
    "name": "ipython",
    "version": 3
   },
   "file_extension": ".py",
   "mimetype": "text/x-python",
   "name": "python",
   "nbconvert_exporter": "python",
   "pygments_lexer": "ipython3",
   "version": "3.9.12"
  }
 },
 "nbformat": 4,
 "nbformat_minor": 5
}
