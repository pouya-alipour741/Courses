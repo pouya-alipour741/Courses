{
 "cells": [
  {
   "cell_type": "raw",
   "id": "138d1997",
   "metadata": {
    "scrolled": true
   },
   "source": [
    "import torch\n",
    "\n",
    "weight = 0.7\n",
    "bias = 0.3\n",
    "\n",
    "start = 0\n",
    "end = 1\n",
    "step = 0.02\n",
    "\n",
    "X = torch.arange(start,end,step).unsqueeze(dim=1)\n",
    "y = weight*X + bias\n",
    "\n",
    "X[:10],y[:10]\n"
   ]
  },
  {
   "cell_type": "raw",
   "id": "9f49fd26",
   "metadata": {
    "scrolled": true
   },
   "source": [
    "zero_to_ten = torch.arange(start=0, end=10, step=1)\n",
    "zero_to_ten\n",
    "\n",
    "ten_zeros = torch.zeros_like(input=zero_to_ten) # will have same shape\n",
    "ten_zeros"
   ]
  },
  {
   "cell_type": "raw",
   "id": "7864ba31",
   "metadata": {},
   "source": [
    "def plot_predictions(train_data = X_train,\n",
    "                    train_label = y_train,\n",
    "                    test_data= X_test,\n",
    "                    test_label = y_test,\n",
    "                    predictions = None):\n",
    "    \n",
    "    plt.figure(figsize=(10,7))\n",
    "    \n",
    "    plt.scatter(train_data,train_label,c='b',s=4,label='Training Data')\n",
    "    \n",
    "    plt.scatter(test_data,test_label,c='r',s=4,label='Test Data')\n",
    "    \n",
    "    if predictions is not None:\n",
    "        plt.scatter(test_data,predicitons,c='g',s=4,label='predictions')\n",
    "        \n",
    "    plt.legend(prop={'size':14})\n",
    "        "
   ]
  },
  {
   "cell_type": "code",
   "execution_count": 23,
   "id": "273647dd",
   "metadata": {},
   "outputs": [
    {
     "name": "stdout",
     "output_type": "stream",
     "text": [
      "using cpu\n"
     ]
    }
   ],
   "source": [
    "import torch\n",
    "device = \"cuda\" if torch.cuda.is_available() else \"cpu\"\n",
    "print(f\"using {device}\")"
   ]
  },
  {
   "cell_type": "code",
   "execution_count": 24,
   "id": "a512ee17",
   "metadata": {
    "scrolled": false
   },
   "outputs": [
    {
     "data": {
      "text/plain": [
       "(tensor([[0.0000],\n",
       "         [0.0200],\n",
       "         [0.0400],\n",
       "         [0.0600],\n",
       "         [0.0800],\n",
       "         [0.1000],\n",
       "         [0.1200],\n",
       "         [0.1400],\n",
       "         [0.1600],\n",
       "         [0.1800]]),\n",
       " tensor([[0.3000],\n",
       "         [0.3140],\n",
       "         [0.3280],\n",
       "         [0.3420],\n",
       "         [0.3560],\n",
       "         [0.3700],\n",
       "         [0.3840],\n",
       "         [0.3980],\n",
       "         [0.4120],\n",
       "         [0.4260]]),\n",
       " torch.Size([50, 1]))"
      ]
     },
     "execution_count": 24,
     "metadata": {},
     "output_type": "execute_result"
    }
   ],
   "source": [
    "import torch\n",
    "from torch import nn\n",
    "import matplotlib.pyplot as plt\n",
    "\n",
    "weight = 0.7\n",
    "bias = 0.3\n",
    "\n",
    "X = torch.arange(0,1,0.02).unsqueeze(dim=1)\n",
    "y = X*weight + bias\n",
    "\n",
    "X[:10],y[:10],X.size()"
   ]
  },
  {
   "cell_type": "code",
   "execution_count": 25,
   "id": "51c9dba0",
   "metadata": {},
   "outputs": [
    {
     "data": {
      "text/plain": [
       "(40, 10, 40, 10)"
      ]
     },
     "execution_count": 25,
     "metadata": {},
     "output_type": "execute_result"
    }
   ],
   "source": [
    "train_split = int(len(X)*0.8)\n",
    "X_train,y_train = X[:train_split],y[:train_split]\n",
    "X_test,y_test = X[train_split:],y[train_split:]\n",
    "\n",
    "len(X_train),len(X_test),len(y_train),len(y_test)"
   ]
  },
  {
   "cell_type": "code",
   "execution_count": 26,
   "id": "2e03f7a7",
   "metadata": {},
   "outputs": [],
   "source": [
    "import torch\n",
    "from torch import nn\n",
    "import matplotlib.pyplot as plt\n",
    "\n",
    "class LinearRegressionModel(nn.Module):\n",
    "    def __init__(self):\n",
    "        super().__init__()\n",
    "        self.weights = nn.Parameter(torch.randn(1,dtype=torch.float),\n",
    "                                               requires_grad=True\n",
    "                                               )\n",
    "        self.bias = nn.Parameter(torch.randn(1,dtype=torch.float),\n",
    "                                            requires_grad=True\n",
    "                                            )\n",
    "        \n",
    "    def forward(self,x: torch.Tensor) -> torch.Tensor:\n",
    "            return self.weights * x + self.bias\n",
    "\n"
   ]
  },
  {
   "cell_type": "code",
   "execution_count": 27,
   "id": "464715c2",
   "metadata": {},
   "outputs": [
    {
     "data": {
      "text/plain": [
       "[Parameter containing:\n",
       " tensor([0.3367], requires_grad=True),\n",
       " Parameter containing:\n",
       " tensor([0.1288], requires_grad=True)]"
      ]
     },
     "execution_count": 27,
     "metadata": {},
     "output_type": "execute_result"
    }
   ],
   "source": [
    "torch.manual_seed(42)\n",
    "\n",
    "model_0 = LinearRegressionModel()\n",
    "list(model_0.parameters())"
   ]
  },
  {
   "cell_type": "code",
   "execution_count": 28,
   "id": "49d2d763",
   "metadata": {},
   "outputs": [
    {
     "data": {
      "text/plain": [
       "OrderedDict([('weights', tensor([0.3367])), ('bias', tensor([0.1288]))])"
      ]
     },
     "execution_count": 28,
     "metadata": {},
     "output_type": "execute_result"
    }
   ],
   "source": [
    "model_0.state_dict()"
   ]
  },
  {
   "cell_type": "code",
   "execution_count": 29,
   "id": "a97b29fd",
   "metadata": {
    "scrolled": true
   },
   "outputs": [
    {
     "data": {
      "text/plain": [
       "(10,\n",
       " 10,\n",
       " tensor([[0.3982],\n",
       "         [0.4049],\n",
       "         [0.4116],\n",
       "         [0.4184],\n",
       "         [0.4251],\n",
       "         [0.4318],\n",
       "         [0.4386],\n",
       "         [0.4453],\n",
       "         [0.4520],\n",
       "         [0.4588]]))"
      ]
     },
     "execution_count": 29,
     "metadata": {},
     "output_type": "execute_result"
    }
   ],
   "source": [
    "with torch.inference_mode():\n",
    "    y_preds = model_0(X_test)\n",
    "    \n",
    "len(X_test),len(y_preds),y_preds"
   ]
  },
  {
   "cell_type": "code",
   "execution_count": 30,
   "id": "2a951566",
   "metadata": {},
   "outputs": [],
   "source": [
    "# def plot_predictions(train_data = X_train,\n",
    "#                     train_label = y_train,\n",
    "#                     test_data= X_test,\n",
    "#                     test_label = y_test,\n",
    "#                     predictions = None):\n",
    "    \n",
    "#     plt.figure(figsize=(10,7))\n",
    "    \n",
    "#     plt.scatter(train_data,train_label,c='b',s=4,label='Training Data')\n",
    "    \n",
    "#     plt.scatter(test_data,test_label,c='r',s=4,label='Test Data')\n",
    "    \n",
    "#     if predictions is not None:\n",
    "#         plt.scatter(test_data,predicitons,c='g',s=4,label='predictions')\n",
    "        \n",
    "#     plt.legend(prop={'size':14})\n",
    "        \n",
    "\n",
    "\n",
    "def plot_predictions(train_data=X_train, \n",
    "                     train_labels=y_train, \n",
    "                     test_data=X_test,\n",
    "                     test_labels = y_test,\n",
    "                     predictions=None):\n",
    "  \"\"\"\n",
    "  Plots training data, test data and compares predictions.\n",
    "  \"\"\"\n",
    "  plt.figure(figsize=(10, 7))\n",
    "\n",
    "  # Plot training data in blue\n",
    "  plt.scatter(train_data, train_labels, c=\"b\", s=4, label=\"Training data\")\n",
    "  \n",
    "  # Plot test data in green\n",
    "  plt.scatter(test_data, test_labels, c=\"g\", s=4, label=\"Testing data\")\n",
    "\n",
    "  if predictions is not None:\n",
    "    # Plot the predictions in red (predictions were made on the test data)\n",
    "    plt.scatter(test_data, predictions, c=\"r\", s=4, label=\"Predictions\")\n",
    "\n",
    "  # Show the legend\n",
    "  plt.legend(prop={\"size\": 14});"
   ]
  },
  {
   "cell_type": "code",
   "execution_count": 31,
   "id": "ec06d90e",
   "metadata": {
    "scrolled": false
   },
   "outputs": [
    {
     "data": {
      "image/png": "[encoded data removed]",
      "text/plain": [
       "<Figure size 1000x700 with 1 Axes>"
      ]
     },
     "metadata": {},
     "output_type": "display_data"
    }
   ],
   "source": [
    "plot_predictions(predictions=y_preds)\n"
   ]
  },
  {
   "cell_type": "code",
   "execution_count": 32,
   "id": "13f872ac",
   "metadata": {
    "scrolled": true
   },
   "outputs": [
    {
     "data": {
      "text/plain": [
       "tensor([[0.4618],\n",
       "        [0.4691],\n",
       "        [0.4764],\n",
       "        [0.4836],\n",
       "        [0.4909],\n",
       "        [0.4982],\n",
       "        [0.5054],\n",
       "        [0.5127],\n",
       "        [0.5200],\n",
       "        [0.5272]])"
      ]
     },
     "execution_count": 32,
     "metadata": {},
     "output_type": "execute_result"
    }
   ],
   "source": [
    "y_test-y_preds"
   ]
  },
  {
   "cell_type": "code",
   "execution_count": 33,
   "id": "94d128e9",
   "metadata": {},
   "outputs": [],
   "source": [
    "loss_fn = nn.L1Loss()\n",
    "\n",
    "optimizer = torch.optim.SGD(params=model_0.parameters(),lr=0.01)"
   ]
  },
  {
   "cell_type": "raw",
   "id": "6c61367a",
   "metadata": {},
   "source": [
    "epochs = 100\n",
    "\n",
    "epoch_count = []\n",
    "loss_value = []\n",
    "test_loss_value = []\n",
    "\n",
    "for epoch in range(epochs):\n",
    "    \n",
    "    #training\n",
    "    model_0.train()\n",
    "    \n",
    "    y_pred = model_0(X_test)\n",
    "    \n",
    "    loss = loss_fn(y_pred,y_train)\n",
    "    \n",
    "    optimizer.zero_grad()\n",
    "    \n",
    "    loss.backward()\n",
    "    \n",
    "    optimizer.step()\n",
    "    \n",
    "    #testing\n",
    "    model_0.eval()\n",
    "    \n",
    "    with torch.inference_mode():\n",
    "        test_pred = model_0(X_test)\n",
    "        \n",
    "        test_loss = loss_fn(test_pred,y_test.type(torch.float))\n",
    "        \n",
    "        if epoch % 10 == 0:\n",
    "            epoch_count.append(epoch.detach().numpy())\n",
    "            loss_value.append(loss.detach().numpy())\n",
    "            test_loss_value.append(test_loss.detach().numpy())\n",
    "            print(f'epoch:{epoch_count},loss value:{loss_value},test loss:{test_loss}')\n",
    "            \n",
    "    "
   ]
  },
  {
   "cell_type": "raw",
   "id": "c30fcbd4",
   "metadata": {},
   "source": [
    "epochs = 100\n",
    "\n",
    "# Create empty loss lists to track values\n",
    "train_loss_values = []\n",
    "test_loss_values = []\n",
    "epoch_count = []\n",
    "\n",
    "for epoch in range(epochs):\n",
    "    ### Training\n",
    "\n",
    "    # Put model in training mode (this is the default state of a model)\n",
    "    model_0.train()\n",
    "\n",
    "    # 1. Forward pass on train data using the forward() method inside \n",
    "    y_pred = model_0(X_train)\n",
    "    # print(y_pred)\n",
    "\n",
    "    # 2. Calculate the loss (how different are our models predictions to the ground truth)\n",
    "    loss = loss_fn(y_pred, y_train)\n",
    "\n",
    "    # 3. Zero grad of the optimizer\n",
    "    optimizer.zero_grad()\n",
    "\n",
    "    # 4. Loss backwards\n",
    "    loss.backward()\n",
    "\n",
    "    # 5. Progress the optimizer\n",
    "    optimizer.step()\n",
    "\n",
    "    ### Testing\n",
    "\n",
    "    # Put the model in evaluation mode\n",
    "    model_0.eval()\n",
    "\n",
    "    with torch.inference_mode():\n",
    "      # 1. Forward pass on test data\n",
    "      test_pred = model_0(X_test)\n",
    "\n",
    "      # 2. Caculate loss on test data\n",
    "      test_loss = loss_fn(test_pred, y_test.type(torch.float)) # predictions come in torch.float datatype, so comparisons need to be done with tensors of the same type\n",
    "\n",
    "      # Print out what's happening\n",
    "      if epoch % 10 == 0:\n",
    "            epoch_count.append(epoch)\n",
    "            train_loss_values.append(loss.detach().numpy())\n",
    "            test_loss_values.append(test_loss.detach().numpy())\n",
    "            print(f\"Epoch: {epoch} | MAE Train Loss: {loss} | MAE Test Loss: {test_loss} \")"
   ]
  },
  {
   "cell_type": "code",
   "execution_count": 34,
   "id": "ad52dae3",
   "metadata": {},
   "outputs": [
    {
     "name": "stdout",
     "output_type": "stream",
     "text": [
      "epoch:0,loss:0.31288138031959534,test_loss:0.48106518387794495\n",
      "epoch:10,loss:0.1976713240146637,test_loss:0.3463551998138428\n",
      "epoch:20,loss:0.08908725529909134,test_loss:0.21729660034179688\n",
      "epoch:30,loss:0.053148526698350906,test_loss:0.14464017748832703\n",
      "epoch:40,loss:0.04543796554207802,test_loss:0.11360953003168106\n",
      "epoch:50,loss:0.04167863354086876,test_loss:0.09919948130846024\n",
      "epoch:60,loss:0.03818932920694351,test_loss:0.08886633068323135\n",
      "epoch:70,loss:0.03476089984178543,test_loss:0.0805937647819519\n",
      "epoch:80,loss:0.03132382780313492,test_loss:0.07232122868299484\n",
      "epoch:90,loss:0.02788739837706089,test_loss:0.06473556160926819\n",
      "\n",
      "show list:\n",
      "epoch:[0, 10, 20, 30, 40, 50, 60, 70, 80, 90]\n",
      "loss:[array(0.31288138, dtype=float32), array(0.19767132, dtype=float32), array(0.08908726, dtype=float32), array(0.05314853, dtype=float32), array(0.04543797, dtype=float32), array(0.04167863, dtype=float32), array(0.03818933, dtype=float32), array(0.0347609, dtype=float32), array(0.03132383, dtype=float32), array(0.0278874, dtype=float32)]\n",
      "test_loss:[array(0.48106518, dtype=float32), array(0.3463552, dtype=float32), array(0.2172966, dtype=float32), array(0.14464018, dtype=float32), array(0.11360953, dtype=float32), array(0.09919948, dtype=float32), array(0.08886633, dtype=float32), array(0.08059376, dtype=float32), array(0.07232123, dtype=float32), array(0.06473556, dtype=float32)]\n"
     ]
    }
   ],
   "source": [
    "# torch.manual_seed(42)\n",
    "\n",
    "epochs = 100\n",
    "\n",
    "epoch_count = []\n",
    "train_loss_values = []\n",
    "test_loss_values = []\n",
    "\n",
    "for epoch in range(epochs):\n",
    "    \n",
    "    model_0.train()\n",
    "    \n",
    "    y_preds = model_0(X_train)\n",
    "    \n",
    "    loss = loss_fn(y_preds , y_train)  \n",
    "#     loss = nn.L1Loss()(y_preds, y_train)\n",
    "    \n",
    "    optimizer.zero_grad()\n",
    "    \n",
    "    loss.backward()\n",
    "    \n",
    "    optimizer.step()\n",
    "    \n",
    "    model_0.eval()\n",
    "    \n",
    "    with torch.inference_mode():\n",
    "        \n",
    "        test_pred = model_0(X_test)\n",
    "        \n",
    "        test_loss = loss_fn(test_pred,y_test.type(torch.float))\n",
    "        \n",
    "        if epoch % 10 == 0:\n",
    "            epoch_count.append(epoch)\n",
    "            train_loss_values.append(loss.detach().numpy())\n",
    "            test_loss_values.append(test_loss.detach().numpy())\n",
    "            print(f'epoch:{epoch},loss:{loss},test_loss:{test_loss}') \n",
    "print(f'\\nshow list:\\nepoch:{epoch_count}\\nloss:{train_loss_values}\\ntest_loss:{test_loss_values}')\n",
    "\n",
    "        \n",
    "#     if epoch % 10 == 0:\n",
    "#         epoch_count.append(epoch)\n",
    "#         train_loss_values.append(loss.detach().numpy())\n",
    "#         test_loss_values.append(test_loss.detach().numpy())\n",
    "#         print(f\"Epoch: {epoch} | MAE Train Loss: {loss} | MAE Test Loss: {test_loss} \")"
   ]
  },
  {
   "cell_type": "code",
   "execution_count": 35,
   "id": "a724d16a",
   "metadata": {
    "scrolled": false
   },
   "outputs": [
    {
     "data": {
      "image/png": "[encoded data removed]",
      "text/plain": [
       "<Figure size 640x480 with 1 Axes>"
      ]
     },
     "metadata": {},
     "output_type": "display_data"
    }
   ],
   "source": [
    "plt.plot(epoch_count,train_loss_values,label=\"Train loss\")\n",
    "plt.plot(epoch_count, test_loss_values, label=\"Test loss\")\n",
    "plt.title(\"training and test loss curves\")\n",
    "plt.xlabel('epoch')\n",
    "plt.ylabel('loss')\n",
    "plt.legend();"
   ]
  },
  {
   "cell_type": "code",
   "execution_count": 36,
   "id": "d04bce16",
   "metadata": {
    "scrolled": true
   },
   "outputs": [
    {
     "name": "stdout",
     "output_type": "stream",
     "text": [
      "model has learned\n",
      "OrderedDict([('weights', tensor([0.5784])), ('bias', tensor([0.3513]))])\n",
      "original values are as followes weight:0.7, bias:0.3\n"
     ]
    }
   ],
   "source": [
    "print(f\"model has learned\\n{model_0.state_dict()}\")\n",
    "print(f\"original values are as followes weight:{weight}, bias:{bias}\")"
   ]
  },
  {
   "cell_type": "code",
   "execution_count": 37,
   "id": "9fe27b38",
   "metadata": {
    "scrolled": true
   },
   "outputs": [
    {
     "data": {
      "text/plain": [
       "tensor([[0.8141],\n",
       "        [0.8256],\n",
       "        [0.8372],\n",
       "        [0.8488],\n",
       "        [0.8603],\n",
       "        [0.8719],\n",
       "        [0.8835],\n",
       "        [0.8950],\n",
       "        [0.9066],\n",
       "        [0.9182]])"
      ]
     },
     "execution_count": 37,
     "metadata": {},
     "output_type": "execute_result"
    }
   ],
   "source": [
    "with torch.inference_mode():\n",
    "    y_preds = model_0(X_test)\n",
    "    \n",
    "y_preds    "
   ]
  },
  {
   "cell_type": "code",
   "execution_count": 38,
   "id": "cf309fca",
   "metadata": {
    "scrolled": false
   },
   "outputs": [
    {
     "data": {
      "image/png": "[encoded data removed]",
      "text/plain": [
       "<Figure size 1000x700 with 1 Axes>"
      ]
     },
     "metadata": {},
     "output_type": "display_data"
    }
   ],
   "source": [
    "plot_predictions(predictions=y_preds)"
   ]
  },
  {
   "cell_type": "code",
   "execution_count": 39,
   "id": "7b2391e4",
   "metadata": {
    "scrolled": true
   },
   "outputs": [
    {
     "name": "stdout",
     "output_type": "stream",
     "text": [
      "saving model to Model\\01_pytorch_workflow_model_0.pth\n"
     ]
    }
   ],
   "source": [
    "from pathlib import Path\n",
    "\n",
    "model_path = Path(\"Model\")\n",
    "model_path.mkdir(parents=True,exist_ok=True)\n",
    "\n",
    "model_name = \"01_pytorch_workflow_model_0.pth\"\n",
    "model_path = model_path / model_name\n",
    "\n",
    "print(f\"saving model to {model_path}\")\n",
    "torch.save(obj=model_0.state_dict(),\n",
    "          f=model_path)\n"
   ]
  },
  {
   "cell_type": "code",
   "execution_count": 51,
   "id": "f4e0f08b",
   "metadata": {},
   "outputs": [
    {
     "name": "stdout",
     "output_type": "stream",
     "text": [
      "suffix:.pth| file name: 01_pytorch_workflow_model_0.pth |file location:Model\\01_pytorch_workflow_model_0.pth\n",
      "suffix:.pth| file name: computerVision_model_2.pth |file location:Model\\computerVision_model_2.pth\n"
     ]
    }
   ],
   "source": [
    "for file in Path(\"Model\").glob(\"*.pth\"):\n",
    "    print(f'suffix:{file.suffix}|',f'file name: {file.name}',f'|file location:{file}')\n"
   ]
  },
  {
   "cell_type": "code",
   "execution_count": 41,
   "id": "5bdd71aa",
   "metadata": {},
   "outputs": [
    {
     "data": {
      "text/plain": [
       "<All keys matched successfully>"
      ]
     },
     "execution_count": 41,
     "metadata": {},
     "output_type": "execute_result"
    }
   ],
   "source": [
    "loaded_model_0 = LinearRegressionModel()\n",
    "\n",
    "loaded_model_0.load_state_dict(torch.load(f=model_path))"
   ]
  },
  {
   "cell_type": "code",
   "execution_count": 42,
   "id": "2b68c499",
   "metadata": {},
   "outputs": [],
   "source": [
    "loaded_model_0.eval()\n",
    "\n",
    "with torch.inference_mode():\n",
    "    loaded_model_preds = loaded_model_0(X_test)\n",
    "    "
   ]
  },
  {
   "cell_type": "code",
   "execution_count": 43,
   "id": "20d4b772",
   "metadata": {},
   "outputs": [
    {
     "data": {
      "text/plain": [
       "tensor([[True],\n",
       "        [True],\n",
       "        [True],\n",
       "        [True],\n",
       "        [True],\n",
       "        [True],\n",
       "        [True],\n",
       "        [True],\n",
       "        [True],\n",
       "        [True]])"
      ]
     },
     "execution_count": 43,
     "metadata": {},
     "output_type": "execute_result"
    }
   ],
   "source": [
    "y_preds == loaded_model_preds\n"
   ]
  },
  {
   "cell_type": "code",
   "execution_count": 44,
   "id": "6b03c245",
   "metadata": {
    "scrolled": true
   },
   "outputs": [
    {
     "data": {
      "image/png": "[encoded data removed]",
      "text/plain": [
       "<Figure size 1000x700 with 1 Axes>"
      ]
     },
     "metadata": {},
     "output_type": "display_data"
    }
   ],
   "source": [
    "plot_predictions(predictions=loaded_model_preds)"
   ]
  },
  {
   "cell_type": "code",
   "execution_count": 45,
   "id": "a0e0c870",
   "metadata": {
    "scrolled": true
   },
   "outputs": [
    {
     "data": {
      "text/plain": [
       "device(type='cpu')"
      ]
     },
     "execution_count": 45,
     "metadata": {},
     "output_type": "execute_result"
    }
   ],
   "source": [
    "next(loaded_model_0.parameters()).device\n"
   ]
  }
 ],
 "metadata": {
  "kernelspec": {
   "display_name": "freecodecamp_pytorch",
   "language": "python",
   "name": "freecodecamp_pytorch"
  },
  "language_info": {
   "codemirror_mode": {
    "name": "ipython",
    "version": 3
   },
   "file_extension": ".py",
   "mimetype": "text/x-python",
   "name": "python",
   "nbconvert_exporter": "python",
   "pygments_lexer": "ipython3",
   "version": "3.10.6"
  }
 },
 "nbformat": 4,
 "nbformat_minor": 5
}
