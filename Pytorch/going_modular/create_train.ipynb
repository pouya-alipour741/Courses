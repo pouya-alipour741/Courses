{
 "cells": [
  {
   "cell_type": "code",
   "execution_count": 11,
   "id": "15320c0a",
   "metadata": {},
   "outputs": [
    {
     "name": "stdout",
     "output_type": "stream",
     "text": [
      "Overwriting going_modular/train.py\n"
     ]
    }
   ],
   "source": [
    "%%writefile going_modular/train.py\n",
    "\n",
    "\"\"\"\n",
    "Trains a PyTorch image classification model using device-agnostic code.\n",
    "\"\"\"\n",
    "\n",
    "import torch\n",
    "import data_setup, engine, model_builder, utils\n",
    "from torchvision import transforms\n",
    "\n",
    "# hyperparameters\n",
    "EPOCHS = 5\n",
    "BATCH_SIZE = 32\n",
    "LEARNING_RATE = 0.001\n",
    "HIDDEN_UNITS = 10\n",
    "\n",
    "\n",
    "# directories\n",
    "train_dir = r\"C:\\Users\\pouya\\jupyter projects\\PyTorch_for Deep Learning_Machine Learning\\going_modular\\data\\pizza_steak_sushi\\train\"\n",
    "test_dir = r\"C:\\Users\\pouya\\jupyter projects\\PyTorch_for Deep Learning_Machine Learning\\going_modular\\data\\pizza_steak_sushi\\test\"\n",
    "\n",
    "# target device\n",
    "device = \"cuda\" if torch.cuda.is_available() else \"cpu\"\n",
    "\n",
    "# transforms\n",
    "data_transform = transforms.Compose([\n",
    "    transforms.Resize((64,64)),\n",
    "    transforms.ToTensor()   \n",
    "])\n",
    "\n",
    "train_dataloader, test_dataloader, class_names = data_setup.create_dataloaders(train_dir,\n",
    "                            test_dir,\n",
    "                            data_transform,\n",
    "                            BATCH_SIZE,\n",
    "                            num_workers=2)\n",
    "\n",
    "model = model_builder.TinyVGG(\n",
    "        input_shape=3,\n",
    "        hidden_units=HIDDEN_UNITS,\n",
    "        output_shape=len(class_names)\n",
    "    \n",
    "        ).to(device)\n",
    "\n",
    "##set up loss and optimizer functions\n",
    "criterion = torch.nn.CrossEntropyLoss()\n",
    "optimizer = torch.optim.Adam(model.parameters(),\n",
    "                           lr=LEARNING_RATE)\n",
    "\n",
    "results = engine.train(model,\n",
    "            train_dataloader,\n",
    "            test_dataloader,\n",
    "            criterion,\n",
    "            optimizer,\n",
    "            EPOCHS,\n",
    "            device)\n",
    "\n",
    "utils.save_model(model,\n",
    "                directory=\"models\",\n",
    "                model_name=\"going_modular_script_mode_tinyvgg_model.pth\")"
   ]
  },
  {
   "cell_type": "code",
   "execution_count": null,
   "id": "b6bfab30",
   "metadata": {},
   "outputs": [],
   "source": []
  }
 ],
 "metadata": {
  "kernelspec": {
   "display_name": "Python 3 (ipykernel)",
   "language": "python",
   "name": "python3"
  },
  "language_info": {
   "codemirror_mode": {
    "name": "ipython",
    "version": 3
   },
   "file_extension": ".py",
   "mimetype": "text/x-python",
   "name": "python",
   "nbconvert_exporter": "python",
   "pygments_lexer": "ipython3",
   "version": "3.9.12"
  }
 },
 "nbformat": 4,
 "nbformat_minor": 5
}
