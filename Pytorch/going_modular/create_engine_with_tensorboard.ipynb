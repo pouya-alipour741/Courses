{
 "cells": [
  {
   "cell_type": "code",
   "execution_count": 8,
   "id": "7351eba8",
   "metadata": {},
   "outputs": [
    {
     "name": "stdout",
     "output_type": "stream",
     "text": [
      "Overwriting going_modular/engine_with_tensorboard.py\n"
     ]
    }
   ],
   "source": [
    "%%writefile going_modular/engine_with_tensorboard.py\n",
    "\n",
    "from going_modular.going_modular.engine import train_step,test_step\n",
    "from tqdm.auto import tqdm\n",
    "from collections import defaultdict\n",
    "import torch\n",
    "from time import perf_counter\n",
    "from torch.utils.tensorboard import SummaryWriter\n",
    "\n",
    "writer = SummaryWriter()\n",
    "\n",
    "def train(model,\n",
    "         train_dataloader,\n",
    "        test_dataloader,\n",
    "         loss_fn,\n",
    "         optimizer,\n",
    "         device,\n",
    "         epochs = 5):\n",
    "    \n",
    "    results = defaultdict(list)\n",
    "    \n",
    "    train_start_time = perf_counter()\n",
    "    \n",
    "    for epoch in tqdm(range(epochs)):\n",
    "        train_loss, train_acc = train_step(model,\n",
    "                  train_dataloader,\n",
    "                  loss_fn,\n",
    "                  optimizer,\n",
    "                  device)\n",
    "\n",
    "        test_loss,test_acc  = test_step(model,\n",
    "                 test_dataloader,\n",
    "                 loss_fn,\n",
    "                 device)\n",
    "        \n",
    "        print(\n",
    "          f\"Epoch: {epoch+1} | \"\n",
    "          f\"train_loss: {train_loss:.4f} | \"\n",
    "          f\"train_acc: {train_acc:.4f} | \"\n",
    "          f\"test_loss: {test_loss:.4f} | \"\n",
    "          f\"test_acc: {test_acc:.4f}\"\n",
    "        )\n",
    "        \n",
    "        results[\"train_loss\"].append(train_loss)\n",
    "        results[\"train_acc\"].append(train_acc)\n",
    "        results[\"test_loss\"].append(test_loss)\n",
    "        results[\"test_acc\"].append(test_acc)\n",
    "        \n",
    "        ##Experiment tracking\n",
    "        writer.add_scalars(main_tag=\"Loss\",\n",
    "                        tag_scalar_dict={\"train_loss\":train_loss,\"test_loss\":test_loss},\n",
    "                          global_step=epoch) \n",
    "        \n",
    "        writer.add_scalars(main_tag=\"Accuracy\",\n",
    "                          tag_scalar_dict={\"train_acc\":train_acc,\"test_acc\":test_acc},\n",
    "                          global_step=epoch)\n",
    "        \n",
    "        writer.add_graph(model=model,\n",
    "                         ## pass in an example input\n",
    "                        input_to_model=torch.randn(32,3,224,224).to(device))\n",
    "        \n",
    "        train_end_time = perf_counter()\n",
    "        \n",
    "        print(f\"total train time took {train_end_time-train_start_time:.2f} seconds on {device}\")\n",
    "    writer.close()\n",
    "    \n",
    "    return results\n",
    "         "
   ]
  }
 ],
 "metadata": {
  "kernelspec": {
   "display_name": "Python 3 (ipykernel)",
   "language": "python",
   "name": "python3"
  },
  "language_info": {
   "codemirror_mode": {
    "name": "ipython",
    "version": 3
   },
   "file_extension": ".py",
   "mimetype": "text/x-python",
   "name": "python",
   "nbconvert_exporter": "python",
   "pygments_lexer": "ipython3",
   "version": "3.9.12"
  }
 },
 "nbformat": 4,
 "nbformat_minor": 5
}
