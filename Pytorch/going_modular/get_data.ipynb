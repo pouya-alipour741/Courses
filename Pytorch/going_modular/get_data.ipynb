{
 "cells": [
  {
   "cell_type": "code",
   "execution_count": 22,
   "id": "192c3147",
   "metadata": {},
   "outputs": [],
   "source": [
    "from pathlib import Path\n",
    "import requests\n",
    "import zipfile\n",
    "import os\n",
    "\n",
    "data_address = r\"https://github.com/mrdbourke/pytorch-deep-learning/raw/main/data/pizza_steak_sushi.zip\""
   ]
  },
  {
   "cell_type": "code",
   "execution_count": 19,
   "id": "6574937b",
   "metadata": {},
   "outputs": [],
   "source": [
    "data_path = Path(\"data/\")\n",
    "image_path = data_path/\"pizza_steak_sushi\""
   ]
  },
  {
   "cell_type": "code",
   "execution_count": 24,
   "id": "24ab7e3e",
   "metadata": {},
   "outputs": [
    {
     "name": "stdout",
     "output_type": "stream",
     "text": [
      "downloading data\n"
     ]
    }
   ],
   "source": [
    "if image_path.is_dir():\n",
    "    print(f\"{image_path} directory exists.\")\n",
    "else:\n",
    "    print(\"downloading data\")\n",
    "    image_path.mkdir(parents=True,exist_ok=True)\n",
    "\n",
    "with open(data_path/\"pizza_steak_sushi.zip\", \"wb\") as f:\n",
    "    request = requests.get(data_address)\n",
    "    f.write(request.content)\n",
    "with zipfile.ZipFile(data_path/\"pizza_steak_sushi.zip\", \"r\") as zip_ref:\n",
    "    zip_ref.extractall(image_path)\n",
    "    \n",
    "os.remove(data_path/\"pizza_steak_sushi.zip\")\n",
    "        \n",
    "    "
   ]
  }
 ],
 "metadata": {
  "kernelspec": {
   "display_name": "Python 3 (ipykernel)",
   "language": "python",
   "name": "python3"
  },
  "language_info": {
   "codemirror_mode": {
    "name": "ipython",
    "version": 3
   },
   "file_extension": ".py",
   "mimetype": "text/x-python",
   "name": "python",
   "nbconvert_exporter": "python",
   "pygments_lexer": "ipython3",
   "version": "3.9.12"
  }
 },
 "nbformat": 4,
 "nbformat_minor": 5
}
