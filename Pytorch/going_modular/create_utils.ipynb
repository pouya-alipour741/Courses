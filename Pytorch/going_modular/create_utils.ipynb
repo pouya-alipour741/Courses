{
 "cells": [
  {
   "cell_type": "code",
   "execution_count": 1,
   "id": "39e49a3e",
   "metadata": {},
   "outputs": [
    {
     "name": "stdout",
     "output_type": "stream",
     "text": [
      "Overwriting going_modular/utils.py\n"
     ]
    }
   ],
   "source": [
    "%%writefile going_modular/utils.py\n",
    "\n",
    "\"\"\"\n",
    "Contains various utility functions for PyTorch model training and saving.\n",
    "\"\"\"\n",
    "import torch\n",
    "from pathlib import Path\n",
    "\n",
    "def save_model(model,\n",
    "               directory,\n",
    "              model_name):\n",
    "    \"\"\"save a model to a directory\n",
    "    \n",
    "    Args:\n",
    "        model\n",
    "        directory\n",
    "        model_name\n",
    "    example:\n",
    "        save_model(model=model_0,\n",
    "        target_dir=\"models\",\n",
    "        model_name=\"05_going_modular_tingvgg_model.pth\")\n",
    "    \"\"\"\n",
    "    directory_path = Path(directory)\n",
    "    directory_path.mkdir(parents=True,exist_ok=True)\n",
    "    \n",
    "    assert model_name.endswith(\"pth\") or model_name.endswith(\"th\") \n",
    "    model_save_path = directory_path/model_name\n",
    "    \n",
    "    print(f\"saving model to {model_save_path}\")\n",
    "\n",
    "    torch.save(obj=model.state_dict(),\n",
    "              f=model_save_path)\n",
    "    \n",
    "    "
   ]
  }
 ],
 "metadata": {
  "kernelspec": {
   "display_name": "Python 3 (ipykernel)",
   "language": "python",
   "name": "python3"
  },
  "language_info": {
   "codemirror_mode": {
    "name": "ipython",
    "version": 3
   },
   "file_extension": ".py",
   "mimetype": "text/x-python",
   "name": "python",
   "nbconvert_exporter": "python",
   "pygments_lexer": "ipython3",
   "version": "3.9.12"
  }
 },
 "nbformat": 4,
 "nbformat_minor": 5
}
