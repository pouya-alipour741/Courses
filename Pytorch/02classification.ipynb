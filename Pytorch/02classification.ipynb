{
 "cells": [
  {
   "cell_type": "code",
   "execution_count": 57,
   "metadata": {
    "colab": {
     "base_uri": "https://localhost:8080/"
    },
    "id": "evV6gzUknzaX",
    "outputId": "f54ca116-bc52-4d6d-d3dc-2c78a57a2075"
   },
   "outputs": [
    {
     "name": "stdout",
     "output_type": "stream",
     "text": [
      "using cuda\n"
     ]
    }
   ],
   "source": [
    "import torch\n",
    "from torch import nn\n",
    "import matplotlib.pyplot as plt\n",
    "\n",
    "device = \"cuda\" if torch.cuda.is_available() else \"cpu\"\n",
    "print(f\"using {device}\")\n"
   ]
  },
  {
   "cell_type": "code",
   "execution_count": 58,
   "metadata": {
    "colab": {
     "base_uri": "https://localhost:8080/",
     "height": 448
    },
    "id": "3IEJAyHUpI1Z",
    "outputId": "ada1214d-7cb2-4ff4-fd49-c75cfa8c6e02"
   },
   "outputs": [
    {
     "data": {
      "text/plain": [
       "(array([[ 0.75424625,  0.23148074],\n",
       "        [-0.75615888,  0.15325888],\n",
       "        [-0.81539193,  0.17328203],\n",
       "        [-0.39373073,  0.69288277],\n",
       "        [ 0.44220765, -0.89672343]]),\n",
       " array([1, 1, 1, 1, 0], dtype=int64))"
      ]
     },
     "execution_count": 58,
     "metadata": {},
     "output_type": "execute_result"
    }
   ],
   "source": [
    "import sklearn\n",
    "\n",
    "from sklearn.datasets import make_circles\n",
    "\n",
    "n_samples = 1000\n",
    "X,y = make_circles(n_samples,\n",
    "                  noise= 0.03,\n",
    "                  random_state=42)\n",
    "\n",
    "X[:5],y[:5]"
   ]
  },
  {
   "cell_type": "code",
   "execution_count": 59,
   "metadata": {
    "scrolled": false
   },
   "outputs": [
    {
     "data": {
      "text/html": [
       "<div>\n",
       "<style scoped>\n",
       "    .dataframe tbody tr th:only-of-type {\n",
       "        vertical-align: middle;\n",
       "    }\n",
       "\n",
       "    .dataframe tbody tr th {\n",
       "        vertical-align: top;\n",
       "    }\n",
       "\n",
       "    .dataframe thead th {\n",
       "        text-align: right;\n",
       "    }\n",
       "</style>\n",
       "<table border=\"1\" class=\"dataframe\">\n",
       "  <thead>\n",
       "    <tr style=\"text-align: right;\">\n",
       "      <th></th>\n",
       "      <th>X1</th>\n",
       "      <th>X2</th>\n",
       "      <th>label</th>\n",
       "    </tr>\n",
       "  </thead>\n",
       "  <tbody>\n",
       "    <tr>\n",
       "      <th>0</th>\n",
       "      <td>0.754246</td>\n",
       "      <td>0.231481</td>\n",
       "      <td>1</td>\n",
       "    </tr>\n",
       "    <tr>\n",
       "      <th>1</th>\n",
       "      <td>-0.756159</td>\n",
       "      <td>0.153259</td>\n",
       "      <td>1</td>\n",
       "    </tr>\n",
       "    <tr>\n",
       "      <th>2</th>\n",
       "      <td>-0.815392</td>\n",
       "      <td>0.173282</td>\n",
       "      <td>1</td>\n",
       "    </tr>\n",
       "    <tr>\n",
       "      <th>3</th>\n",
       "      <td>-0.393731</td>\n",
       "      <td>0.692883</td>\n",
       "      <td>1</td>\n",
       "    </tr>\n",
       "    <tr>\n",
       "      <th>4</th>\n",
       "      <td>0.442208</td>\n",
       "      <td>-0.896723</td>\n",
       "      <td>0</td>\n",
       "    </tr>\n",
       "    <tr>\n",
       "      <th>5</th>\n",
       "      <td>-0.479646</td>\n",
       "      <td>0.676435</td>\n",
       "      <td>1</td>\n",
       "    </tr>\n",
       "    <tr>\n",
       "      <th>6</th>\n",
       "      <td>-0.013648</td>\n",
       "      <td>0.803349</td>\n",
       "      <td>1</td>\n",
       "    </tr>\n",
       "    <tr>\n",
       "      <th>7</th>\n",
       "      <td>0.771513</td>\n",
       "      <td>0.147760</td>\n",
       "      <td>1</td>\n",
       "    </tr>\n",
       "    <tr>\n",
       "      <th>8</th>\n",
       "      <td>-0.169322</td>\n",
       "      <td>-0.793456</td>\n",
       "      <td>1</td>\n",
       "    </tr>\n",
       "    <tr>\n",
       "      <th>9</th>\n",
       "      <td>-0.121486</td>\n",
       "      <td>1.021509</td>\n",
       "      <td>0</td>\n",
       "    </tr>\n",
       "  </tbody>\n",
       "</table>\n",
       "</div>"
      ],
      "text/plain": [
       "         X1        X2  label\n",
       "0  0.754246  0.231481      1\n",
       "1 -0.756159  0.153259      1\n",
       "2 -0.815392  0.173282      1\n",
       "3 -0.393731  0.692883      1\n",
       "4  0.442208 -0.896723      0\n",
       "5 -0.479646  0.676435      1\n",
       "6 -0.013648  0.803349      1\n",
       "7  0.771513  0.147760      1\n",
       "8 -0.169322 -0.793456      1\n",
       "9 -0.121486  1.021509      0"
      ]
     },
     "execution_count": 59,
     "metadata": {},
     "output_type": "execute_result"
    }
   ],
   "source": [
    "import pandas as pd\n",
    "\n",
    "circles = pd.DataFrame({\"X1\": X[:, 0],\n",
    "                      \"X2\": X[:, 1],\n",
    "                      \"label\": y} )\n",
    "\n",
    "circles.head(10)\n"
   ]
  },
  {
   "cell_type": "code",
   "execution_count": 60,
   "metadata": {},
   "outputs": [
    {
     "data": {
      "text/plain": [
       "(array([0.75424625, 0.23148074]), 1, (2,), ())"
      ]
     },
     "execution_count": 60,
     "metadata": {},
     "output_type": "execute_result"
    },
    {
     "data": {
      "image/png": "[encoded data removed]",
      "text/plain": [
       "<Figure size 432x288 with 1 Axes>"
      ]
     },
     "metadata": {
      "needs_background": "light"
     },
     "output_type": "display_data"
    }
   ],
   "source": [
    "import matplotlib.pyplot as plt\n",
    "\n",
    "plt.scatter(x= X[:,0],\n",
    "           y= X[:,1],\n",
    "           c=y,\n",
    "           cmap=plt.cm.seismic);\n",
    "\n",
    "X.shape,y.shape\n",
    "\n",
    "X\n",
    "\n",
    "x_sample = X[0]\n",
    "y_sample = y[0]\n",
    "\n",
    "x_sample,y_sample,x_sample.shape,y_sample.shape"
   ]
  },
  {
   "cell_type": "code",
   "execution_count": 61,
   "metadata": {},
   "outputs": [
    {
     "data": {
      "text/plain": [
       "(torch.Tensor,\n",
       " torch.float32,\n",
       " torch.float32,\n",
       " torch.Size([1000, 2]),\n",
       " torch.Size([1000]))"
      ]
     },
     "execution_count": 61,
     "metadata": {},
     "output_type": "execute_result"
    }
   ],
   "source": [
    "import torch\n",
    "torch.__version__\n",
    "\n",
    "X = torch.from_numpy(X).type(torch.float)\n",
    "y = torch.from_numpy(y).type(torch.float)\n",
    "X[:5],y[:5]\n",
    "\n",
    "type(X),X.dtype,y.dtype,X.shape,y.shape"
   ]
  },
  {
   "cell_type": "code",
   "execution_count": 62,
   "metadata": {},
   "outputs": [
    {
     "data": {
      "text/plain": [
       "(800, 200)"
      ]
     },
     "execution_count": 62,
     "metadata": {},
     "output_type": "execute_result"
    }
   ],
   "source": [
    "from sklearn.model_selection import train_test_split\n",
    "\n",
    "X_train,X_test,y_train,y_test = train_test_split(X,\n",
    "                                                 y,\n",
    "                                                test_size=0.2,\n",
    "                                                random_state=42)\n",
    "\n",
    "len(X_train),len(X_test)\n"
   ]
  },
  {
   "cell_type": "code",
   "execution_count": 63,
   "metadata": {
    "colab": {
     "base_uri": "https://localhost:8080/",
     "height": 35
    },
    "id": "JnmB6ZcNjQ-y",
    "outputId": "7235de54-e02d-427d-af8e-9118b948d3d7",
    "scrolled": true
   },
   "outputs": [
    {
     "data": {
      "text/plain": [
       "'cuda'"
      ]
     },
     "execution_count": 63,
     "metadata": {},
     "output_type": "execute_result"
    }
   ],
   "source": [
    "import torch\n",
    "from torch import nn\n",
    "\n",
    "device = \"cuda\" if torch.cuda.is_available() else \"cpu\"\n",
    "device"
   ]
  },
  {
   "cell_type": "code",
   "execution_count": 64,
   "metadata": {
    "colab": {
     "base_uri": "https://localhost:8080/"
    },
    "id": "oXFCzc4gjN4p",
    "outputId": "f492ec4e-84f0-48cc-dd56-296020e55cf3",
    "scrolled": true
   },
   "outputs": [
    {
     "data": {
      "text/plain": [
       "tensor([[ 0.6579, -0.4651],\n",
       "        [ 0.6319, -0.7347],\n",
       "        [-1.0086, -0.1240],\n",
       "        ...,\n",
       "        [ 0.0157, -1.0300],\n",
       "        [ 1.0110,  0.1680],\n",
       "        [ 0.5578, -0.5709]])"
      ]
     },
     "execution_count": 64,
     "metadata": {},
     "output_type": "execute_result"
    }
   ],
   "source": [
    "X_train"
   ]
  },
  {
   "cell_type": "code",
   "execution_count": 65,
   "metadata": {
    "colab": {
     "base_uri": "https://localhost:8080/"
    },
    "id": "hmuiTTtXk8qO",
    "outputId": "d45b14de-4c35-4053-df7b-10df17117f78"
   },
   "outputs": [
    {
     "data": {
      "text/plain": [
       "tensor([1., 0., 0., 0., 1.])"
      ]
     },
     "execution_count": 65,
     "metadata": {},
     "output_type": "execute_result"
    }
   ],
   "source": [
    "y_train[:5]"
   ]
  },
  {
   "cell_type": "code",
   "execution_count": 66,
   "metadata": {
    "colab": {
     "base_uri": "https://localhost:8080/"
    },
    "id": "AvDF_rJJlJaK",
    "outputId": "071c6af9-e34c-4bb5-85cc-8f39c6a5edca"
   },
   "outputs": [
    {
     "data": {
      "text/plain": [
       "CircleModelV0(\n",
       "  (layer_1): Linear(in_features=2, out_features=5, bias=True)\n",
       "  (layer_2): Linear(in_features=5, out_features=1, bias=True)\n",
       ")"
      ]
     },
     "execution_count": 66,
     "metadata": {},
     "output_type": "execute_result"
    }
   ],
   "source": [
    "from sklearn import datasets\n",
    "\n",
    "torch.manual_seed(42)\n",
    "class CircleModelV0(nn.Module):\n",
    "  def __init__(self):\n",
    "    super().__init__()\n",
    "\n",
    "    self.layer_1 = nn.Linear(in_features=2,out_features=5)\n",
    "    self.layer_2 = nn.Linear(in_features=5,out_features=1)\n",
    "\n",
    "\n",
    "  def forward(self,x:torch.Tensor):\n",
    "    return self.layer_2(self.layer_1(x))\n",
    "\n",
    "model_0 = CircleModelV0().to(device)\n",
    "model_0"
   ]
  },
  {
   "cell_type": "code",
   "execution_count": 67,
   "metadata": {
    "colab": {
     "base_uri": "https://localhost:8080/",
     "height": 35
    },
    "id": "gykZyeaJpTeE",
    "outputId": "a2245a0c-b6f6-49e8-d706-73edd5d40039",
    "scrolled": true
   },
   "outputs": [
    {
     "data": {
      "text/plain": [
       "'cuda'"
      ]
     },
     "execution_count": 67,
     "metadata": {},
     "output_type": "execute_result"
    }
   ],
   "source": [
    "device"
   ]
  },
  {
   "cell_type": "code",
   "execution_count": 68,
   "metadata": {
    "colab": {
     "base_uri": "https://localhost:8080/"
    },
    "id": "h--JUBsQ8VgQ",
    "outputId": "d9453640-8e8c-489b-e109-2832fdcd3417"
   },
   "outputs": [
    {
     "data": {
      "text/plain": [
       "device(type='cuda', index=0)"
      ]
     },
     "execution_count": 68,
     "metadata": {},
     "output_type": "execute_result"
    }
   ],
   "source": [
    "next(model_0.parameters()).device"
   ]
  },
  {
   "cell_type": "code",
   "execution_count": 69,
   "metadata": {
    "colab": {
     "base_uri": "https://localhost:8080/"
    },
    "id": "jBN4pamW8kbV",
    "outputId": "5e0f819b-ceb1-49c8-ebbf-76769640d9da",
    "scrolled": true
   },
   "outputs": [
    {
     "data": {
      "text/plain": [
       "OrderedDict([('0.weight',\n",
       "              tensor([[-0.0829, -0.2872],\n",
       "                      [ 0.4691, -0.5582],\n",
       "                      [-0.3260, -0.1997],\n",
       "                      [-0.4252,  0.0667],\n",
       "                      [-0.6984,  0.6386]], device='cuda:0')),\n",
       "             ('0.bias',\n",
       "              tensor([-0.6007,  0.5459,  0.1177, -0.2296,  0.4370], device='cuda:0')),\n",
       "             ('1.weight',\n",
       "              tensor([[ 0.0697,  0.3613,  0.0489, -0.1410,  0.1202]], device='cuda:0')),\n",
       "             ('1.bias', tensor([-0.1213], device='cuda:0'))])"
      ]
     },
     "execution_count": 69,
     "metadata": {},
     "output_type": "execute_result"
    }
   ],
   "source": [
    "model_0 = nn.Sequential(nn.Linear(in_features=2,out_features=5),\n",
    "                        nn.Linear(in_features=5,out_features=1)).to(device)\n",
    "\n",
    "model_0.state_dict()"
   ]
  },
  {
   "cell_type": "code",
   "execution_count": 70,
   "metadata": {
    "colab": {
     "base_uri": "https://localhost:8080/"
    },
    "id": "-FCzlOiFCej1",
    "outputId": "cab70cb3-e3d6-4cd8-fc3c-8292bdd5cb52",
    "scrolled": true
   },
   "outputs": [
    {
     "data": {
      "text/plain": [
       "(tensor([[-0.0338],\n",
       "         [-0.0309],\n",
       "         [ 0.0894],\n",
       "         [-0.0692],\n",
       "         [ 0.2967],\n",
       "         [ 0.2968],\n",
       "         [ 0.1405],\n",
       "         [ 0.2178],\n",
       "         [ 0.0805],\n",
       "         [-0.0284]], device='cuda:0'),\n",
       " 200,\n",
       " torch.Size([200, 1]))"
      ]
     },
     "execution_count": 70,
     "metadata": {},
     "output_type": "execute_result"
    }
   ],
   "source": [
    "with torch.inference_mode():\n",
    "  untrained_preds = model_0(X_test.to(device))\n",
    "\n",
    "untrained_preds[:10],len(untrained_preds),untrained_preds.shape"
   ]
  },
  {
   "cell_type": "code",
   "execution_count": 71,
   "metadata": {
    "colab": {
     "base_uri": "https://localhost:8080/"
    },
    "id": "ngK_Q0M0IdgL",
    "outputId": "d40d9420-802c-4647-da91-1109f9b486dd",
    "scrolled": true
   },
   "outputs": [
    {
     "data": {
      "text/plain": [
       "tensor([[-0.0300],\n",
       "        [-0.0300],\n",
       "        [ 0.0900],\n",
       "        [-0.0700],\n",
       "        [ 0.3000],\n",
       "        [ 0.3000],\n",
       "        [ 0.1400],\n",
       "        [ 0.2200],\n",
       "        [ 0.0800],\n",
       "        [-0.0300]], device='cuda:0')"
      ]
     },
     "execution_count": 71,
     "metadata": {},
     "output_type": "execute_result"
    }
   ],
   "source": [
    "torch.round(untrained_preds[:10],decimals=2)"
   ]
  },
  {
   "cell_type": "code",
   "execution_count": 72,
   "metadata": {
    "colab": {
     "base_uri": "https://localhost:8080/"
    },
    "id": "ERKAkqQVG0oq",
    "outputId": "6cc8ca6e-36ca-4b93-f237-75329d438943",
    "scrolled": true
   },
   "outputs": [
    {
     "data": {
      "text/plain": [
       "(tensor([[-0.3752,  0.6827],\n",
       "         [ 0.0154,  0.9600],\n",
       "         [-0.7028, -0.3147],\n",
       "         [-0.2853,  0.9664],\n",
       "         [ 0.4024, -0.7438],\n",
       "         [ 0.6323, -0.5711],\n",
       "         [ 0.8561,  0.5499],\n",
       "         [ 1.0034,  0.1903],\n",
       "         [-0.7489, -0.2951],\n",
       "         [ 0.0538,  0.9739]]),\n",
       " 200,\n",
       " torch.Size([200, 2]))"
      ]
     },
     "execution_count": 72,
     "metadata": {},
     "output_type": "execute_result"
    }
   ],
   "source": [
    "X_test[:10],len(X_test),X_test.shape"
   ]
  },
  {
   "cell_type": "code",
   "execution_count": 73,
   "metadata": {
    "colab": {
     "base_uri": "https://localhost:8080/"
    },
    "id": "QjFh399DHYQF",
    "outputId": "933d7cc5-bd4d-4ea0-8936-923564a10da0"
   },
   "outputs": [
    {
     "data": {
      "text/plain": [
       "(torch.Size([200]), tensor([1., 0., 1., 0., 1., 1., 0., 0., 1., 0.]))"
      ]
     },
     "execution_count": 73,
     "metadata": {},
     "output_type": "execute_result"
    }
   ],
   "source": [
    "y_test.shape,y_test[:10]"
   ]
  },
  {
   "cell_type": "code",
   "execution_count": 74,
   "metadata": {
    "id": "0zYHx9YSCat6"
   },
   "outputs": [],
   "source": [
    "###set up loss function and optimizer\n",
    "\n",
    "loss_fn = nn.BCEWithLogitsLoss()\n",
    "\n",
    "optimizer = torch.optim.SGD(params=model_0.parameters(),\n",
    "                            lr=0.1)"
   ]
  },
  {
   "cell_type": "code",
   "execution_count": 75,
   "metadata": {
    "colab": {
     "base_uri": "https://localhost:8080/"
    },
    "id": "W93eFvOoD7rK",
    "outputId": "6f181cdb-b82f-4b44-c9ae-598fd4c57e32"
   },
   "outputs": [
    {
     "data": {
      "text/plain": [
       "50.0"
      ]
     },
     "execution_count": 75,
     "metadata": {},
     "output_type": "execute_result"
    }
   ],
   "source": [
    "#acc function\n",
    "\n",
    "def accuracy_fn(y_true,y_pred):\n",
    "  correct = torch.eq(y_true, y_pred).sum().item()\n",
    "  acc = correct/len(y_true)*100\n",
    "  return acc\n",
    "  # return correct\n",
    "\n",
    "y_test.shape\n",
    "y_pred = torch.ones(200)\n",
    "y_pred\n",
    "accuracy_fn(y_pred,y_test)\n"
   ]
  },
  {
   "cell_type": "code",
   "execution_count": 76,
   "metadata": {
    "colab": {
     "base_uri": "https://localhost:8080/"
    },
    "id": "J05upf7Ta46q",
    "outputId": "d36def35-cfee-49bc-f151-c0885ff493b5"
   },
   "outputs": [
    {
     "data": {
      "text/plain": [
       "tensor([1., 0., 1., 0., 1.])"
      ]
     },
     "execution_count": 76,
     "metadata": {},
     "output_type": "execute_result"
    }
   ],
   "source": [
    "y_test[:5]"
   ]
  },
  {
   "cell_type": "code",
   "execution_count": 77,
   "metadata": {
    "colab": {
     "base_uri": "https://localhost:8080/"
    },
    "id": "NtKq8HXkPtrg",
    "outputId": "b81df897-2d9e-4a63-e03d-53dc79446ece",
    "scrolled": true
   },
   "outputs": [
    {
     "data": {
      "text/plain": [
       "tensor([[-0.0338],\n",
       "        [-0.0309],\n",
       "        [ 0.0894],\n",
       "        [-0.0692],\n",
       "        [ 0.2967]], device='cuda:0')"
      ]
     },
     "execution_count": 77,
     "metadata": {},
     "output_type": "execute_result"
    }
   ],
   "source": [
    "model_0.eval()\n",
    "with torch.inference_mode():\n",
    "  y_logits = model_0(X_test.to(device))[:5]\n",
    "y_logits"
   ]
  },
  {
   "cell_type": "code",
   "execution_count": 78,
   "metadata": {
    "colab": {
     "base_uri": "https://localhost:8080/"
    },
    "id": "DM3zog2fBrTd",
    "outputId": "28f8b27e-c272-422f-e170-8d6fe95df08e"
   },
   "outputs": [
    {
     "data": {
      "text/plain": [
       "tensor([1., 0., 1., 0., 1.])"
      ]
     },
     "execution_count": 78,
     "metadata": {},
     "output_type": "execute_result"
    }
   ],
   "source": [
    "y_test[:5]"
   ]
  },
  {
   "cell_type": "code",
   "execution_count": 79,
   "metadata": {
    "colab": {
     "base_uri": "https://localhost:8080/"
    },
    "id": "rBouQYGaodcL",
    "outputId": "3c099e6e-ed5e-4fbc-bd26-c0176a03c16b"
   },
   "outputs": [
    {
     "data": {
      "text/plain": [
       "tensor([[0.4916],\n",
       "        [0.4923],\n",
       "        [0.5223],\n",
       "        [0.4827],\n",
       "        [0.5736]], device='cuda:0')"
      ]
     },
     "execution_count": 79,
     "metadata": {},
     "output_type": "execute_result"
    }
   ],
   "source": [
    "y_pred_probs = torch.sigmoid(y_logits)\n",
    "y_pred_probs"
   ]
  },
  {
   "cell_type": "code",
   "execution_count": 80,
   "metadata": {
    "colab": {
     "base_uri": "https://localhost:8080/"
    },
    "id": "yYYJFzs7Cf6N",
    "outputId": "5c93e188-e000-4cac-c3d6-3843053b4b6b"
   },
   "outputs": [
    {
     "data": {
      "text/plain": [
       "tensor([[0.],\n",
       "        [0.],\n",
       "        [1.],\n",
       "        [0.],\n",
       "        [1.]], device='cuda:0')"
      ]
     },
     "execution_count": 80,
     "metadata": {},
     "output_type": "execute_result"
    }
   ],
   "source": [
    "y_preds = torch.round(y_pred_probs)\n",
    "y_preds"
   ]
  },
  {
   "cell_type": "code",
   "execution_count": 81,
   "metadata": {
    "colab": {
     "base_uri": "https://localhost:8080/"
    },
    "id": "PRDUMnVECsDA",
    "outputId": "adc6c25b-ae26-4df1-b0d8-11cbcba66313",
    "scrolled": false
   },
   "outputs": [
    {
     "data": {
      "text/plain": [
       "tensor([[0.],\n",
       "        [0.],\n",
       "        [1.],\n",
       "        [0.],\n",
       "        [1.]], device='cuda:0', grad_fn=<RoundBackward0>)"
      ]
     },
     "execution_count": 81,
     "metadata": {},
     "output_type": "execute_result"
    }
   ],
   "source": [
    "y_pred_labels = torch.round(torch.sigmoid(model_0(X_test.to(device))[:5]))\n",
    "y_pred_labels\n"
   ]
  },
  {
   "cell_type": "code",
   "execution_count": 82,
   "metadata": {
    "colab": {
     "base_uri": "https://localhost:8080/"
    },
    "id": "OYbGHfohDVwN",
    "outputId": "2ca13941-0a31-4544-df6c-bb1f2fb1b701"
   },
   "outputs": [
    {
     "data": {
      "text/plain": [
       "tensor([True, True, True, True, True], device='cuda:0')"
      ]
     },
     "execution_count": 82,
     "metadata": {},
     "output_type": "execute_result"
    }
   ],
   "source": [
    "torch.eq(y_preds.squeeze(),y_pred_labels.squeeze())"
   ]
  },
  {
   "cell_type": "code",
   "execution_count": 83,
   "metadata": {
    "colab": {
     "base_uri": "https://localhost:8080/"
    },
    "id": "wunh7e9FFSiu",
    "outputId": "04cff609-58e1-446a-dfac-20ff2240bcea"
   },
   "outputs": [
    {
     "data": {
      "text/plain": [
       "tensor([1., 0., 1., 0., 1.])"
      ]
     },
     "execution_count": 83,
     "metadata": {},
     "output_type": "execute_result"
    }
   ],
   "source": [
    "y_test[:5]"
   ]
  },
  {
   "cell_type": "code",
   "execution_count": 84,
   "metadata": {
    "colab": {
     "base_uri": "https://localhost:8080/"
    },
    "id": "3DstcMdOPIm5",
    "outputId": "5d41d53c-6d25-441c-bc54-f4e855f3f94b",
    "scrolled": true
   },
   "outputs": [
    {
     "name": "stdout",
     "output_type": "stream",
     "text": [
      "test_loss:0.69440,test_acc:58.00%,loss:0.69796,acc:51.87500%\n",
      "test_loss:0.69305,test_acc:53.00%,loss:0.69590,acc:51.25000%\n",
      "test_loss:0.69254,test_acc:49.50%,loss:0.69490,acc:51.62500%\n",
      "test_loss:0.69236,test_acc:49.50%,loss:0.69435,acc:51.12500%\n",
      "test_loss:0.69232,test_acc:51.00%,loss:0.69401,acc:50.87500%\n",
      "test_loss:0.69234,test_acc:50.00%,loss:0.69378,acc:50.25000%\n",
      "test_loss:0.69239,test_acc:51.50%,loss:0.69362,acc:50.00000%\n",
      "test_loss:0.69246,test_acc:51.00%,loss:0.69351,acc:50.25000%\n",
      "test_loss:0.69254,test_acc:50.00%,loss:0.69342,acc:49.87500%\n",
      "test_loss:0.69262,test_acc:53.00%,loss:0.69336,acc:49.87500%\n"
     ]
    }
   ],
   "source": [
    "torch.manual_seed(42)\n",
    "torch.cuda.manual_seed(42)\n",
    "\n",
    "X_train,y_train = X_train.to(device),y_train.to(device)\n",
    "X_test,y_test = X_test.to(device),y_test.to(device)\n",
    "\n",
    "epochs =100\n",
    "\n",
    "for epoch in range(epochs):\n",
    "  model_0.train()\n",
    "\n",
    "  #forward pass\n",
    "  y_logits = model_0(X_train).squeeze()\n",
    "  y_pred = torch.round(torch.sigmoid(y_logits))\n",
    "\n",
    "  #calculate loss/accuracy\n",
    "  loss = loss_fn(y_logits,y_train)\n",
    "  acc = accuracy_fn(y_train,y_pred)\n",
    "\n",
    "  optimizer.zero_grad()\n",
    "\n",
    "  loss.backward()\n",
    "\n",
    "  optimizer.step()\n",
    "\n",
    "  model_0.eval()\n",
    "  with torch.inference_mode():\n",
    "    test_logits = model_0(X_test).squeeze()\n",
    "    test_pred = torch.round(torch.sigmoid(test_logits))\n",
    "\n",
    "    test_loss = loss_fn(test_logits,\n",
    "                        y_test)\n",
    "\n",
    "    test_acc = accuracy_fn(y_test,test_pred)\n",
    "\n",
    "  if epoch % 10 == 0:\n",
    "    print(f'test_loss:{test_loss:.5f},test_acc:{test_acc:.2f}%,loss:{loss:.5f},acc:{acc:.5f}%')\n"
   ]
  },
  {
   "cell_type": "code",
   "execution_count": 85,
   "metadata": {
    "id": "56abBGzf5muU"
   },
   "outputs": [
    {
     "name": "stdout",
     "output_type": "stream",
     "text": [
      "file already exist\n"
     ]
    }
   ],
   "source": [
    "import requests\n",
    "from pathlib import Path\n",
    "\n",
    "\n",
    "if Path(\"helper_function.py\").is_file():\n",
    "    print('file already exist')\n",
    "else:\n",
    "    response = requests.get(\"https://raw.githubusercontent.com/mrdbourke/pytorch-deep-learning/main/helper_functions.py\")\n",
    "    print('downloaded')\n",
    "    with open(\"helper_function.py\",\"wb\") as f:\n",
    "        f.write(response.content)\n"
   ]
  },
  {
   "cell_type": "code",
   "execution_count": 86,
   "metadata": {
    "scrolled": true
   },
   "outputs": [
    {
     "name": "stdout",
     "output_type": "stream",
     "text": [
      "(10, 10)\n",
      "(100,)\n",
      "(100, 2)\n",
      "tensor([[-1.0595, -1.0678],\n",
      "        [-0.8269, -1.0678],\n",
      "        [-0.5943, -1.0678],\n",
      "        [-0.3618, -1.0678],\n",
      "        [-0.1292, -1.0678],\n",
      "        [ 0.1034, -1.0678],\n",
      "        [ 0.3360, -1.0678],\n",
      "        [ 0.5686, -1.0678],\n",
      "        [ 0.8011, -1.0678],\n",
      "        [ 1.0337, -1.0678],\n",
      "        [-1.0595, -0.8340],\n",
      "        [-0.8269, -0.8340],\n",
      "        [-0.5943, -0.8340],\n",
      "        [-0.3618, -0.8340],\n",
      "        [-0.1292, -0.8340],\n",
      "        [ 0.1034, -0.8340],\n",
      "        [ 0.3360, -0.8340],\n",
      "        [ 0.5686, -0.8340],\n",
      "        [ 0.8011, -0.8340],\n",
      "        [ 1.0337, -0.8340],\n",
      "        [-1.0595, -0.6003],\n",
      "        [-0.8269, -0.6003],\n",
      "        [-0.5943, -0.6003],\n",
      "        [-0.3618, -0.6003],\n",
      "        [-0.1292, -0.6003],\n",
      "        [ 0.1034, -0.6003],\n",
      "        [ 0.3360, -0.6003],\n",
      "        [ 0.5686, -0.6003],\n",
      "        [ 0.8011, -0.6003],\n",
      "        [ 1.0337, -0.6003],\n",
      "        [-1.0595, -0.3665],\n",
      "        [-0.8269, -0.3665],\n",
      "        [-0.5943, -0.3665],\n",
      "        [-0.3618, -0.3665],\n",
      "        [-0.1292, -0.3665],\n",
      "        [ 0.1034, -0.3665],\n",
      "        [ 0.3360, -0.3665],\n",
      "        [ 0.5686, -0.3665],\n",
      "        [ 0.8011, -0.3665],\n",
      "        [ 1.0337, -0.3665],\n",
      "        [-1.0595, -0.1328],\n",
      "        [-0.8269, -0.1328],\n",
      "        [-0.5943, -0.1328],\n",
      "        [-0.3618, -0.1328],\n",
      "        [-0.1292, -0.1328],\n",
      "        [ 0.1034, -0.1328],\n",
      "        [ 0.3360, -0.1328],\n",
      "        [ 0.5686, -0.1328],\n",
      "        [ 0.8011, -0.1328],\n",
      "        [ 1.0337, -0.1328],\n",
      "        [-1.0595,  0.1010],\n",
      "        [-0.8269,  0.1010],\n",
      "        [-0.5943,  0.1010],\n",
      "        [-0.3618,  0.1010],\n",
      "        [-0.1292,  0.1010],\n",
      "        [ 0.1034,  0.1010],\n",
      "        [ 0.3360,  0.1010],\n",
      "        [ 0.5686,  0.1010],\n",
      "        [ 0.8011,  0.1010],\n",
      "        [ 1.0337,  0.1010],\n",
      "        [-1.0595,  0.3347],\n",
      "        [-0.8269,  0.3347],\n",
      "        [-0.5943,  0.3347],\n",
      "        [-0.3618,  0.3347],\n",
      "        [-0.1292,  0.3347],\n",
      "        [ 0.1034,  0.3347],\n",
      "        [ 0.3360,  0.3347],\n",
      "        [ 0.5686,  0.3347],\n",
      "        [ 0.8011,  0.3347],\n",
      "        [ 1.0337,  0.3347],\n",
      "        [-1.0595,  0.5685],\n",
      "        [-0.8269,  0.5685],\n",
      "        [-0.5943,  0.5685],\n",
      "        [-0.3618,  0.5685],\n",
      "        [-0.1292,  0.5685],\n",
      "        [ 0.1034,  0.5685],\n",
      "        [ 0.3360,  0.5685],\n",
      "        [ 0.5686,  0.5685],\n",
      "        [ 0.8011,  0.5685],\n",
      "        [ 1.0337,  0.5685],\n",
      "        [-1.0595,  0.8023],\n",
      "        [-0.8269,  0.8023],\n",
      "        [-0.5943,  0.8023],\n",
      "        [-0.3618,  0.8023],\n",
      "        [-0.1292,  0.8023],\n",
      "        [ 0.1034,  0.8023],\n",
      "        [ 0.3360,  0.8023],\n",
      "        [ 0.5686,  0.8023],\n",
      "        [ 0.8011,  0.8023],\n",
      "        [ 1.0337,  0.8023],\n",
      "        [-1.0595,  1.0360],\n",
      "        [-0.8269,  1.0360],\n",
      "        [-0.5943,  1.0360],\n",
      "        [-0.3618,  1.0360],\n",
      "        [-0.1292,  1.0360],\n",
      "        [ 0.1034,  1.0360],\n",
      "        [ 0.3360,  1.0360],\n",
      "        [ 0.5686,  1.0360],\n",
      "        [ 0.8011,  1.0360],\n",
      "        [ 1.0337,  1.0360]])\n"
     ]
    }
   ],
   "source": [
    "####helper function.py rewrite practice\n",
    "import numpy as np\n",
    "def helper_func_test(model,X,y):\n",
    "    model.to('cpu')\n",
    "    X,y = X.to('cpu'), y.to('cpu')\n",
    "    x_min, x_max = X[:,0].min(),X[:,0].max()\n",
    "    y_min, y_max = X[:,1].min(),X[:,1].max()\n",
    "    \n",
    "    xx, yy = np.meshgrid(np.linspace(x_min, x_max, 10),np.linspace(y_min,y_max,10))\n",
    "#     plt.plot(xx,yy,marker=\"o\",color='k',linestyle='none')\n",
    "    \n",
    "    print(xx.shape)\n",
    "    \n",
    "    ###ravel() is same is reshape(-1)\n",
    "    print(xx.ravel().shape)\n",
    "    \n",
    "    print(np.column_stack((xx.ravel(),yy.ravel())).shape)\n",
    "    \n",
    "    X_to_pred_on = torch.from_numpy(np.column_stack((xx.ravel(),yy.ravel()))).float()\n",
    "    \n",
    "    print(X_to_pred_on)\n",
    "    \n",
    "    \n",
    "    \n",
    "    \n",
    "\n",
    "helper_func_test(model_0,X,y)\n"
   ]
  },
  {
   "cell_type": "code",
   "execution_count": 87,
   "metadata": {},
   "outputs": [
    {
     "data": {
      "text/plain": [
       "tensor([[ 1.9269,  1.4873,  0.9007, -2.1055],\n",
       "        [ 0.6784, -1.2345, -0.0431, -1.6047],\n",
       "        [-0.7521,  1.6487, -0.3925, -1.4036],\n",
       "        [-0.7279, -0.5594, -0.7688,  0.7624]])"
      ]
     },
     "execution_count": 87,
     "metadata": {},
     "output_type": "execute_result"
    }
   ],
   "source": [
    "a = torch.randn(4,4)\n",
    "a"
   ]
  },
  {
   "cell_type": "code",
   "execution_count": 88,
   "metadata": {},
   "outputs": [
    {
     "data": {
      "text/plain": [
       "tensor([0, 2, 0, 3])"
      ]
     },
     "execution_count": 88,
     "metadata": {},
     "output_type": "execute_result"
    }
   ],
   "source": [
    "torch.argmax(a,dim=0)"
   ]
  },
  {
   "cell_type": "code",
   "execution_count": 89,
   "metadata": {
    "scrolled": true
   },
   "outputs": [
    {
     "data": {
      "text/plain": [
       "tensor([[[ 1.6423, -0.1596, -0.4974,  0.4396],\n",
       "         [-0.7581,  1.0783,  0.8008,  1.6806],\n",
       "         [ 0.0349,  0.3211,  1.5736, -0.8455]],\n",
       "\n",
       "        [[ 1.3123,  0.6872, -1.0892, -0.3553],\n",
       "         [-1.4181,  0.8963,  0.0499,  2.2667],\n",
       "         [ 1.1790, -0.4345, -1.3864, -1.2862]]])"
      ]
     },
     "execution_count": 89,
     "metadata": {},
     "output_type": "execute_result"
    }
   ],
   "source": [
    "b = torch.randn(2,3,4)\n",
    "b"
   ]
  },
  {
   "cell_type": "code",
   "execution_count": 90,
   "metadata": {
    "scrolled": false
   },
   "outputs": [
    {
     "data": {
      "text/plain": [
       "tensor([[0, 1, 2, 1],\n",
       "        [0, 1, 1, 1]])"
      ]
     },
     "execution_count": 90,
     "metadata": {},
     "output_type": "execute_result"
    }
   ],
   "source": [
    "torch.argmax(b,dim=1)"
   ]
  },
  {
   "cell_type": "raw",
   "metadata": {},
   "source": [
    "#practice test for later\n",
    "\n",
    "try:\n",
    "    Path(\"helper_function.py\").is_file() == True\n",
    "    print('already exist')\n",
    "except exception:\n",
    "    print('test')\n",
    "         \n",
    "else:\n",
    "     response = requests.get(\"https://raw.githubusercontent.com/mrdbourke/pytorch-deep-learning/main/helper_functions.py\")\n",
    "     print('downloaded')\n",
    "     with open(\"helper_function.py\",'wb') as f:\n",
    "        f.write(response.content)  \n",
    "   \n",
    "    \n",
    "    \n",
    "    "
   ]
  },
  {
   "cell_type": "code",
   "execution_count": 91,
   "metadata": {
    "scrolled": false
   },
   "outputs": [
    {
     "data": {
      "image/png": "[encoded data removed]",
      "text/plain": [
       "<Figure size 864x432 with 3 Axes>"
      ]
     },
     "metadata": {
      "needs_background": "light"
     },
     "output_type": "display_data"
    }
   ],
   "source": [
    "from helper_function import plot_decision_boundary\n",
    "plt.figure(figsize=(12,6))\n",
    "plt.subplot(1,3,1)\n",
    "plt.title(\"Train\")\n",
    "plot_decision_boundary(model_0,X_train,y_train)\n",
    "plt.subplot(1,3,2)\n",
    "plt.title(\"Test\")\n",
    "plot_decision_boundary(model_0,X_test,y_test)\n",
    "plt.subplot(1,3,3)\n",
    "plt.title('hi')\n",
    "plot_decision_boundary(model_0,X_test,y_test)"
   ]
  },
  {
   "cell_type": "code",
   "execution_count": 92,
   "metadata": {
    "scrolled": true
   },
   "outputs": [
    {
     "data": {
      "image/png": "[encoded data removed]",
      "text/plain": [
       "<Figure size 432x288 with 2 Axes>"
      ]
     },
     "metadata": {
      "needs_background": "light"
     },
     "output_type": "display_data"
    }
   ],
   "source": [
    "figs,ax = plt.subplots(1,2)"
   ]
  },
  {
   "cell_type": "code",
   "execution_count": 93,
   "metadata": {
    "scrolled": true
   },
   "outputs": [
    {
     "data": {
      "text/plain": [
       "OrderedDict([('0.weight',\n",
       "              tensor([[-0.0849, -0.2762],\n",
       "                      [ 0.4610, -0.5187],\n",
       "                      [-0.3271, -0.1947],\n",
       "                      [-0.4220,  0.0507],\n",
       "                      [-0.7016,  0.6600]])),\n",
       "             ('0.bias', tensor([-0.6060,  0.5246,  0.1149, -0.2211,  0.4275])),\n",
       "             ('1.weight',\n",
       "              tensor([[ 0.0741,  0.2406,  0.0222, -0.1075,  0.1965]])),\n",
       "             ('1.bias', tensor([-0.1888]))])"
      ]
     },
     "execution_count": 93,
     "metadata": {},
     "output_type": "execute_result"
    }
   ],
   "source": [
    "model_0.state_dict()"
   ]
  },
  {
   "cell_type": "code",
   "execution_count": 94,
   "metadata": {},
   "outputs": [
    {
     "data": {
      "text/plain": [
       "(torch.Size([800, 2]), torch.Size([800]))"
      ]
     },
     "execution_count": 94,
     "metadata": {},
     "output_type": "execute_result"
    }
   ],
   "source": [
    "X_train.shape,y_train.shape"
   ]
  },
  {
   "cell_type": "code",
   "execution_count": 95,
   "metadata": {},
   "outputs": [],
   "source": [
    "from sklearn import datasets\n",
    "\n",
    "# torch.manual_seed(42)\n",
    "class CircleModelV1(nn.Module):\n",
    "  def __init__(self):\n",
    "    super().__init__()\n",
    "\n",
    "    self.layer_1 = nn.Linear(in_features=2,out_features=10)  ##in_feature=2 because out X_train has 2features\n",
    "    self.layer_2 = nn.Linear(in_features=10,out_features=10)\n",
    "    self.layer_3 = nn.Linear(in_features=10,out_features=1)  #out_feature =1 because y_train has 1 feature\n",
    "\n",
    "\n",
    "  def forward(self,x:torch.Tensor):\n",
    "    return self.layer_3(self.layer_2(self.layer_1(x)))\n",
    "\n"
   ]
  },
  {
   "cell_type": "code",
   "execution_count": 96,
   "metadata": {},
   "outputs": [
    {
     "data": {
      "text/plain": [
       "CircleModelV1(\n",
       "  (layer_1): Linear(in_features=2, out_features=10, bias=True)\n",
       "  (layer_2): Linear(in_features=10, out_features=10, bias=True)\n",
       "  (layer_3): Linear(in_features=10, out_features=1, bias=True)\n",
       ")"
      ]
     },
     "execution_count": 96,
     "metadata": {},
     "output_type": "execute_result"
    }
   ],
   "source": [
    "model_1 = CircleModelV1().to(device)\n",
    "model_1"
   ]
  },
  {
   "cell_type": "code",
   "execution_count": 97,
   "metadata": {
    "scrolled": true
   },
   "outputs": [
    {
     "data": {
      "text/plain": [
       "OrderedDict([('layer_1.weight',\n",
       "              tensor([[ 0.2236, -0.0123],\n",
       "                      [ 0.5534, -0.5024],\n",
       "                      [ 0.0445, -0.4826],\n",
       "                      [ 0.2180, -0.2435],\n",
       "                      [ 0.2167, -0.1473],\n",
       "                      [ 0.5865, -0.4191],\n",
       "                      [-0.4217, -0.4217],\n",
       "                      [ 0.6360,  0.2356],\n",
       "                      [ 0.6804, -0.5836],\n",
       "                      [-0.7014, -0.5532]], device='cuda:0')),\n",
       "             ('layer_1.bias',\n",
       "              tensor([-0.4757,  0.2864,  0.2532,  0.5876, -0.3652, -0.4820,  0.3752, -0.2858,\n",
       "                       0.4292, -0.1678], device='cuda:0')),\n",
       "             ('layer_2.weight',\n",
       "              tensor([[ 0.1809, -0.2457, -0.1596,  0.0964,  0.0669, -0.0806,  0.1885,  0.2150,\n",
       "                       -0.2293, -0.1688],\n",
       "                      [ 0.2896, -0.1067, -0.1121, -0.3060, -0.1811,  0.0790, -0.0417, -0.2295,\n",
       "                        0.0074, -0.2160],\n",
       "                      [-0.2683, -0.1741, -0.2768, -0.2014,  0.3161,  0.0597,  0.0974, -0.2949,\n",
       "                       -0.2077, -0.1053],\n",
       "                      [ 0.0494, -0.2783, -0.1363, -0.1893,  0.0009, -0.1177, -0.0219, -0.2143,\n",
       "                       -0.2171, -0.1845],\n",
       "                      [-0.1082, -0.2496,  0.2651, -0.0628,  0.2721,  0.0985, -0.2678,  0.2188,\n",
       "                       -0.0870, -0.1212],\n",
       "                      [-0.2625, -0.3144,  0.0905, -0.0691,  0.1231, -0.2595,  0.2348, -0.2321,\n",
       "                       -0.0546,  0.0661],\n",
       "                      [ 0.1633,  0.2553,  0.2881, -0.2507,  0.0796, -0.1360, -0.0347, -0.2367,\n",
       "                        0.2880, -0.2321],\n",
       "                      [ 0.1690,  0.1111,  0.1028, -0.1710,  0.2874,  0.0695,  0.0407, -0.2787,\n",
       "                        0.1327, -0.0474],\n",
       "                      [-0.1449,  0.2716,  0.0705, -0.1750, -0.1601, -0.0151,  0.1766, -0.0808,\n",
       "                       -0.1804, -0.1083],\n",
       "                      [-0.2362,  0.1128,  0.2448, -0.2977,  0.0734,  0.1634,  0.0573, -0.1126,\n",
       "                        0.1651,  0.1662]], device='cuda:0')),\n",
       "             ('layer_2.bias',\n",
       "              tensor([ 0.1182, -0.0556, -0.0837,  0.0338, -0.0559, -0.0942,  0.2021,  0.2718,\n",
       "                      -0.0313, -0.0708], device='cuda:0')),\n",
       "             ('layer_3.weight',\n",
       "              tensor([[ 0.0046, -0.0189,  0.0760,  0.0886, -0.2872, -0.1167,  0.2663,  0.1232,\n",
       "                       -0.0157, -0.1907]], device='cuda:0')),\n",
       "             ('layer_3.bias', tensor([-0.1935], device='cuda:0'))])"
      ]
     },
     "execution_count": 97,
     "metadata": {},
     "output_type": "execute_result"
    }
   ],
   "source": [
    "model_1.state_dict()"
   ]
  },
  {
   "cell_type": "code",
   "execution_count": 98,
   "metadata": {},
   "outputs": [],
   "source": [
    "loss_fn = nn.BCEWithLogitsLoss()\n",
    "\n",
    "optimizer = torch.optim.SGD(params=model_1.parameters(),\n",
    "                           lr=0.1)"
   ]
  },
  {
   "cell_type": "code",
   "execution_count": 99,
   "metadata": {},
   "outputs": [],
   "source": [
    "def accuracy_fn(y_true,y_pred):\n",
    "    correct = torch.eq(y_true,y_pred).sum().item()\n",
    "    acc = correct/len(y_pred)*100\n",
    "    return acc"
   ]
  },
  {
   "cell_type": "code",
   "execution_count": 100,
   "metadata": {
    "scrolled": false
   },
   "outputs": [
    {
     "name": "stdout",
     "output_type": "stream",
     "text": [
      "loss:0.69334|acc:50.50%|test_loss:0.69324|test_acc:45.000%\n",
      "loss:0.69301|acc:50.50%|test_loss:0.69404|test_acc:45.500%\n",
      "loss:0.69298|acc:51.38%|test_loss:0.69442|test_acc:45.500%\n",
      "loss:0.69298|acc:51.25%|test_loss:0.69457|test_acc:45.500%\n",
      "loss:0.69298|acc:51.00%|test_loss:0.69464|test_acc:45.500%\n",
      "loss:0.69298|acc:51.00%|test_loss:0.69466|test_acc:45.500%\n",
      "loss:0.69298|acc:51.00%|test_loss:0.69467|test_acc:46.000%\n",
      "loss:0.69298|acc:51.00%|test_loss:0.69468|test_acc:46.000%\n",
      "loss:0.69298|acc:51.00%|test_loss:0.69468|test_acc:46.000%\n",
      "loss:0.69298|acc:51.00%|test_loss:0.69468|test_acc:46.000%\n"
     ]
    }
   ],
   "source": [
    "epochs = 1000\n",
    "\n",
    "X_train,y_train=X_train.to(device),y_train.to(device)\n",
    "X_test,y_test=X_test.to(device),y_test.to(device)\n",
    "for epoch in range(epochs):\n",
    "    model_1.train()\n",
    "    y_logits = model_1(X_train).squeeze()\n",
    "    y_pred = torch.round(torch.sigmoid(y_logits))\n",
    "    \n",
    "    loss = loss_fn(y_logits,y_train)\n",
    "    acc = accuracy_fn(y_train,y_pred)\n",
    "    \n",
    "    optimizer.zero_grad()\n",
    "    loss.backward()\n",
    "    optimizer.step()\n",
    "    \n",
    "    model_1.eval()\n",
    "    with torch.inference_mode():\n",
    "        test_logits = model_1(X_test).squeeze()\n",
    "        test_preds =  torch.round(torch.sigmoid(test_logits))\n",
    "        \n",
    "        test_loss = loss_fn(test_logits,y_test)\n",
    "        test_acc = accuracy_fn(y_test,test_preds)\n",
    "        \n",
    "    if epoch % 100 == 0:\n",
    "        print(f\"loss:{loss:.5f}|acc:{acc:.2f}%|test_loss:{test_loss:.5f}|test_acc:{test_acc:.3f}%\")\n",
    "    \n",
    "    "
   ]
  },
  {
   "cell_type": "raw",
   "metadata": {},
   "source": [
    "model_1.eval()\n",
    "from helper_function import plot_predictions\n",
    "with torch.inference_mode():\n",
    "    y_pred = model_1(X_test)\n",
    "    \n",
    "plot_predictions(X_train,y_train,X_test,y_test,predictions=y_pred)"
   ]
  },
  {
   "cell_type": "code",
   "execution_count": 101,
   "metadata": {},
   "outputs": [],
   "source": [
    "#creating new data \n",
    "weight = 0.7\n",
    "bias = 0.3\n",
    "X = torch.arange(0,1,0.01).unsqueeze(dim=1)\n",
    "y = X*weight + bias\n",
    "\n",
    "train_split = int(0.8*(len(X)))\n",
    "X_train,y_train = X[:train_split],y[:train_split]\n",
    "X_test,y_test = X[train_split:],y[train_split:]"
   ]
  },
  {
   "cell_type": "code",
   "execution_count": 102,
   "metadata": {},
   "outputs": [
    {
     "data": {
      "text/plain": [
       "(80, 80, 20, 20)"
      ]
     },
     "execution_count": 102,
     "metadata": {},
     "output_type": "execute_result"
    }
   ],
   "source": [
    "len(X_train),len(y_train),len(X_test),len(X_test)"
   ]
  },
  {
   "cell_type": "code",
   "execution_count": 103,
   "metadata": {},
   "outputs": [
    {
     "data": {
      "text/plain": [
       "(torch.Size([100, 1]), torch.Size([100, 1]))"
      ]
     },
     "execution_count": 103,
     "metadata": {},
     "output_type": "execute_result"
    }
   ],
   "source": [
    "X.shape,y.shape\n"
   ]
  },
  {
   "cell_type": "code",
   "execution_count": 104,
   "metadata": {
    "scrolled": true
   },
   "outputs": [],
   "source": [
    "# from helper_function import plot_predictions\n",
    "# plot_predictions(X_train,y_train,X_test,y_test)"
   ]
  },
  {
   "cell_type": "code",
   "execution_count": 105,
   "metadata": {},
   "outputs": [],
   "source": [
    "def plot_predictions(\n",
    "    train_data, train_labels, test_data, test_labels, predictions=None\n",
    "):\n",
    "    \"\"\"\n",
    "  Plots linear training data and test data and compares predictions.\n",
    "  \"\"\"\n",
    "    plt.figure(figsize=(10, 7))\n",
    "\n",
    "    # Plot training data in blue\n",
    "    plt.scatter(train_data, train_labels, c=\"b\", s=4, label=\"Training data\")\n",
    "\n",
    "    # Plot test data in green\n",
    "    plt.scatter(test_data, test_labels, c=\"g\", s=4, label=\"Testing data\")\n",
    "\n",
    "    if predictions is not None:\n",
    "        # Plot the predictions in red (predictions were made on the test data)\n",
    "        plt.scatter(test_data, predictions, c=\"r\", s=4, label=\"Predictions\")\n",
    "\n",
    "    # Show the legend\n",
    "    plt.legend(prop={\"size\": 14})"
   ]
  },
  {
   "cell_type": "code",
   "execution_count": 106,
   "metadata": {
    "scrolled": false
   },
   "outputs": [
    {
     "data": {
      "text/plain": [
       "Sequential(\n",
       "  (0): Linear(in_features=1, out_features=10, bias=True)\n",
       "  (1): Linear(in_features=10, out_features=10, bias=True)\n",
       "  (2): Linear(in_features=10, out_features=1, bias=True)\n",
       ")"
      ]
     },
     "execution_count": 106,
     "metadata": {},
     "output_type": "execute_result"
    }
   ],
   "source": [
    "model_2 = nn.Sequential(\n",
    "                            nn.Linear(in_features=1,out_features=10),\n",
    "                           nn.Linear(in_features=10,out_features=10),\n",
    "                            nn.Linear(in_features=10,out_features=1)).to(device)\n",
    "\n",
    "model_2"
   ]
  },
  {
   "cell_type": "code",
   "execution_count": 107,
   "metadata": {},
   "outputs": [
    {
     "ename": "RuntimeError",
     "evalue": "Expected all tensors to be on the same device, but found at least two devices, cuda:0 and cpu! (when checking argument for argument mat1 in method wrapper_CUDA_addmm)",
     "output_type": "error",
     "traceback": [
      "\u001b[1;31m---------------------------------------------------------------------------\u001b[0m",
      "\u001b[1;31mRuntimeError\u001b[0m                              Traceback (most recent call last)",
      "Input \u001b[1;32mIn [107]\u001b[0m, in \u001b[0;36m<cell line: 2>\u001b[1;34m()\u001b[0m\n\u001b[0;32m      1\u001b[0m \u001b[38;5;66;03m# model_2.eval()\u001b[39;00m\n\u001b[0;32m      2\u001b[0m \u001b[38;5;28;01mwith\u001b[39;00m torch\u001b[38;5;241m.\u001b[39minference_mode():\n\u001b[1;32m----> 3\u001b[0m     y_pred \u001b[38;5;241m=\u001b[39m \u001b[43mmodel_2\u001b[49m\u001b[43m(\u001b[49m\u001b[43mX_test\u001b[49m\u001b[43m)\u001b[49m\n\u001b[0;32m      4\u001b[0m plot_predictions(X_train,y_train,X_test,y_test,predictions\u001b[38;5;241m=\u001b[39my_pred)\n",
      "File \u001b[1;32m~\\AppData\\Roaming\\Python\\Python39\\site-packages\\torch\\nn\\modules\\module.py:1501\u001b[0m, in \u001b[0;36mModule._call_impl\u001b[1;34m(self, *args, **kwargs)\u001b[0m\n\u001b[0;32m   1496\u001b[0m \u001b[38;5;66;03m# If we don't have any hooks, we want to skip the rest of the logic in\u001b[39;00m\n\u001b[0;32m   1497\u001b[0m \u001b[38;5;66;03m# this function, and just call forward.\u001b[39;00m\n\u001b[0;32m   1498\u001b[0m \u001b[38;5;28;01mif\u001b[39;00m \u001b[38;5;129;01mnot\u001b[39;00m (\u001b[38;5;28mself\u001b[39m\u001b[38;5;241m.\u001b[39m_backward_hooks \u001b[38;5;129;01mor\u001b[39;00m \u001b[38;5;28mself\u001b[39m\u001b[38;5;241m.\u001b[39m_backward_pre_hooks \u001b[38;5;129;01mor\u001b[39;00m \u001b[38;5;28mself\u001b[39m\u001b[38;5;241m.\u001b[39m_forward_hooks \u001b[38;5;129;01mor\u001b[39;00m \u001b[38;5;28mself\u001b[39m\u001b[38;5;241m.\u001b[39m_forward_pre_hooks\n\u001b[0;32m   1499\u001b[0m         \u001b[38;5;129;01mor\u001b[39;00m _global_backward_pre_hooks \u001b[38;5;129;01mor\u001b[39;00m _global_backward_hooks\n\u001b[0;32m   1500\u001b[0m         \u001b[38;5;129;01mor\u001b[39;00m _global_forward_hooks \u001b[38;5;129;01mor\u001b[39;00m _global_forward_pre_hooks):\n\u001b[1;32m-> 1501\u001b[0m     \u001b[38;5;28;01mreturn\u001b[39;00m forward_call(\u001b[38;5;241m*\u001b[39margs, \u001b[38;5;241m*\u001b[39m\u001b[38;5;241m*\u001b[39mkwargs)\n\u001b[0;32m   1502\u001b[0m \u001b[38;5;66;03m# Do not call functions when jit is used\u001b[39;00m\n\u001b[0;32m   1503\u001b[0m full_backward_hooks, non_full_backward_hooks \u001b[38;5;241m=\u001b[39m [], []\n",
      "File \u001b[1;32m~\\AppData\\Roaming\\Python\\Python39\\site-packages\\torch\\nn\\modules\\container.py:217\u001b[0m, in \u001b[0;36mSequential.forward\u001b[1;34m(self, input)\u001b[0m\n\u001b[0;32m    215\u001b[0m \u001b[38;5;28;01mdef\u001b[39;00m \u001b[38;5;21mforward\u001b[39m(\u001b[38;5;28mself\u001b[39m, \u001b[38;5;28minput\u001b[39m):\n\u001b[0;32m    216\u001b[0m     \u001b[38;5;28;01mfor\u001b[39;00m module \u001b[38;5;129;01min\u001b[39;00m \u001b[38;5;28mself\u001b[39m:\n\u001b[1;32m--> 217\u001b[0m         \u001b[38;5;28minput\u001b[39m \u001b[38;5;241m=\u001b[39m \u001b[43mmodule\u001b[49m\u001b[43m(\u001b[49m\u001b[38;5;28;43minput\u001b[39;49m\u001b[43m)\u001b[49m\n\u001b[0;32m    218\u001b[0m     \u001b[38;5;28;01mreturn\u001b[39;00m \u001b[38;5;28minput\u001b[39m\n",
      "File \u001b[1;32m~\\AppData\\Roaming\\Python\\Python39\\site-packages\\torch\\nn\\modules\\module.py:1501\u001b[0m, in \u001b[0;36mModule._call_impl\u001b[1;34m(self, *args, **kwargs)\u001b[0m\n\u001b[0;32m   1496\u001b[0m \u001b[38;5;66;03m# If we don't have any hooks, we want to skip the rest of the logic in\u001b[39;00m\n\u001b[0;32m   1497\u001b[0m \u001b[38;5;66;03m# this function, and just call forward.\u001b[39;00m\n\u001b[0;32m   1498\u001b[0m \u001b[38;5;28;01mif\u001b[39;00m \u001b[38;5;129;01mnot\u001b[39;00m (\u001b[38;5;28mself\u001b[39m\u001b[38;5;241m.\u001b[39m_backward_hooks \u001b[38;5;129;01mor\u001b[39;00m \u001b[38;5;28mself\u001b[39m\u001b[38;5;241m.\u001b[39m_backward_pre_hooks \u001b[38;5;129;01mor\u001b[39;00m \u001b[38;5;28mself\u001b[39m\u001b[38;5;241m.\u001b[39m_forward_hooks \u001b[38;5;129;01mor\u001b[39;00m \u001b[38;5;28mself\u001b[39m\u001b[38;5;241m.\u001b[39m_forward_pre_hooks\n\u001b[0;32m   1499\u001b[0m         \u001b[38;5;129;01mor\u001b[39;00m _global_backward_pre_hooks \u001b[38;5;129;01mor\u001b[39;00m _global_backward_hooks\n\u001b[0;32m   1500\u001b[0m         \u001b[38;5;129;01mor\u001b[39;00m _global_forward_hooks \u001b[38;5;129;01mor\u001b[39;00m _global_forward_pre_hooks):\n\u001b[1;32m-> 1501\u001b[0m     \u001b[38;5;28;01mreturn\u001b[39;00m forward_call(\u001b[38;5;241m*\u001b[39margs, \u001b[38;5;241m*\u001b[39m\u001b[38;5;241m*\u001b[39mkwargs)\n\u001b[0;32m   1502\u001b[0m \u001b[38;5;66;03m# Do not call functions when jit is used\u001b[39;00m\n\u001b[0;32m   1503\u001b[0m full_backward_hooks, non_full_backward_hooks \u001b[38;5;241m=\u001b[39m [], []\n",
      "File \u001b[1;32m~\\AppData\\Roaming\\Python\\Python39\\site-packages\\torch\\nn\\modules\\linear.py:114\u001b[0m, in \u001b[0;36mLinear.forward\u001b[1;34m(self, input)\u001b[0m\n\u001b[0;32m    113\u001b[0m \u001b[38;5;28;01mdef\u001b[39;00m \u001b[38;5;21mforward\u001b[39m(\u001b[38;5;28mself\u001b[39m, \u001b[38;5;28minput\u001b[39m: Tensor) \u001b[38;5;241m-\u001b[39m\u001b[38;5;241m>\u001b[39m Tensor:\n\u001b[1;32m--> 114\u001b[0m     \u001b[38;5;28;01mreturn\u001b[39;00m \u001b[43mF\u001b[49m\u001b[38;5;241;43m.\u001b[39;49m\u001b[43mlinear\u001b[49m\u001b[43m(\u001b[49m\u001b[38;5;28;43minput\u001b[39;49m\u001b[43m,\u001b[49m\u001b[43m \u001b[49m\u001b[38;5;28;43mself\u001b[39;49m\u001b[38;5;241;43m.\u001b[39;49m\u001b[43mweight\u001b[49m\u001b[43m,\u001b[49m\u001b[43m \u001b[49m\u001b[38;5;28;43mself\u001b[39;49m\u001b[38;5;241;43m.\u001b[39;49m\u001b[43mbias\u001b[49m\u001b[43m)\u001b[49m\n",
      "\u001b[1;31mRuntimeError\u001b[0m: Expected all tensors to be on the same device, but found at least two devices, cuda:0 and cpu! (when checking argument for argument mat1 in method wrapper_CUDA_addmm)"
     ]
    }
   ],
   "source": [
    "# model_2.eval()\n",
    "with torch.inference_mode():\n",
    "    y_pred = model_2(X_test)\n",
    "plot_predictions(X_train,y_train,X_test,y_test,predictions=y_pred)"
   ]
  },
  {
   "cell_type": "code",
   "execution_count": null,
   "metadata": {},
   "outputs": [],
   "source": [
    "loss_fn = nn.L1Loss()\n",
    "\n",
    "optimizer = torch.optim.SGD(model_2.parameters(),\n",
    "                           lr = 0.1)\n"
   ]
  },
  {
   "cell_type": "code",
   "execution_count": null,
   "metadata": {
    "scrolled": false
   },
   "outputs": [],
   "source": [
    "torch.manual_seed(42)\n",
    "\n",
    "epochs = 1000\n",
    "\n",
    "for epoch in range(epochs):\n",
    "    y_pred = model_2(X_train)\n",
    "    \n",
    "    loss = loss_fn(y_pred,y_train)\n",
    "    \n",
    "    optimizer.zero_grad()\n",
    "    \n",
    "    loss.backward()\n",
    "    \n",
    "    optimizer.step()\n",
    "    model_2.eval()\n",
    "    with torch.inference_mode():       \n",
    "        test_pred = model_2(X_test)\n",
    "        \n",
    "        test_loss = loss_fn(test_pred,y_test)\n",
    "        \n",
    "    if epoch % 100 == 0:\n",
    "        print(f\"loss:{loss:.5f}|test_loss:{test_loss:.5f}\")"
   ]
  },
  {
   "cell_type": "code",
   "execution_count": null,
   "metadata": {},
   "outputs": [],
   "source": [
    "model_2.eval()\n",
    "with torch.inference_mode():\n",
    "    y_pred = model_2(X_test)\n",
    "    \n",
    "plot_predictions(X_train.cpu(),y_train,X_test,y_test,y_pred)"
   ]
  },
  {
   "cell_type": "code",
   "execution_count": null,
   "metadata": {
    "scrolled": true
   },
   "outputs": [],
   "source": [
    "##linear + non linear  using ReLu\n",
    "\n",
    "import torch\n",
    "from torch import nn\n",
    "from sklearn.datasets import make_circles\n",
    "import matplotlib.pyplot as plt\n",
    "\n",
    "device = \"cuda\" if torch.cuda.is_available() else \"cpu\"\n",
    "\n",
    "X,y = make_circles(n_samples=1000,\n",
    "            noise=0.03,\n",
    "            random_state=42)\n",
    "\n",
    "plt.scatter(X[:,0],X[:,1],c=y,cmap=plt.cm.RdBu)"
   ]
  },
  {
   "cell_type": "code",
   "execution_count": null,
   "metadata": {},
   "outputs": [],
   "source": [
    "y_train.shape"
   ]
  },
  {
   "cell_type": "code",
   "execution_count": null,
   "metadata": {
    "scrolled": true
   },
   "outputs": [],
   "source": [
    "import pandas as pd\n",
    "\n",
    "circles = pd.DataFrame({'x1':X[:,0],\n",
    "                       'x2':X[:,1],\n",
    "                       'y':y})\n",
    "\n",
    "circles.head(10)"
   ]
  },
  {
   "cell_type": "code",
   "execution_count": null,
   "metadata": {
    "scrolled": true
   },
   "outputs": [],
   "source": [
    "from sklearn.model_selection import train_test_split\n",
    "\n",
    "X = torch.from_numpy(X).type(torch.float)\n",
    "y = torch.from_numpy(y).type(torch.float)\n",
    "X_train,X_test,y_train,y_test = train_test_split(X,y,test_size=0.2,random_state=42)\n"
   ]
  },
  {
   "cell_type": "code",
   "execution_count": null,
   "metadata": {
    "scrolled": true
   },
   "outputs": [],
   "source": [
    "class CircleModelV2(nn.Module):\n",
    "    def __init__(self):\n",
    "        super().__init__()\n",
    "        self.layer_1 = nn.Linear(in_features=2,out_features=10)\n",
    "        self.layer_2 = nn.Linear(in_features=10,out_features=10)\n",
    "        self.layer_3 = nn.Linear(in_features=10,out_features=1)\n",
    "        self.relu = nn.ReLU()\n",
    "        \n",
    "    def forward(self,x):\n",
    "        return self.layer_3(self.relu(self.layer_2(self.relu(self.layer_1(x)))))\n",
    "        \n",
    "model_3 = CircleModelV2().to(device)\n",
    "model_3"
   ]
  },
  {
   "cell_type": "code",
   "execution_count": null,
   "metadata": {},
   "outputs": [],
   "source": [
    "def accuracy_fn(y_true,y_pred):\n",
    "    correct = torch.eq(y_true,y_pred).sum().item()\n",
    "    acc = correct/len(y_true)*100\n",
    "    return acc"
   ]
  },
  {
   "cell_type": "code",
   "execution_count": null,
   "metadata": {},
   "outputs": [],
   "source": [
    "loss_fn = nn.BCEWithLogitsLoss()\n",
    "optimizer = torch.optim.SGD(params=model_3.parameters(),\n",
    "                           lr=0.1)"
   ]
  },
  {
   "cell_type": "code",
   "execution_count": null,
   "metadata": {
    "scrolled": true
   },
   "outputs": [],
   "source": [
    "y_logits = model_3(X_train)\n",
    "test_logits = model_3(X_test)\n",
    "y_logits.shape,test_logits.shape,y_train.shape,X_train.shape,y_test.shape,X_test.shape"
   ]
  },
  {
   "cell_type": "code",
   "execution_count": null,
   "metadata": {},
   "outputs": [],
   "source": [
    "y_train.unsqueeze(dim=1).shape"
   ]
  },
  {
   "cell_type": "code",
   "execution_count": null,
   "metadata": {},
   "outputs": [],
   "source": [
    "y_train.shape"
   ]
  },
  {
   "cell_type": "code",
   "execution_count": null,
   "metadata": {},
   "outputs": [],
   "source": [
    "torch.manual_seed(42)\n",
    "epochs = 1000\n",
    "\n",
    "X_train,y_train = X_train.to(device),y_train.to(device)\n",
    "X_test,y_test = X_test.to(device),y_test.to(device)\n",
    "\n",
    "for epoch in range(epochs):\n",
    "    y_logits = model_3(X_train).squeeze()\n",
    "    y_pred = torch.round(torch.sigmoid(y_logits))\n",
    "    \n",
    "    loss = loss_fn(y_logits,y_train)\n",
    "    acc = accuracy_fn(y_train,y_pred)\n",
    "    \n",
    "    optimizer.zero_grad()\n",
    "    loss.backward()\n",
    "    optimizer.step()\n",
    "    \n",
    "    model_3.eval()\n",
    "    with torch.inference_mode():\n",
    "        test_logits = model_3(X_test).squeeze()\n",
    "        test_pred = torch.round(torch.sigmoid(test_logits))\n",
    "        \n",
    "        \n",
    "        test_loss = loss_fn(test_logits,y_test)\n",
    "        test_acc = accuracy_fn(y_true=y_test,y_pred=test_pred)\n",
    "        \n",
    "        if epoch % 100 == 0:\n",
    "            print(f\"Epoch: {epoch} | Loss: {loss:.5f}, Accuracy: {acc:.2f}% | Test Loss: {test_loss:.5f}, Test Accuracy: {test_acc:.2f}%\")"
   ]
  },
  {
   "cell_type": "code",
   "execution_count": null,
   "metadata": {},
   "outputs": [],
   "source": [
    "test_logits = model_3(X_test)\n",
    "test_pred = torch.round(torch.sigmoid(test_logits))\n",
    "\n",
    "test_logits.shape,X_test.shape"
   ]
  },
  {
   "cell_type": "code",
   "execution_count": null,
   "metadata": {
    "scrolled": true
   },
   "outputs": [],
   "source": [
    "model_3.eval()\n",
    "with torch.inference_mode():\n",
    "    y_preds = torch.round(torch.sigmoid(model_3(X_test))).squeeze()\n",
    "    \n",
    "y_preds[:10],y[:10]\n",
    "f'{accuracy_fn(y_test,y_preds)}%'"
   ]
  },
  {
   "cell_type": "code",
   "execution_count": null,
   "metadata": {},
   "outputs": [],
   "source": [
    "def plot_decision_boundary(model: torch.nn.Module, X: torch.Tensor, y: torch.Tensor):\n",
    "    \"\"\"Plots decision boundaries of model predicting on X in comparison to y.\n",
    "\n",
    "    Source - https://madewithml.com/courses/foundations/neural-networks/ (with modifications)\n",
    "    \"\"\"\n",
    "    # Put everything to CPU (works better with NumPy + Matplotlib)\n",
    "    model.to(\"cpu\")\n",
    "    X, y = X.to(\"cpu\"), y.to(\"cpu\")\n",
    "\n",
    "    # Setup prediction boundaries and grid\n",
    "    x_min, x_max = X[:, 0].min() - 0.1, X[:, 0].max() + 0.1\n",
    "    y_min, y_max = X[:, 1].min() - 0.1, X[:, 1].max() + 0.1\n",
    "    xx, yy = np.meshgrid(np.linspace(x_min, x_max, 101), np.linspace(y_min, y_max, 101))\n",
    "\n",
    "    # Make features\n",
    "    X_to_pred_on = torch.from_numpy(np.column_stack((xx.ravel(), yy.ravel()))).float()\n",
    "\n",
    "    # Make predictions\n",
    "    model.eval()\n",
    "    with torch.inference_mode():\n",
    "        y_logits = model(X_to_pred_on)\n",
    "\n",
    "    # Test for multi-class or binary and adjust logits to prediction labels\n",
    "    if len(torch.unique(y)) > 2:\n",
    "        y_pred = torch.softmax(y_logits, dim=1).argmax(dim=1)  # mutli-class\n",
    "    else:\n",
    "        y_pred = torch.round(torch.sigmoid(y_logits))  # binary\n",
    "\n",
    "    # Reshape preds and plot\n",
    "    y_pred = y_pred.reshape(xx.shape).detach().numpy()\n",
    "    plt.contourf(xx, yy, y_pred, cmap=plt.cm.RdYlBu, alpha=0.7)\n",
    "    plt.scatter(X[:, 0], X[:, 1], c=y, s=40, cmap=plt.cm.RdYlBu)\n",
    "    plt.xlim(xx.min(), xx.max())\n",
    "    plt.ylim(yy.min(), yy.max())"
   ]
  },
  {
   "cell_type": "code",
   "execution_count": null,
   "metadata": {},
   "outputs": [],
   "source": [
    "plt.figure(figsize=(5,6))\n",
    "plt.subplot(2,1,1)\n",
    "plt.title(\"train\")\n",
    "plot_decision_boundary(model_1,X_train,y_train)\n",
    "plt.subplot(2,1,2)\n",
    "plt.title(\"test\")\n",
    "plot_decision_boundary(model_3,X_test,y_test)"
   ]
  },
  {
   "cell_type": "code",
   "execution_count": null,
   "metadata": {},
   "outputs": [],
   "source": [
    "preds = torch.randn(10,5)\n",
    "a = torch.rand(10,).reshape(5,2)\n",
    "# target = torch.randint(10,a)\n",
    "a"
   ]
  },
  {
   "cell_type": "code",
   "execution_count": null,
   "metadata": {
    "scrolled": true
   },
   "outputs": [],
   "source": [
    "preds"
   ]
  },
  {
   "cell_type": "code",
   "execution_count": null,
   "metadata": {},
   "outputs": [],
   "source": [
    "a = torch.randn(2,2,3,4) ##returns total number of elements in the input tensor\n",
    "a.numel()"
   ]
  },
  {
   "cell_type": "code",
   "execution_count": null,
   "metadata": {
    "scrolled": true
   },
   "outputs": [],
   "source": [
    "len(a)  ##not the same"
   ]
  },
  {
   "cell_type": "code",
   "execution_count": null,
   "metadata": {},
   "outputs": [],
   "source": [
    "try:\n",
    "    from torchmetrics import Accuracy\n",
    "except:\n",
    "    !pip install torchmetrics==0.9.3 "
   ]
  },
  {
   "cell_type": "code",
   "execution_count": null,
   "metadata": {},
   "outputs": [],
   "source": [
    "Accuracy()\n"
   ]
  },
  {
   "cell_type": "code",
   "execution_count": null,
   "metadata": {},
   "outputs": [],
   "source": []
  }
 ],
 "metadata": {
  "accelerator": "GPU",
  "colab": {
   "gpuType": "T4",
   "provenance": []
  },
  "kernelspec": {
   "display_name": "Python 3 (ipykernel)",
   "language": "python",
   "name": "python3"
  },
  "language_info": {
   "codemirror_mode": {
    "name": "ipython",
    "version": 3
   },
   "file_extension": ".py",
   "mimetype": "text/x-python",
   "name": "python",
   "nbconvert_exporter": "python",
   "pygments_lexer": "ipython3",
   "version": "3.9.12"
  }
 },
 "nbformat": 4,
 "nbformat_minor": 1
}
