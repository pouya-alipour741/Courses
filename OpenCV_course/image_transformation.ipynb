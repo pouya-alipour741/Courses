{
 "cells": [
  {
   "cell_type": "code",
   "execution_count": 9,
   "id": "08b815ba",
   "metadata": {},
   "outputs": [],
   "source": [
    "import cv2 as cv\n",
    "import numpy as np"
   ]
  },
  {
   "cell_type": "code",
   "execution_count": 2,
   "id": "17712159",
   "metadata": {},
   "outputs": [],
   "source": [
    "img = cv.imread(\"assets/Photos/park.jpg\")\n",
    "\n",
    "cv.imshow(\"image\", img)\n",
    "cv.waitKey(0)\n",
    "cv.destroyAllWindows()"
   ]
  },
  {
   "cell_type": "code",
   "execution_count": 3,
   "id": "7a714f1e",
   "metadata": {},
   "outputs": [],
   "source": [
    "def translate(img, x, y):\n",
    "    transmat = np.float32([[1,0,x],[0,1,y]])\n",
    "    dimension = (img.shape[1],img.shape[0])\n",
    "    \n",
    "    return cv.warpAffine(img, transmat, dimension)\n",
    "\n",
    "translated = translate(img, -20, 100)\n",
    "\n",
    "cv.imshow(\"translated\", translated)\n",
    "cv.waitKey(0)\n",
    "cv.destroyAllWindows()"
   ]
  },
  {
   "cell_type": "code",
   "execution_count": 4,
   "id": "13406af2",
   "metadata": {},
   "outputs": [],
   "source": [
    "def rotate(img, angle, rotPoint=None):\n",
    "    if rotPoint is None:\n",
    "        height, width = img.shape[:2]\n",
    "        rotPoint = ((width//2, height//2))\n",
    "        dimensions = (width, height)\n",
    "    transmat = cv.getRotationMatrix2D(rotPoint, angle,1)\n",
    "    \n",
    "    return cv.warpAffine(img, transmat, dimensions)\n",
    "\n",
    "rotated = rotate(img, -90)\n",
    "cv.imshow(\"rotated\", rotated)\n",
    "cv.waitKey(0)\n",
    "cv.destroyAllWindows()"
   ]
  },
  {
   "cell_type": "code",
   "execution_count": 5,
   "id": "140ee340",
   "metadata": {},
   "outputs": [],
   "source": [
    "resized = cv.resize(img, (500,500), cv.INTER_CUBIC)\n",
    "cv.imshow(\"resized\", resized)\n",
    "cv.waitKey(0)\n",
    "cv.destroyAllWindows()"
   ]
  },
  {
   "cell_type": "code",
   "execution_count": 6,
   "id": "a1e31763",
   "metadata": {},
   "outputs": [],
   "source": [
    "flipped = cv.flip(img, 1)  ##0 flip over x axis, 1 over y axis, -1 over both \n",
    "\n",
    "cv.imshow(\"flipped\", flipped)\n",
    "cv.waitKey(0)\n",
    "cv.destroyAllWindows()"
   ]
  },
  {
   "cell_type": "code",
   "execution_count": 7,
   "id": "32301404",
   "metadata": {},
   "outputs": [
    {
     "name": "stdout",
     "output_type": "stream",
     "text": [
      "(427, 640, 3)\n"
     ]
    }
   ],
   "source": [
    "cropped = img[:100, 500:600]\n",
    "\n",
    "print(img.shape)\n",
    "cv.imshow(\"img\", img)\n",
    "cv.imshow(\"cropped\", cropped)\n",
    "cv.waitKey(0)\n",
    "cv.destroyAllWindows()"
   ]
  },
  {
   "cell_type": "markdown",
   "id": "7d2b957e",
   "metadata": {},
   "source": [
    "# blurring"
   ]
  },
  {
   "cell_type": "code",
   "execution_count": 8,
   "id": "2dceb21f",
   "metadata": {},
   "outputs": [],
   "source": [
    "img = cv.imread(\"assets/Photos/cats.jpg\")\n",
    "\n",
    "blur = cv.blur(img, (3,3))\n",
    "gaussian_blur = cv.GaussianBlur(img, (3,3), 0)\n",
    "median_blur = cv.medianBlur(img, 3 )\n",
    "#note on sigmaSpace: how much pixels outside our kernel impact computations on the kernel\n",
    "bilateral_blur = cv.bilateralFilter(img, d=5, sigmaColor=35, sigmaSpace=25)\n",
    "\n",
    "cv.imshow(\"blur\", blur)\n",
    "cv.imshow(\"image\", img)\n",
    "cv.imshow(\"gaussian_blur\", gaussian_blur)\n",
    "cv.imshow(\"median_blur\", median_blur)\n",
    "cv.imshow(\"bilateral_blur\", bilateral_blur)\n",
    "\n",
    "\n",
    "cv.waitKey(0)\n",
    "cv.destroyAllWindows()"
   ]
  },
  {
   "cell_type": "markdown",
   "id": "c1b008ef",
   "metadata": {},
   "source": [
    "# thresholding"
   ]
  },
  {
   "cell_type": "code",
   "execution_count": 12,
   "id": "50be3aec",
   "metadata": {},
   "outputs": [],
   "source": [
    "img = cv.imread(\"assets/Photos/cats.jpg\")\n",
    "gray = cv.cvtColor(img, cv.COLOR_BGR2GRAY)\n",
    "\n",
    "cv.imshow(\"image\", img)\n",
    "cv.waitKey(0)\n",
    "cv.destroyAllWindows()"
   ]
  },
  {
   "cell_type": "code",
   "execution_count": 21,
   "id": "59d323f8",
   "metadata": {},
   "outputs": [
    {
     "name": "stdout",
     "output_type": "stream",
     "text": [
      "150.0\n"
     ]
    }
   ],
   "source": [
    "# simple thresholding\n",
    "threshold, thresh = cv.threshold(gray, 150, 255, type=cv.THRESH_BINARY)\n",
    "threshold_inv, thresh_inv = cv.threshold(gray, 150, 255, cv.THRESH_BINARY_INV)\n",
    "print(threshold)\n",
    "\n",
    "cv.imshow(\"thresholded\", thresh)\n",
    "cv.imshow(\"threshold_inverse\", thresh_inv)\n",
    "cv.waitKey(0)\n",
    "cv.destroyAllWindows()"
   ]
  },
  {
   "cell_type": "code",
   "execution_count": 46,
   "id": "88399786",
   "metadata": {},
   "outputs": [],
   "source": [
    "# adaptive thresholding\n",
    "# blockSize is our kernel/filter size\n",
    "adaptive_tresh = cv.adaptiveThreshold(gray, 255, cv.ADAPTIVE_THRESH_MEAN_C, cv.THRESH_BINARY, blockSize=11, C=3)\n",
    "\n",
    "cv.imshow(\"adaptive_tresh\", adaptive_tresh)\n",
    "cv.waitKey(0)\n",
    "cv.destroyAllWindows()"
   ]
  },
  {
   "cell_type": "code",
   "execution_count": null,
   "id": "3595374b",
   "metadata": {},
   "outputs": [],
   "source": []
  }
 ],
 "metadata": {
  "kernelspec": {
   "display_name": "Python 3 (ipykernel)",
   "language": "python",
   "name": "python3"
  },
  "language_info": {
   "codemirror_mode": {
    "name": "ipython",
    "version": 3
   },
   "file_extension": ".py",
   "mimetype": "text/x-python",
   "name": "python",
   "nbconvert_exporter": "python",
   "pygments_lexer": "ipython3",
   "version": "3.9.12"
  }
 },
 "nbformat": 4,
 "nbformat_minor": 5
}
