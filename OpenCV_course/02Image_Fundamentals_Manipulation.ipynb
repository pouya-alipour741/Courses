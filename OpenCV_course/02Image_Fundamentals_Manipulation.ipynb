{
 "cells": [
  {
   "cell_type": "code",
   "execution_count": 31,
   "id": "aa5ba16f",
   "metadata": {},
   "outputs": [
    {
     "name": "stdout",
     "output_type": "stream",
     "text": [
      "[[[ 37 123 245]\n",
      "  [ 37 123 245]\n",
      "  [ 35 124 245]\n",
      "  ...\n",
      "  [ 60  58  58]\n",
      "  [ 60  58  58]\n",
      "  [ 60  58  58]]\n",
      "\n",
      " [[ 37 123 245]\n",
      "  [ 37 123 245]\n",
      "  [ 35 124 245]\n",
      "  ...\n",
      "  [ 60  58  58]\n",
      "  [ 60  58  58]\n",
      "  [ 60  58  58]]\n",
      "\n",
      " [[ 37 124 244]\n",
      "  [ 37 123 245]\n",
      "  [ 37 123 245]\n",
      "  ...\n",
      "  [ 60  58  58]\n",
      "  [ 60  58  58]\n",
      "  [ 60  58  58]]\n",
      "\n",
      " ...\n",
      "\n",
      " [[255 255 255]\n",
      "  [255 255 255]\n",
      "  [255 255 255]\n",
      "  ...\n",
      "  [255 255 255]\n",
      "  [255 255 255]\n",
      "  [255 255 255]]\n",
      "\n",
      " [[255 255 255]\n",
      "  [255 255 255]\n",
      "  [255 255 255]\n",
      "  ...\n",
      "  [255 255 255]\n",
      "  [255 255 255]\n",
      "  [255 255 255]]\n",
      "\n",
      " [[255 255 255]\n",
      "  [255 255 255]\n",
      "  [255 255 255]\n",
      "  ...\n",
      "  [255 255 255]\n",
      "  [255 255 255]\n",
      "  [255 255 255]]]\n"
     ]
    }
   ],
   "source": [
    "import cv2 as cv\n",
    "import numpy as np\n",
    "import random\n",
    "\n",
    "img = cv.imread(\"assets/logo.jpg\",-1)\n",
    "print(img[200:500,500:700])"
   ]
  },
  {
   "cell_type": "code",
   "execution_count": 32,
   "id": "d84861a2",
   "metadata": {},
   "outputs": [
    {
     "name": "stdout",
     "output_type": "stream",
     "text": [
      "(995, 1000, 3)\n",
      "[[ 38 117 244]\n",
      " [ 39 118 245]\n",
      " [ 37 118 245]\n",
      " [ 37 118 245]\n",
      " [ 39 118 245]\n",
      " [ 39 118 245]\n",
      " [ 39 118 245]\n",
      " [ 37 118 245]\n",
      " [ 37 119 244]\n",
      " [ 37 119 244]]\n",
      "[[ 38 117 244]\n",
      " [ 39 118 245]\n",
      " [ 37 118 245]\n",
      " [ 37 118 245]\n",
      " [ 39 118 245]\n",
      " [ 39 118 245]\n",
      " [ 39 118 245]\n",
      " [ 37 118 245]\n",
      " [ 37 119 244]\n",
      " [ 37 119 244]]\n"
     ]
    }
   ],
   "source": [
    "print(img.shape)\n",
    "print(img[257][500:510])\n",
    "print(img[257,500:510])\n"
   ]
  },
  {
   "cell_type": "code",
   "execution_count": 45,
   "id": "f7d0f445",
   "metadata": {},
   "outputs": [],
   "source": [
    "for i in range(500,600):\n",
    "    for j in range(img.shape[1]): #all width values\n",
    "        # height, width, channel\n",
    "        img[i][j] = [random.randrange(255), random.randrange(255), random.randrange(255)]\n",
    "\n",
    "cv.imshow(\"image\", img)\n",
    "        \n",
    "cv.waitKey(0)\n",
    "cv.destroyAllWindows()"
   ]
  },
  {
   "cell_type": "code",
   "execution_count": 34,
   "id": "81969bc7",
   "metadata": {},
   "outputs": [],
   "source": [
    "img = cv.imread(\"assets/logo.jpg\",-1)\n",
    "tag = img[500:900, 200:450]\n",
    "# tag = cv.rotate(tag, cv.ROTATE_180)\n",
    "img[200:600, 650:900] = tag\n",
    "\n",
    "cv.imshow(\"Image_tagged\", img)\n",
    "cv.waitKey(0)\n",
    "cv.destroyAllWindows()"
   ]
  },
  {
   "cell_type": "code",
   "execution_count": 52,
   "id": "a3f9c23f",
   "metadata": {},
   "outputs": [],
   "source": [
    "## rescale  \n",
    "img2 = cv.imread(\"assets/logo.jpg\",-1)\n",
    "\n",
    "def rescale(img2, scale):\n",
    "    height = int(img2.shape[0]* scale)\n",
    "    width = int(img2.shape[1]* scale)\n",
    "\n",
    "    dimensions = (width, height)\n",
    "    \n",
    "    return cv.resize(img2, dimensions, interpolation=cv.INTER_AREA)\n",
    "    \n",
    "img2 = rescale(img2, 0.5)\n",
    "cv.imshow(\"image\", img2)\n",
    "cv.waitKey(0)\n",
    "cv.destroyAllWindows()"
   ]
  }
 ],
 "metadata": {
  "kernelspec": {
   "display_name": "Python 3 (ipykernel)",
   "language": "python",
   "name": "python3"
  },
  "language_info": {
   "codemirror_mode": {
    "name": "ipython",
    "version": 3
   },
   "file_extension": ".py",
   "mimetype": "text/x-python",
   "name": "python",
   "nbconvert_exporter": "python",
   "pygments_lexer": "ipython3",
   "version": "3.9.12"
  }
 },
 "nbformat": 4,
 "nbformat_minor": 5
}
