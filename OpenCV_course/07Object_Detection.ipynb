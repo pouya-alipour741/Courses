{
 "cells": [
  {
   "cell_type": "code",
   "execution_count": 1,
   "id": "1160a868",
   "metadata": {},
   "outputs": [
    {
     "data": {
      "text/plain": [
       "(100, 99)"
      ]
     },
     "execution_count": 1,
     "metadata": {},
     "output_type": "execute_result"
    }
   ],
   "source": [
    "import cv2 as cv\n",
    "import numpy as np\n",
    "\n",
    "img = cv.imread(\"assets/soccer_practice.jpg\", 0)\n",
    "img = cv.resize(img, (0,0), fx=0.8,fy=0.8)\n",
    "template = cv.imread(\"assets/ball.PNG\", 0)\n",
    "template = cv.resize(template, (0,0), fx=0.8,fy=0.8)\n",
    "h, w = template.shape\n",
    "h,w\n",
    "\n",
    "# cv.imshow(\"Image\", img)\n",
    "# cv.waitKey(0)\n",
    "# cv.destroyAllWindows()"
   ]
  },
  {
   "cell_type": "code",
   "execution_count": 2,
   "id": "085b3d83",
   "metadata": {},
   "outputs": [],
   "source": [
    "methods = [cv.TM_CCOEFF, cv.TM_CCOEFF_NORMED, cv.TM_CCORR, cv.TM_CCORR_NORMED, cv.TM_SQDIFF, cv.TM_SQDIFF_NORMED]"
   ]
  },
  {
   "cell_type": "code",
   "execution_count": 3,
   "id": "504ae93e",
   "metadata": {},
   "outputs": [
    {
     "data": {
      "text/plain": [
       "array([[1.        , 1.        , 1.        , ..., 1.        , 1.        ,\n",
       "        1.        ],\n",
       "       [1.        , 1.        , 1.        , ..., 1.        , 1.        ,\n",
       "        1.        ],\n",
       "       [1.        , 1.        , 1.        , ..., 1.        , 1.        ,\n",
       "        1.        ],\n",
       "       ...,\n",
       "       [0.38080898, 0.38042098, 0.38018247, ..., 0.42986944, 0.4294465 ,\n",
       "        0.42955226],\n",
       "       [0.38033822, 0.38012308, 0.37991667, ..., 0.42695552, 0.42630354,\n",
       "        0.426018  ],\n",
       "       [0.37969264, 0.37980548, 0.37973103, ..., 0.42340478, 0.42307106,\n",
       "        0.42272657]], dtype=float32)"
      ]
     },
     "execution_count": 3,
     "metadata": {},
     "output_type": "execute_result"
    }
   ],
   "source": [
    "##this works like cnn kernel filter in pytorch and return 2D array of the pixels that matched the most\n",
    "res = cv.matchTemplate(img, template, cv.TM_SQDIFF_NORMED)  ##needs image in grayscale\n",
    "res"
   ]
  },
  {
   "cell_type": "code",
   "execution_count": 4,
   "id": "64e03be5",
   "metadata": {},
   "outputs": [
    {
     "data": {
      "text/plain": [
       "(0.043713029474020004, 1.0, (537, 67), (0, 0))"
      ]
     },
     "execution_count": 4,
     "metadata": {},
     "output_type": "execute_result"
    }
   ],
   "source": [
    "##find min and max for values and locations\n",
    "cv.minMaxLoc(res)"
   ]
  },
  {
   "cell_type": "code",
   "execution_count": 12,
   "id": "ad777936",
   "metadata": {},
   "outputs": [
    {
     "name": "stdout",
     "output_type": "stream",
     "text": [
      "4\n",
      "5\n",
      "2\n",
      "3\n",
      "0\n",
      "1\n"
     ]
    }
   ],
   "source": [
    "for method in methods:\n",
    "    print(method)\n",
    "    img2 = img.copy()\n",
    "    result = cv.matchTemplate(img, template, method)\n",
    "    min_val, max_val, min_loc, max_loc = cv.minMaxLoc(result)\n",
    "    \n",
    "    if method in [cv.TM_SQDIFF, cv.TM_SQDIFF_NORMED]:\n",
    "        location = min_loc\n",
    "    else:\n",
    "        location = max_loc\n",
    "    \n",
    "    bottom_right = (location[0] + h, location[1] + w)\n",
    "    cv.rectangle(img2, location, bottom_right, 255, 5)\n",
    "    \n",
    "    centre = (location[0]+(h//2),location[1]+(w//2))\n",
    "    cv.circle(img2, centre, w//2, (150,30,180), 5 )\n",
    "    \n",
    "    img2 = cv.cvtColor(img2, cv.COLOR_GRAY2BGR)  #problem:this is not working here\n",
    "    \n",
    "    cv.imshow(\"match\", img2)\n",
    "    cv.waitKey(0)\n",
    "    cv.destroyAllWindows()"
   ]
  },
  {
   "cell_type": "code",
   "execution_count": null,
   "id": "3dba6244",
   "metadata": {},
   "outputs": [],
   "source": []
  }
 ],
 "metadata": {
  "kernelspec": {
   "display_name": "Python 3 (ipykernel)",
   "language": "python",
   "name": "python3"
  },
  "language_info": {
   "codemirror_mode": {
    "name": "ipython",
    "version": 3
   },
   "file_extension": ".py",
   "mimetype": "text/x-python",
   "name": "python",
   "nbconvert_exporter": "python",
   "pygments_lexer": "ipython3",
   "version": "3.9.12"
  }
 },
 "nbformat": 4,
 "nbformat_minor": 5
}
