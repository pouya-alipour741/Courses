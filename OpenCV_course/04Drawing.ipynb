{
 "cells": [
  {
   "cell_type": "code",
   "execution_count": 1,
   "id": "3860e1ab",
   "metadata": {},
   "outputs": [],
   "source": [
    "import cv2 as cv\n",
    "import numpy as np"
   ]
  },
  {
   "cell_type": "code",
   "execution_count": 2,
   "id": "b434e50b",
   "metadata": {},
   "outputs": [
    {
     "name": "stdout",
     "output_type": "stream",
     "text": [
      "(540, 960, 3)\n"
     ]
    }
   ],
   "source": [
    "cap = cv.VideoCapture(\"assets/na-2.mp4\")\n",
    "\n",
    "while True:\n",
    "    ret, frame = cap.read()\n",
    "    width = int(cap.get(3))\n",
    "    height = int(cap.get(4))\n",
    "    \n",
    "    image = cv.line(frame, pt1=(0,0), pt2=(width,height), color=(0,255,0), thickness=10)\n",
    "    image = cv.line(image, (0,height), (width,0), (0,0,255),2)\n",
    "    image = cv.rectangle(image, (width//4,height//4), (width//2,height//2),(255,0,0),20)\n",
    "    image = cv.circle(image, (width//2,height//2), 60, (255,0,255), -1) ##fills the circle\n",
    "    img = cv.putText(image, \"this is a test\",(300,height-50), fontFace=cv.FONT_HERSHEY_SIMPLEX,\n",
    "                     fontScale=1.5, color=(100,100,255), thickness=5, lineType=cv.LINE_AA )\n",
    "    \n",
    "    cv.imshow(\"frame\", frame)\n",
    "\n",
    "    if cv.waitKey(100) == ord(\"q\"):\n",
    "        print(frame.shape)\n",
    "        break\n",
    "        \n",
    "\n",
    "cv.destroyAllWindows()"
   ]
  },
  {
   "cell_type": "code",
   "execution_count": 28,
   "id": "dc39576a",
   "metadata": {},
   "outputs": [],
   "source": [
    "##drawing on blank\n",
    "# img = cv.imread(\"assets/chessboard.png\")\n",
    "# img = cv.resize(img, (0,0), fx=0.5, fy=0.5)\n",
    "\n",
    "blank = np.zeros((500,500,3), dtype=\"uint8\")\n",
    "for i in range(100,300):\n",
    "    for j in range(400,500):\n",
    "        blank[i,j] = [0,255,0]\n",
    "        \n",
    "cv.rectangle(blank, (0, 0), (blank.shape[1]//2,blank.shape[0]), (0,0,255), thickness=cv.FILLED )  ##cv.FILLED or -1 to fill the rectangle\n",
    "        \n",
    "cv.imshow(\"blank\", blank)\n",
    "\n",
    "cv.waitKey(0)\n",
    "cv.destroyAllWindows()"
   ]
  }
 ],
 "metadata": {
  "kernelspec": {
   "display_name": "Python 3 (ipykernel)",
   "language": "python",
   "name": "python3"
  },
  "language_info": {
   "codemirror_mode": {
    "name": "ipython",
    "version": 3
   },
   "file_extension": ".py",
   "mimetype": "text/x-python",
   "name": "python",
   "nbconvert_exporter": "python",
   "pygments_lexer": "ipython3",
   "version": "3.9.12"
  }
 },
 "nbformat": 4,
 "nbformat_minor": 5
}
