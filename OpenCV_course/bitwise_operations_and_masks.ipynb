{
 "cells": [
  {
   "cell_type": "code",
   "execution_count": 12,
   "id": "36c1af48",
   "metadata": {},
   "outputs": [],
   "source": [
    "import cv2 as cv\n",
    "import numpy as np"
   ]
  },
  {
   "cell_type": "code",
   "execution_count": 31,
   "id": "9849ec75",
   "metadata": {},
   "outputs": [],
   "source": [
    "blank = np.zeros((400,400),dtype=\"uint8\")\n",
    "\n",
    "rectangle = cv.rectangle(blank.copy(), (30,30), (370,370),255, -1)\n",
    "circle = cv.circle(blank.copy(), (200,200), 200, 255, -1)\n",
    "\n",
    "cv.imshow(\"rectangle\", rectangle)\n",
    "cv.imshow(\"circle\", circle)\n",
    "cv.waitKey(0)\n",
    "cv.destroyAllWindows()"
   ]
  },
  {
   "cell_type": "code",
   "execution_count": 41,
   "id": "b2ffd000",
   "metadata": {},
   "outputs": [],
   "source": [
    "bitwise_and = cv.bitwise_and(rectangle, circle)\n",
    "\n",
    "cv.imshow(\"bitwise_and\", bitwise_and)\n",
    "cv.waitKey(0)\n",
    "cv.destroyAllWindows()"
   ]
  },
  {
   "cell_type": "code",
   "execution_count": 37,
   "id": "bb5f66b7",
   "metadata": {},
   "outputs": [],
   "source": [
    "bitwise_or = cv.bitwise_or(rectangle, circle)\n",
    "\n",
    "cv.imshow(\"bitwise_or\", bitwise_or)\n",
    "cv.waitKey(0)\n",
    "cv.destroyAllWindows()"
   ]
  },
  {
   "cell_type": "code",
   "execution_count": 42,
   "id": "5a6d192d",
   "metadata": {},
   "outputs": [],
   "source": [
    "bitwise_xor = cv.bitwise_xor(rectangle, circle)\n",
    "\n",
    "cv.imshow(\"bitwise_xor\", bitwise_xor)\n",
    "cv.waitKey(0)\n",
    "cv.destroyAllWindows()"
   ]
  },
  {
   "cell_type": "code",
   "execution_count": 43,
   "id": "3534e63f",
   "metadata": {},
   "outputs": [],
   "source": [
    "## paired view\n",
    "cv.imshow(\"bitwise_xor\", bitwise_xor)\n",
    "cv.imshow(\"bitwise_or\", bitwise_or)\n",
    "cv.imshow(\"bitwise_and\", bitwise_and)\n",
    "\n",
    "cv.waitKey(0)\n",
    "cv.destroyAllWindows()"
   ]
  },
  {
   "cell_type": "code",
   "execution_count": 45,
   "id": "dcde25d6",
   "metadata": {},
   "outputs": [],
   "source": [
    "##invert the image eg: from white to black\n",
    "bitwise_not = cv.bitwise_not(circle)\n",
    "\n",
    "cv.imshow(\"bitwise_not\", bitwise_not)\n",
    "cv.waitKey(0)\n",
    "cv.destroyAllWindows()"
   ]
  },
  {
   "cell_type": "markdown",
   "id": "26fd7691",
   "metadata": {},
   "source": [
    "# masks"
   ]
  },
  {
   "cell_type": "code",
   "execution_count": 54,
   "id": "eaf5d625",
   "metadata": {},
   "outputs": [],
   "source": [
    "img = cv.imread(\"assets/Photos/cats.jpg\")\n",
    "\n",
    "cv.imshow(\"image\", img)\n",
    "cv.waitKey(0)\n",
    "cv.destroyAllWindows()"
   ]
  },
  {
   "cell_type": "code",
   "execution_count": 72,
   "id": "a22563dd",
   "metadata": {},
   "outputs": [],
   "source": [
    "blank = np.zeros(img.shape[:2], dtype=\"uint8\")\n",
    "mask = cv.circle(blank, (img.shape[1]//2 + 50,img.shape[0]//2 + 60), 100, 255, -1)\n",
    "\n",
    "cv.imshow(\"mask\", mask)\n",
    "\n",
    "## mask must always be same size as the image\n",
    "masked = cv.bitwise_and(img,img, mask=mask)\n",
    "\n",
    "cv.imshow(\"masked\", masked)\n",
    "cv.waitKey(0)\n",
    "cv.destroyAllWindows()"
   ]
  },
  {
   "cell_type": "code",
   "execution_count": 76,
   "id": "5dd1711b",
   "metadata": {},
   "outputs": [],
   "source": [
    "blank = np.zeros(img.shape[:2], dtype=\"uint8\")\n",
    "circle = cv.circle(blank.copy(), (img.shape[1]//2 + 50,img.shape[0]//2 + 60), 100, 255, -1)\n",
    "rectangle = cv.rectangle(blank.copy(), (30,30), (370,370),255, -1)\n",
    "cv.imshow(\"rectangle\", rectangle)\n",
    "\n",
    "weird_shape = cv.bitwise_and(circle, rectangle)\n",
    "cv.imshow(\"weird_shape\", weird_shape)\n",
    "\n",
    "masked = cv.bitwise_and(img, img, mask=weird_shape)\n",
    "cv.imshow(\"weird shape masked image\", masked)\n",
    "cv.waitKey(0)\n",
    "cv.destroyAllWindows()"
   ]
  },
  {
   "cell_type": "code",
   "execution_count": null,
   "id": "5e8fc82f",
   "metadata": {},
   "outputs": [],
   "source": []
  }
 ],
 "metadata": {
  "kernelspec": {
   "display_name": "Python 3 (ipykernel)",
   "language": "python",
   "name": "python3"
  },
  "language_info": {
   "codemirror_mode": {
    "name": "ipython",
    "version": 3
   },
   "file_extension": ".py",
   "mimetype": "text/x-python",
   "name": "python",
   "nbconvert_exporter": "python",
   "pygments_lexer": "ipython3",
   "version": "3.9.12"
  }
 },
 "nbformat": 4,
 "nbformat_minor": 5
}
