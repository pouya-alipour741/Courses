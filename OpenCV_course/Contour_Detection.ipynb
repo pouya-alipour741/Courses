{
 "cells": [
  {
   "cell_type": "code",
   "execution_count": 1,
   "id": "f5e06422",
   "metadata": {},
   "outputs": [],
   "source": [
    "import cv2 as cv\n",
    "import numpy as np"
   ]
  },
  {
   "cell_type": "code",
   "execution_count": 2,
   "id": "2aeab89d",
   "metadata": {},
   "outputs": [],
   "source": [
    "img = cv.imread(\"assets/Photos/cats.jpg\")\n",
    "\n",
    "cv.imshow(\"image\",img)\n",
    "cv.waitKey(0)\n",
    "cv.destroyAllWindows()"
   ]
  },
  {
   "cell_type": "code",
   "execution_count": 3,
   "id": "74e78c26",
   "metadata": {},
   "outputs": [],
   "source": [
    "gray = cv.cvtColor(img, cv.COLOR_BGR2GRAY)\n",
    "\n",
    "canny = cv.Canny(img, 125, 175)\n",
    "\n",
    "blur = cv.GaussianBlur(canny, (5,5), cv.BORDER_DEFAULT)\n",
    "\n",
    "cv.imshow(\"canny\",canny)\n",
    "cv.imshow(\"blur\",blur)\n",
    "cv.waitKey(0)\n",
    "cv.destroyAllWindows()"
   ]
  },
  {
   "cell_type": "markdown",
   "id": "eb6e5b7f",
   "metadata": {},
   "source": [
    "### more details about argument infindContours()\n",
    "https://docs.opencv.org/3.4/d3/dc0/group__imgproc__shape.html#ga819779b9857cc2f8601e6526a3a5bc71\n",
    "\n",
    "https://docs.opencv.org/3.4/d3/dc0/group__imgproc__shape.html#ga4303f45752694956374734a03c54d5ff"
   ]
  },
  {
   "cell_type": "code",
   "execution_count": 4,
   "id": "933ca494",
   "metadata": {},
   "outputs": [
    {
     "name": "stdout",
     "output_type": "stream",
     "text": [
      "2794 contours found!\n"
     ]
    }
   ],
   "source": [
    "contours, hierarchies = cv.findContours(canny, cv.RETR_LIST, cv.CHAIN_APPROX_NONE)\n",
    "print(f\"{len(contours)} contours found!\")"
   ]
  },
  {
   "cell_type": "code",
   "execution_count": 5,
   "id": "b69c84b4",
   "metadata": {},
   "outputs": [
    {
     "name": "stdout",
     "output_type": "stream",
     "text": [
      "454 contours found!\n"
     ]
    }
   ],
   "source": [
    "contours, hierarchies = cv.findContours(blur, cv.RETR_LIST, cv.CHAIN_APPROX_SIMPLE)\n",
    "print(f\"{len(contours)} contours found!\")"
   ]
  },
  {
   "cell_type": "code",
   "execution_count": 6,
   "id": "07d6f7be",
   "metadata": {},
   "outputs": [
    {
     "name": "stdout",
     "output_type": "stream",
     "text": [
      "839 contours found!\n"
     ]
    }
   ],
   "source": [
    "## thresholding tries to binaries values\n",
    "retr, thresh = cv.threshold(gray, 125, 255, cv.THRESH_BINARY) ## more than 125 values turns into 255\n",
    "cv.imshow(\"thresh\",thresh)\n",
    "cv.waitKey(0)\n",
    "cv.destroyAllWindows()\n",
    "\n",
    "##finding contours\n",
    "contours, hierarchies = cv.findContours(thresh, cv.RETR_LIST, cv.CHAIN_APPROX_SIMPLE)\n",
    "print(f\"{len(contours)} contours found!\")"
   ]
  },
  {
   "cell_type": "code",
   "execution_count": 7,
   "id": "16797721",
   "metadata": {},
   "outputs": [],
   "source": [
    "##drawing contours\n",
    "blank = np.zeros(img.shape, dtype=\"uint8\")\n",
    "blur = cv.GaussianBlur(gray, (5,5), cv.BORDER_DEFAULT)\n",
    "canny = cv.Canny(blur, 125, 175)\n",
    "\n",
    "##canny is the favored in most cases because it's simplest and get the job done well\n",
    "contours, hierarchies = cv.findContours(canny, cv.RETR_LIST, cv.CHAIN_APPROX_SIMPLE)\n",
    "\n",
    "cv.drawContours(blank, contours, -1, (0,0,255), 1)\n",
    "cv.imshow(\"drawn contours\", blank)\n",
    "cv.imshow(\"thresh\", blur)\n",
    "cv.waitKey(0)\n",
    "cv.destroyAllWindows()"
   ]
  }
 ],
 "metadata": {
  "kernelspec": {
   "display_name": "Python 3 (ipykernel)",
   "language": "python",
   "name": "python3"
  },
  "language_info": {
   "codemirror_mode": {
    "name": "ipython",
    "version": 3
   },
   "file_extension": ".py",
   "mimetype": "text/x-python",
   "name": "python",
   "nbconvert_exporter": "python",
   "pygments_lexer": "ipython3",
   "version": "3.9.12"
  }
 },
 "nbformat": 4,
 "nbformat_minor": 5
}
