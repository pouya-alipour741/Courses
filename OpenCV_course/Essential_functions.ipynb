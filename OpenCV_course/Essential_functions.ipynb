{
 "cells": [
  {
   "cell_type": "code",
   "execution_count": 20,
   "id": "1b1fafc8",
   "metadata": {},
   "outputs": [],
   "source": [
    "import cv2 as cv\n",
    "import numpy as np"
   ]
  },
  {
   "cell_type": "code",
   "execution_count": 26,
   "id": "3ce85ac4",
   "metadata": {},
   "outputs": [],
   "source": [
    "img = cv.imread(\"assets/Photos/park.jpg\")\n",
    "\n",
    "gray = cv.cvtColor(img, cv.COLOR_BGR2GRAY)\n",
    "cv.imshow(\"gray\", gray)\n",
    "\n",
    "blur = cv.GaussianBlur(img, (7,7), sigmaX=cv.BORDER_DEFAULT)\n",
    "cv.imshow(\"blur\", blur)\n",
    "\n",
    "cv.waitKey(0)\n",
    "cv.destroyAllWindows()"
   ]
  },
  {
   "cell_type": "code",
   "execution_count": 25,
   "id": "9e871a7b",
   "metadata": {},
   "outputs": [],
   "source": [
    "## edge cascade\n",
    "canny = cv.Canny(img, 125, 175)\n",
    "canny_blur = cv.Canny(blur, 125, 175)\n",
    "\n",
    "cv.imshow(\"canny\", canny)\n",
    "cv.imshow(\"canny on blur\", canny_blur)\n",
    "\n",
    "cv.waitKey(0)\n",
    "cv.destroyAllWindows()"
   ]
  },
  {
   "cell_type": "code",
   "execution_count": 32,
   "id": "83638ba1",
   "metadata": {},
   "outputs": [],
   "source": [
    "## dilating the image\n",
    "dilated = cv.dilate(canny_blur, (7,7), iterations=3)\n",
    "cv.imshow(\"dilated\", dilated)\n",
    "\n",
    "#erode in most cases revert dilated image\n",
    "eroded = cv.erode(dilated, (7,7), iterations=3)\n",
    "cv.imshow(\"eroded\", eroded)\n",
    "cv.imshow(\"canny on blur\", canny_blur)\n",
    "\n",
    "cv.waitKey(0)\n",
    "cv.destroyAllWindows()"
   ]
  },
  {
   "cell_type": "code",
   "execution_count": 45,
   "id": "f16ac876",
   "metadata": {},
   "outputs": [
    {
     "name": "stdout",
     "output_type": "stream",
     "text": [
      "(427, 640, 3)\n"
     ]
    }
   ],
   "source": [
    "##resize\n",
    "\"\"\"\n",
    "note 1: default interpolation=cv.INTER_AREA, \n",
    "note 2:cv.INTER_CUBIC has much higher quality result than inter_area and inter_linear\n",
    "\"\"\"\n",
    "resized_img = cv.resize(img, (500,500), interpolation=cv.INTER_CUBIC)  \n",
    "\n",
    "\n",
    "cv.imshow(\"resized_img\", resized_img)\n",
    "\n",
    "print(img.shape)\n",
    "cropped = resized_img[:200, 400:600]\n",
    "cv.imshow(\"cropped\", cropped)\n",
    "\n",
    "cv.waitKey(0)\n",
    "cv.destroyAllWindows()"
   ]
  }
 ],
 "metadata": {
  "kernelspec": {
   "display_name": "Python 3 (ipykernel)",
   "language": "python",
   "name": "python3"
  },
  "language_info": {
   "codemirror_mode": {
    "name": "ipython",
    "version": 3
   },
   "file_extension": ".py",
   "mimetype": "text/x-python",
   "name": "python",
   "nbconvert_exporter": "python",
   "pygments_lexer": "ipython3",
   "version": "3.9.12"
  }
 },
 "nbformat": 4,
 "nbformat_minor": 5
}
