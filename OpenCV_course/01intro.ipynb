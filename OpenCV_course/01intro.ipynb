{
 "cells": [
  {
   "cell_type": "code",
   "execution_count": 1,
   "metadata": {},
   "outputs": [],
   "source": [
    "import cv2 as cv"
   ]
  },
  {
   "cell_type": "code",
   "execution_count": 2,
   "metadata": {},
   "outputs": [],
   "source": [
    "img = cv.imread(\"assets\\logo.jpg\",1)  ## 1 refer to IMREAD_UNCHANGED\n",
    "# img = cv.IMREAD_COLOR(\"assets\\shoe.PNG\")  -1\n",
    "# img = cv.IMREAD_GRAYSCALE(\"assets\\shoe.PNG\")   0\n",
    "# img = cv.IMREAD_UNCHANGED(\"assets\\shoe.PNG\")  1"
   ]
  },
  {
   "cell_type": "code",
   "execution_count": 3,
   "metadata": {},
   "outputs": [],
   "source": [
    "# img = cv.resize(img, (500, 500))\n",
    "img = cv.resize(img, (0,0), fx=0.5, fy=0.5)\n",
    "img = cv.rotate(img, cv.ROTATE_90_COUNTERCLOCKWISE)"
   ]
  },
  {
   "cell_type": "code",
   "execution_count": 4,
   "metadata": {},
   "outputs": [
    {
     "name": "stdout",
     "output_type": "stream",
     "text": [
      "already exist\n"
     ]
    },
    {
     "data": {
      "text/plain": [
       "True"
      ]
     },
     "execution_count": 4,
     "metadata": {},
     "output_type": "execute_result"
    }
   ],
   "source": [
    "from pathlib import Path\n",
    "if not Path(\"saved\").is_dir():\n",
    "    print(f\"creating folder {Path('saved')}\")\n",
    "    Path(\"saved\").mkdir(exist_ok=True,parents=True)\n",
    "else:\n",
    "    print(\"already exist\")\n",
    "cv.imwrite(\"saved/rotated_logo.jpg\",img)"
   ]
  },
  {
   "cell_type": "code",
   "execution_count": 5,
   "metadata": {},
   "outputs": [
    {
     "name": "stdout",
     "output_type": "stream",
     "text": [
      "(500, 498, 3)\n"
     ]
    }
   ],
   "source": [
    "print(img.shape)\n",
    "cv.imshow(\"Image\",img)\n",
    "cv.waitKey(0) #0 means wait infinite amount of time before closing\n",
    "cv.destroyAllWindows()"
   ]
  },
  {
   "cell_type": "code",
   "execution_count": null,
   "metadata": {},
   "outputs": [],
   "source": []
  }
 ],
 "metadata": {
  "kernelspec": {
   "display_name": "Python 3 (ipykernel)",
   "language": "python",
   "name": "python3"
  },
  "language_info": {
   "codemirror_mode": {
    "name": "ipython",
    "version": 3
   },
   "file_extension": ".py",
   "mimetype": "text/x-python",
   "name": "python",
   "nbconvert_exporter": "python",
   "pygments_lexer": "ipython3",
   "version": "3.9.12"
  }
 },
 "nbformat": 4,
 "nbformat_minor": 2
}
