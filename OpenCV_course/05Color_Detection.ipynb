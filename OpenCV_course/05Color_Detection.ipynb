{
 "cells": [
  {
   "cell_type": "code",
   "execution_count": 1,
   "id": "eaf136e6",
   "metadata": {},
   "outputs": [],
   "source": [
    "import cv2 as cv\n",
    "import numpy as np"
   ]
  },
  {
   "cell_type": "code",
   "execution_count": 6,
   "id": "fb3fdf3c",
   "metadata": {},
   "outputs": [],
   "source": [
    "cap = cv.VideoCapture(\"assets/na-2.mp4\")\n",
    "\n",
    "while True:\n",
    "    ret, frame = cap.read()\n",
    "    \n",
    "    hsv = cv.cvtColor(frame, cv.COLOR_BGR2HSV)\n",
    "    \n",
    "    lower_blue = np.array([90, 50, 50])\n",
    "    upper_blue = np.array([130, 255, 255])\n",
    "    \n",
    "    mask = cv.inRange(hsv, lower_blue, upper_blue)\n",
    "    \n",
    "    result = cv.bitwise_and(frame, frame, mask=mask)\n",
    "    \n",
    "    cv.imshow(\"frame\", result) ##show pixels between defined range\n",
    "    cv.imshow(\"mask\", mask)  ## show if it's between defined range(white) or not(black)\n",
    "    \n",
    "    if cv.waitKey(100) == ord(\"q\"):\n",
    "        break\n",
    "\n",
    "cap.release()\n",
    "cv.destroyAllWindows()"
   ]
  },
  {
   "cell_type": "code",
   "execution_count": 3,
   "id": "a8cfdc45",
   "metadata": {},
   "outputs": [
    {
     "data": {
      "text/plain": [
       "array([120, 255, 255], dtype=uint8)"
      ]
     },
     "execution_count": 3,
     "metadata": {},
     "output_type": "execute_result"
    }
   ],
   "source": [
    "BGR_color = cv.cvtColor(np.array([[[255,0,0]]], dtype=np.uint8), cv.COLOR_BGR2HSV)\n",
    "BGR_color[0][0]"
   ]
  },
  {
   "cell_type": "code",
   "execution_count": null,
   "id": "f76ad682",
   "metadata": {},
   "outputs": [],
   "source": []
  }
 ],
 "metadata": {
  "kernelspec": {
   "display_name": "Python 3 (ipykernel)",
   "language": "python",
   "name": "python3"
  },
  "language_info": {
   "codemirror_mode": {
    "name": "ipython",
    "version": 3
   },
   "file_extension": ".py",
   "mimetype": "text/x-python",
   "name": "python",
   "nbconvert_exporter": "python",
   "pygments_lexer": "ipython3",
   "version": "3.9.12"
  }
 },
 "nbformat": 4,
 "nbformat_minor": 5
}
