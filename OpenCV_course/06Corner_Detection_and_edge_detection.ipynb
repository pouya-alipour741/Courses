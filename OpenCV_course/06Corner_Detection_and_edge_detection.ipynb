{
 "cells": [
  {
   "cell_type": "code",
   "execution_count": 20,
   "id": "38094825",
   "metadata": {},
   "outputs": [],
   "source": [
    "import cv2 as cv\n",
    "import numpy as np"
   ]
  },
  {
   "cell_type": "markdown",
   "id": "b5566754",
   "metadata": {},
   "source": [
    "# corner detection"
   ]
  },
  {
   "cell_type": "code",
   "execution_count": 4,
   "id": "d871e459",
   "metadata": {},
   "outputs": [
    {
     "name": "stderr",
     "output_type": "stream",
     "text": [
      "C:\\Users\\pouya\\AppData\\Local\\Temp\\ipykernel_12816\\1944870150.py:7: DeprecationWarning: `np.int0` is a deprecated alias for `np.intp`.  (Deprecated NumPy 1.24)\n",
      "  corners = np.int0(corners) ##int64 also work, not sure why int0 is chosen\n"
     ]
    }
   ],
   "source": [
    "image = cv.imread(\"assets/chessboard.png\")\n",
    "image = cv.resize(image, (0,0), fx=0.75, fy=0.75)\n",
    "gray = cv.cvtColor(image, cv.COLOR_BGR2GRAY)\n",
    "\n",
    "corners = cv.goodFeaturesToTrack(gray, maxCorners=100, qualityLevel=0.01, minDistance=10)\n",
    "# print(corners) ##float datatype\n",
    "corners = np.int0(corners) ##int64 also work, not sure why int0 is chosen\n",
    "\n",
    "for corner in corners:\n",
    "    x, y = corner.ravel()\n",
    "    cv.circle(image, (x,y), 5, (255,0,0),-1)\n",
    "\n",
    "cv.imshow(\"Image\", image)\n",
    "cv.waitKey(0)\n",
    "cv.destroyAllWindows()"
   ]
  },
  {
   "cell_type": "code",
   "execution_count": 5,
   "id": "9cd0c89a",
   "metadata": {},
   "outputs": [],
   "source": [
    "## draw lines between corners\n",
    "image = cv.imread(\"assets/chessboard.png\")\n",
    "image = cv.resize(image, (0,0), fx=0.75, fy=0.75)\n",
    "gray = cv.cvtColor(image, cv.COLOR_BGR2GRAY)\n",
    "\n",
    "corners = cv.goodFeaturesToTrack(gray, maxCorners=100, qualityLevel=0.01, minDistance=10)\n",
    "# print(corners) ##float datatype\n",
    "corners = np.int64(corners)\n",
    "\n",
    "\n",
    "#connect each corner to the next corner\n",
    "for i in range(len(corners)):\n",
    "    for j in range(i+1, len(corners)):\n",
    "        corner1 = tuple(corners[i][0])\n",
    "        corner2 = tuple(corners[j][0])\n",
    "#         color = tuple(int(x) for x in np.random.randint(0, 255, size=3)) # same as below\n",
    "        color = tuple(map(lambda x:int(x), np.random.randint(0, 255, size=3)))\n",
    "        cv.line(image, corner1, corner2, color, 1)\n",
    "               \n",
    "cv.imshow(\"Image\", image)\n",
    "cv.waitKey(0)\n",
    "cv.destroyAllWindows()"
   ]
  },
  {
   "cell_type": "code",
   "execution_count": 6,
   "id": "18bfc285",
   "metadata": {},
   "outputs": [
    {
     "data": {
      "text/plain": [
       "(79, 1, 2)"
      ]
     },
     "execution_count": 6,
     "metadata": {},
     "output_type": "execute_result"
    }
   ],
   "source": [
    "corners.shape"
   ]
  },
  {
   "cell_type": "code",
   "execution_count": 7,
   "id": "371f0bbc",
   "metadata": {},
   "outputs": [
    {
     "data": {
      "text/html": [
       "<div>\n",
       "<style scoped>\n",
       "    .dataframe tbody tr th:only-of-type {\n",
       "        vertical-align: middle;\n",
       "    }\n",
       "\n",
       "    .dataframe tbody tr th {\n",
       "        vertical-align: top;\n",
       "    }\n",
       "\n",
       "    .dataframe thead th {\n",
       "        text-align: right;\n",
       "    }\n",
       "</style>\n",
       "<table border=\"1\" class=\"dataframe\">\n",
       "  <thead>\n",
       "    <tr style=\"text-align: right;\">\n",
       "      <th></th>\n",
       "      <th>corner1_list</th>\n",
       "      <th>corner2_list</th>\n",
       "    </tr>\n",
       "  </thead>\n",
       "  <tbody>\n",
       "    <tr>\n",
       "      <th>0</th>\n",
       "      <td>(450, 450)</td>\n",
       "      <td>(561, 449)</td>\n",
       "    </tr>\n",
       "    <tr>\n",
       "      <th>1</th>\n",
       "      <td>(450, 450)</td>\n",
       "      <td>(449, 561)</td>\n",
       "    </tr>\n",
       "    <tr>\n",
       "      <th>2</th>\n",
       "      <td>(450, 450)</td>\n",
       "      <td>(338, 450)</td>\n",
       "    </tr>\n",
       "    <tr>\n",
       "      <th>3</th>\n",
       "      <td>(450, 450)</td>\n",
       "      <td>(450, 338)</td>\n",
       "    </tr>\n",
       "    <tr>\n",
       "      <th>4</th>\n",
       "      <td>(450, 450)</td>\n",
       "      <td>(339, 560)</td>\n",
       "    </tr>\n",
       "    <tr>\n",
       "      <th>...</th>\n",
       "      <td>...</td>\n",
       "      <td>...</td>\n",
       "    </tr>\n",
       "    <tr>\n",
       "      <th>75</th>\n",
       "      <td>(450, 450)</td>\n",
       "      <td>(226, 893)</td>\n",
       "    </tr>\n",
       "    <tr>\n",
       "      <th>76</th>\n",
       "      <td>(450, 450)</td>\n",
       "      <td>(6, 673)</td>\n",
       "    </tr>\n",
       "    <tr>\n",
       "      <th>77</th>\n",
       "      <td>(450, 450)</td>\n",
       "      <td>(673, 6)</td>\n",
       "    </tr>\n",
       "    <tr>\n",
       "      <th>78</th>\n",
       "      <td>(561, 449)</td>\n",
       "      <td>(449, 561)</td>\n",
       "    </tr>\n",
       "    <tr>\n",
       "      <th>79</th>\n",
       "      <td>(561, 449)</td>\n",
       "      <td>(338, 450)</td>\n",
       "    </tr>\n",
       "  </tbody>\n",
       "</table>\n",
       "<p>80 rows × 2 columns</p>\n",
       "</div>"
      ],
      "text/plain": [
       "   corner1_list corner2_list\n",
       "0    (450, 450)   (561, 449)\n",
       "1    (450, 450)   (449, 561)\n",
       "2    (450, 450)   (338, 450)\n",
       "3    (450, 450)   (450, 338)\n",
       "4    (450, 450)   (339, 560)\n",
       "..          ...          ...\n",
       "75   (450, 450)   (226, 893)\n",
       "76   (450, 450)     (6, 673)\n",
       "77   (450, 450)     (673, 6)\n",
       "78   (561, 449)   (449, 561)\n",
       "79   (561, 449)   (338, 450)\n",
       "\n",
       "[80 rows x 2 columns]"
      ]
     },
     "execution_count": 7,
     "metadata": {},
     "output_type": "execute_result"
    }
   ],
   "source": [
    "##testing\n",
    "corner1_list, corner2_list = [], []\n",
    "for i in range(len(corners)):\n",
    "    for j in range(i+1, len(corners)):\n",
    "        corner1 = tuple(corners[i][0])\n",
    "        corner2 = tuple(corners[j][0])\n",
    "        corner1_list.append(corner1)\n",
    "        corner2_list.append(corner2)\n",
    "# print(corner2_list)\n",
    "\n",
    "import pandas as pd\n",
    "\n",
    "pd.DataFrame({\"corner1_list\":corner1_list,\"corner2_list\":corner2_list}).head(80)"
   ]
  },
  {
   "cell_type": "code",
   "execution_count": 19,
   "id": "9ff68379",
   "metadata": {},
   "outputs": [],
   "source": [
    "# corners = np.int64(corners)\n",
    "# corners"
   ]
  },
  {
   "cell_type": "code",
   "execution_count": 18,
   "id": "23a34a83",
   "metadata": {},
   "outputs": [],
   "source": [
    "# for i in range(len(corners)):\n",
    "#     for j in range(i+1, len(corners)):\n",
    "#         print(corners[i])"
   ]
  },
  {
   "cell_type": "code",
   "execution_count": 10,
   "id": "27e1f6c9",
   "metadata": {},
   "outputs": [
    {
     "data": {
      "text/plain": [
       "(113, 108, 108)"
      ]
     },
     "execution_count": 10,
     "metadata": {},
     "output_type": "execute_result"
    }
   ],
   "source": [
    "a = np.random.randint(0, 255, size=3)\n",
    "tuple(a)"
   ]
  },
  {
   "cell_type": "code",
   "execution_count": 11,
   "id": "28d127d7",
   "metadata": {},
   "outputs": [
    {
     "data": {
      "text/plain": [
       "(180, 221, 192)"
      ]
     },
     "execution_count": 11,
     "metadata": {},
     "output_type": "execute_result"
    }
   ],
   "source": [
    "tuple(map(lambda x:int(x), np.random.randint(0, 255, size=3)))"
   ]
  },
  {
   "cell_type": "code",
   "execution_count": 12,
   "id": "bdcd3efc",
   "metadata": {},
   "outputs": [
    {
     "data": {
      "text/plain": [
       "(67, 221, 119)"
      ]
     },
     "execution_count": 12,
     "metadata": {},
     "output_type": "execute_result"
    }
   ],
   "source": [
    "tuple((int(x) for x in np.random.randint(0, 255, size=3)))"
   ]
  },
  {
   "cell_type": "code",
   "execution_count": 17,
   "id": "a315d0f8",
   "metadata": {},
   "outputs": [],
   "source": [
    "# for corner in corners:\n",
    "#     x, y = corner.ravel()\n",
    "#     print(x,y)"
   ]
  },
  {
   "cell_type": "code",
   "execution_count": 14,
   "id": "233e26bf",
   "metadata": {},
   "outputs": [],
   "source": [
    "tuple(map(np.ravel, corners));"
   ]
  },
  {
   "cell_type": "markdown",
   "id": "4d0b04eb",
   "metadata": {},
   "source": [
    "# edge detection"
   ]
  },
  {
   "cell_type": "code",
   "execution_count": 69,
   "id": "3e46816a",
   "metadata": {},
   "outputs": [],
   "source": [
    "img = cv.imread(\"assets/Photos/park.jpg\")\n",
    "gray = cv.cvtColor(img, cv.COLOR_BGR2GRAY)\n",
    "\n",
    "cv.imshow(\"Image\", img)\n",
    "cv.imshow(\"gray\", gray)\n",
    "cv.waitKey(0)\n",
    "cv.destroyAllWindows()"
   ]
  },
  {
   "cell_type": "code",
   "execution_count": 75,
   "id": "c4776a90",
   "metadata": {},
   "outputs": [],
   "source": [
    "# laplacian\n",
    "lap = cv.Laplacian(gray, ddepth=cv.CV_64F)\n",
    "lap = np.uint8(np.absolute(lap))\n",
    "\n",
    "cv.imshow(\"lab\", lap)\n",
    "cv.waitKey(0)\n",
    "cv.destroyAllWindows()"
   ]
  },
  {
   "cell_type": "code",
   "execution_count": 77,
   "id": "1874ce2d",
   "metadata": {},
   "outputs": [],
   "source": [
    "# canny is more general use but sobel is used in advanced cases alot\n",
    "sobelx = cv.Sobel(gray, cv.CV_64F, 1, 0)\n",
    "sobely = cv.Sobel(gray, cv.CV_64F, 0, 1)\n",
    "combined = cv.bitwise_or(sobelx, sobely)\n",
    "\n",
    "cv.imshow(\"sobelx\", sobelx)\n",
    "cv.imshow(\"sobely\", sobely)\n",
    "cv.imshow(\"combined\", combined)\n",
    "\n",
    "canny = cv.Canny(gray, 150, 175)\n",
    "cv.imshow(\"canny\", canny)\n",
    "cv.waitKey(0)\n",
    "cv.destroyAllWindows()"
   ]
  },
  {
   "cell_type": "code",
   "execution_count": null,
   "id": "28f73796",
   "metadata": {},
   "outputs": [],
   "source": []
  }
 ],
 "metadata": {
  "kernelspec": {
   "display_name": "Python 3 (ipykernel)",
   "language": "python",
   "name": "python3"
  },
  "language_info": {
   "codemirror_mode": {
    "name": "ipython",
    "version": 3
   },
   "file_extension": ".py",
   "mimetype": "text/x-python",
   "name": "python",
   "nbconvert_exporter": "python",
   "pygments_lexer": "ipython3",
   "version": "3.9.12"
  }
 },
 "nbformat": 4,
 "nbformat_minor": 5
}
