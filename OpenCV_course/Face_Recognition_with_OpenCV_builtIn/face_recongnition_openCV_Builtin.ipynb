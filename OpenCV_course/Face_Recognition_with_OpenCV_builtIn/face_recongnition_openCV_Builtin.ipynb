{
 "cells": [
  {
   "cell_type": "code",
   "execution_count": 1,
   "id": "c55eae77",
   "metadata": {},
   "outputs": [],
   "source": [
    "import cv2 as cv\n",
    "import numpy as np"
   ]
  },
  {
   "cell_type": "code",
   "execution_count": null,
   "id": "46114fff",
   "metadata": {},
   "outputs": [],
   "source": [
    "face_cascade = cv.CascadeClassifier(\"../assets/haar_face.xml\")\n",
    "class_names = ['Ben Afflek', 'Elton John', 'Jerry Seinfield', 'Madonna', 'Mindy Kaling']\n",
    "\n",
    "features = np.load('features.npy', allow_pickle=True) #allow_pickle=True so we don't get error if we run the code second time\n",
    "labels = np.load('labels.npy', allow_pickle=True) \n",
    "\n",
    "face_recongnizer = cv.face.LBPHFaceRecongnizer_create()\n",
    "face_recongnizer.read(\"face_recongnizer.yml\")"
   ]
  },
  {
   "cell_type": "code",
   "execution_count": null,
   "id": "de23fe4f",
   "metadata": {},
   "outputs": [],
   "source": [
    "img = cv.imread(\"../assets/Faces/val/ben_afflek/3\")\n",
    "gray = cv.cvtColor(img, cv.COLOR_BGR2GRAY)\n",
    "cv.imshow(\"gray\", gray)"
   ]
  },
  {
   "cell_type": "code",
   "execution_count": null,
   "id": "05fc45d6",
   "metadata": {},
   "outputs": [],
   "source": [
    "face_rect = face_cascade.detectMultiScale(gray, 1.1, 3)\n",
    "\n",
    "for (x,y,w,h) in face_rect:\n",
    "    face_roi = gray[y:y+h, x:x+w]\n",
    "    label, confidence = face_recongnizer.predict(face_roi)\n",
    "    print(f\"label: {label} with confidence of :{confidence}\")\n",
    "    \n",
    "    cv.putText(img, str(class_names[label]), (20,20), cv.FONT_HERSHEY_COMPLEX, 1.0, (0,255,0), 2 )\n",
    "    cv.rectangle(img, (x,y), (x+w, y+h), (0,255,0), 2)\n",
    "    \n",
    "cv.imshow(\"detected face\", img)\n",
    "cv.waitKey(0)\n",
    "cv.destroyAllWindows()\n",
    "    \n"
   ]
  },
  {
   "cell_type": "code",
   "execution_count": null,
   "id": "594a65cc",
   "metadata": {},
   "outputs": [],
   "source": []
  }
 ],
 "metadata": {
  "kernelspec": {
   "display_name": "Python 3 (ipykernel)",
   "language": "python",
   "name": "python3"
  },
  "language_info": {
   "codemirror_mode": {
    "name": "ipython",
    "version": 3
   },
   "file_extension": ".py",
   "mimetype": "text/x-python",
   "name": "python",
   "nbconvert_exporter": "python",
   "pygments_lexer": "ipython3",
   "version": "3.9.12"
  }
 },
 "nbformat": 4,
 "nbformat_minor": 5
}
