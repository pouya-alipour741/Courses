{
 "cells": [
  {
   "cell_type": "code",
   "execution_count": 13,
   "id": "05202595",
   "metadata": {},
   "outputs": [],
   "source": [
    "import cv2 as cv\n",
    "import numpy as np\n",
    "\n"
   ]
  },
  {
   "cell_type": "code",
   "execution_count": 14,
   "id": "e20b6207",
   "metadata": {},
   "outputs": [],
   "source": [
    "cap = cv.VideoCapture(\"assets/na-2.mp4\")  ##cv.VideoCapture(0)for webcam\n",
    "while True:\n",
    "    ret, frame = cap.read()\n",
    "    resized_frame = cv.resize(frame, (0,0), fx=0.5, fy=0.5)\n",
    "    \n",
    "    \n",
    "    cv.imshow(\"frame\", frame)\n",
    "    cv.imshow(\"resized_frame\", resized_frame)\n",
    "    \n",
    "    if cv.waitKey(100) == ord(\"q\"):\n",
    "        break\n",
    "       \n",
    "\n",
    "cap.release()\n",
    "cv.destroyAllWindows()"
   ]
  },
  {
   "cell_type": "code",
   "execution_count": 15,
   "id": "7eccaba7",
   "metadata": {},
   "outputs": [],
   "source": [
    "##resizing videos with basic functions\n",
    "cap = cv.VideoCapture(\"assets/na-2.mp4\")\n",
    "\n",
    "def rescale(img, scale):\n",
    "    height = int(img.shape[0]* scale)\n",
    "    width = int(img.shape[1]* scale)\n",
    "\n",
    "    dimensions = (width, height)\n",
    "    \n",
    "    return cv.resize(img, dimensions, interpolation=cv.INTER_AREA)\n",
    "\n",
    "\n",
    "## only work for live videos and webcam\n",
    "def changeRes(height, width):\n",
    "    cap.set(3, width)\n",
    "    cap.set(4, height)\n",
    "    \n",
    "while True:\n",
    "    isTrue, frame = cap.read()\n",
    "    \n",
    "    frame = rescale(frame, 0.5)\n",
    "    \n",
    "    cv.imshow(\"frame\", frame)\n",
    "    \n",
    "    if cv.waitKey(100) == ord(\"q\"):\n",
    "        break\n",
    "        \n",
    "cap.release()\n",
    "cv.destroyAllWindows()\n"
   ]
  },
  {
   "cell_type": "code",
   "execution_count": 16,
   "id": "934f50a5",
   "metadata": {},
   "outputs": [],
   "source": [
    "##split into 4 frames\n",
    "cap = cv.VideoCapture(r\"assets/na-2.mp4\")\n",
    "while True:\n",
    "    ret, frame = cap.read()\n",
    "    height = int(cap.get(4))  ##same as frame.shape[0]\n",
    "    width = int(cap.get(3))\n",
    "    \n",
    "#     print(f\"frame.shape:{frame.shape[0]},height: {height}\")\n",
    "    \n",
    "    image = np.zeros(frame.shape, np.uint8)\n",
    "    smaller_frame = cv.resize(frame, (0,0), fx=0.5, fy=0.5)\n",
    "    image[:height//2,:width//2] = smaller_frame    \n",
    "    image[:height//2, width//2:] = smaller_frame\n",
    "    image[height//2:,:width//2] = smaller_frame\n",
    "#     text = cv.putText(smaller_frame, \"Test\",(20,50), cv.FONT_HERSHEY_SIMPLEX,2, (255,255,255), 7)\n",
    "    image[height//2:,width//2:] = smaller_frame\n",
    "    \n",
    "    cv.imshow(\"frame\", image)\n",
    "    \n",
    "    if cv.waitKey(100) == ord(\"q\"):\n",
    "        break\n",
    "       \n",
    "cap.release()\n",
    "cv.destroyAllWindows()"
   ]
  },
  {
   "cell_type": "code",
   "execution_count": 17,
   "id": "e2204020",
   "metadata": {},
   "outputs": [],
   "source": [
    "##rotate some frames\n",
    "cap = cv.VideoCapture(r\"assets/na-2.mp4\")\n",
    "while True:\n",
    "    ret, frame = cap.read()\n",
    "    height = int(cap.get(4))\n",
    "    width = int(cap.get(3))\n",
    "    \n",
    "    image = np.zeros(frame.shape, np.uint8)\n",
    "    smaller_frame = cv.resize(frame, (0,0), fx=0.5, fy=0.5)\n",
    "    image[:height//2,:width//2] = cv.rotate(smaller_frame, cv.ROTATE_180)\n",
    "    image[:height//2, width//2:] = smaller_frame\n",
    "    image[height//2:,:width//2] = smaller_frame\n",
    "    image[height//2:,width//2:] = cv.rotate(smaller_frame, cv.ROTATE_180)\n",
    "    \n",
    "    cv.imshow(\"frame\", image)\n",
    "    \n",
    "    if cv.waitKey(100) == ord(\"q\"):\n",
    "        break\n",
    "       \n",
    "cap.release()\n",
    "cv.destroyAllWindows()"
   ]
  },
  {
   "cell_type": "code",
   "execution_count": null,
   "id": "0ee98ade",
   "metadata": {},
   "outputs": [],
   "source": []
  }
 ],
 "metadata": {
  "kernelspec": {
   "display_name": "Python 3 (ipykernel)",
   "language": "python",
   "name": "python3"
  },
  "language_info": {
   "codemirror_mode": {
    "name": "ipython",
    "version": 3
   },
   "file_extension": ".py",
   "mimetype": "text/x-python",
   "name": "python",
   "nbconvert_exporter": "python",
   "pygments_lexer": "ipython3",
   "version": "3.9.12"
  }
 },
 "nbformat": 4,
 "nbformat_minor": 5
}
