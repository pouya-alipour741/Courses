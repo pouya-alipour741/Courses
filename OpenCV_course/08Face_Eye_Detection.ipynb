{
 "cells": [
  {
   "cell_type": "code",
   "execution_count": 67,
   "id": "727f6dce",
   "metadata": {},
   "outputs": [],
   "source": [
    "import cv2 as cv\n",
    "import numpy as np"
   ]
  },
  {
   "cell_type": "markdown",
   "id": "b11de635",
   "metadata": {},
   "source": [
    "## video face detection"
   ]
  },
  {
   "cell_type": "code",
   "execution_count": 75,
   "id": "710689bf",
   "metadata": {},
   "outputs": [],
   "source": [
    "cap = cv.VideoCapture(\"assets/Videos/face.mp4\") \n",
    "cap = cv.VideoCapture(\"assets/Videos/face3.mp4\")\n",
    "\n",
    "face_cascade = cv.CascadeClassifier(cv.data.haarcascades+'Haarcascade_frontalface_default.xml')\n",
    "eye_cascade = cv.CascadeClassifier(cv.data.haarcascades+'haarcascade_eye.xml')\n",
    "\n",
    "while True:\n",
    "    ret, frame = cap.read()\n",
    "    \n",
    "    gray = cv.cvtColor(frame, cv.COLOR_BGR2GRAY)\n",
    "    faces = face_cascade.detectMultiScale(gray, scaleFactor=1.3, minNeighbors=5)\n",
    "#     print(faces) \n",
    "    for (x,y,w,h) in faces:\n",
    "        cv.rectangle(frame, (x,y), (x+w, y+h ), (255,0,0), 5)\n",
    "        roi_gray = gray[y:y+h, x:x+w]\n",
    "        roi_color = frame[y:y+h, x:x+w]\n",
    "        eyes = eye_cascade.detectMultiScale(roi_gray, 1.3, 5)\n",
    "        for (ex,ey,ew,eh) in eyes:\n",
    "            cv.rectangle(roi_color, (ex,ey), (ex+ew, ey+eh), (0,255,0), 5 )\n",
    "    cv.imshow(\"frame\", frame)\n",
    "\n",
    "    if cv.waitKey(30) == ord(\"q\"):\n",
    "        break\n",
    "\n",
    "cap.release()\n",
    "cv.destroyAllWindows()"
   ]
  },
  {
   "cell_type": "markdown",
   "id": "d4261c31",
   "metadata": {},
   "source": [
    "### face detection with haardcascade"
   ]
  },
  {
   "cell_type": "code",
   "execution_count": 73,
   "id": "a7d0b39e",
   "metadata": {},
   "outputs": [],
   "source": [
    "img = cv.imread(\"assets/Photos/group 1.jpg\")\n",
    "\n",
    "gray = cv.cvtColor(img, cv.COLOR_BGR2GRAY)\n",
    "\n",
    "cv.imshow(\"img\", img)\n",
    "cv.waitKey(0)\n",
    "cv.destroyAllWindows()"
   ]
  },
  {
   "cell_type": "code",
   "execution_count": 74,
   "id": "a37c594c",
   "metadata": {},
   "outputs": [
    {
     "name": "stdout",
     "output_type": "stream",
     "text": [
      "19\n"
     ]
    }
   ],
   "source": [
    "img = cv.imread(\"assets/Photos/group 1.jpg\")\n",
    "\n",
    "gray = cv.cvtColor(img, cv.COLOR_BGR2GRAY)\n",
    "\n",
    "face_cascade = cv.CascadeClassifier(\"assets/haar_face.xml\")\n",
    "\n",
    "face_rect = face_cascade.detectMultiScale(gray, 1.1, 1)\n",
    "\n",
    "print(len(face_rect)) \n",
    "\n",
    "for (x,y,w,h) in face_rect:\n",
    "    cv.rectangle(img, (x,y), (x+w, y+h), (255,255,0), 2)\n",
    "    \n",
    "cv.imshow(\"group image\", img)\n",
    "cv.waitKey(0)\n",
    "cv.destroyAllWindows()"
   ]
  },
  {
   "cell_type": "markdown",
   "id": "cff7c8b8",
   "metadata": {},
   "source": [
    "### face detection with open cv's built in recognizer"
   ]
  },
  {
   "cell_type": "code",
   "execution_count": null,
   "id": "8c5b834b",
   "metadata": {},
   "outputs": [],
   "source": []
  }
 ],
 "metadata": {
  "kernelspec": {
   "display_name": "Python 3 (ipykernel)",
   "language": "python",
   "name": "python3"
  },
  "language_info": {
   "codemirror_mode": {
    "name": "ipython",
    "version": 3
   },
   "file_extension": ".py",
   "mimetype": "text/x-python",
   "name": "python",
   "nbconvert_exporter": "python",
   "pygments_lexer": "ipython3",
   "version": "3.9.12"
  }
 },
 "nbformat": 4,
 "nbformat_minor": 5
}
