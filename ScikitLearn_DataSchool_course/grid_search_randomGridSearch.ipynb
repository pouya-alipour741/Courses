{
 "cells": [
  {
   "cell_type": "code",
   "execution_count": 449,
   "id": "7e8382b3",
   "metadata": {},
   "outputs": [],
   "source": [
    "import pandas as pd\n",
    "import numpy as np\n",
    "\n",
    "from sklearn.neighbors import KNeighborsClassifier\n",
    "from sklearn.linear_model import LogisticRegression\n",
    "from sklearn.model_selection import cross_val_score\n",
    "from sklearn.pipeline import make_pipeline\n",
    "from sklearn.compose import make_column_transformer\n",
    "from sklearn.preprocessing import OneHotEncoder\n",
    "from sklearn.feature_extraction.text import CountVectorizer"
   ]
  },
  {
   "cell_type": "code",
   "execution_count": 450,
   "id": "ee7005d8",
   "metadata": {},
   "outputs": [
    {
     "data": {
      "text/html": [
       "<div>\n",
       "<style scoped>\n",
       "    .dataframe tbody tr th:only-of-type {\n",
       "        vertical-align: middle;\n",
       "    }\n",
       "\n",
       "    .dataframe tbody tr th {\n",
       "        vertical-align: top;\n",
       "    }\n",
       "\n",
       "    .dataframe thead th {\n",
       "        text-align: right;\n",
       "    }\n",
       "</style>\n",
       "<table border=\"1\" class=\"dataframe\">\n",
       "  <thead>\n",
       "    <tr style=\"text-align: right;\">\n",
       "      <th></th>\n",
       "      <th>PassengerId</th>\n",
       "      <th>Survived</th>\n",
       "      <th>Pclass</th>\n",
       "      <th>Name</th>\n",
       "      <th>Sex</th>\n",
       "      <th>Age</th>\n",
       "      <th>SibSp</th>\n",
       "      <th>Parch</th>\n",
       "      <th>Ticket</th>\n",
       "      <th>Fare</th>\n",
       "      <th>Cabin</th>\n",
       "      <th>Embarked</th>\n",
       "    </tr>\n",
       "  </thead>\n",
       "  <tbody>\n",
       "    <tr>\n",
       "      <th>0</th>\n",
       "      <td>1</td>\n",
       "      <td>0</td>\n",
       "      <td>3</td>\n",
       "      <td>Braund, Mr. Owen Harris</td>\n",
       "      <td>male</td>\n",
       "      <td>22.0</td>\n",
       "      <td>1</td>\n",
       "      <td>0</td>\n",
       "      <td>A/5 21171</td>\n",
       "      <td>7.2500</td>\n",
       "      <td>NaN</td>\n",
       "      <td>S</td>\n",
       "    </tr>\n",
       "    <tr>\n",
       "      <th>1</th>\n",
       "      <td>2</td>\n",
       "      <td>1</td>\n",
       "      <td>1</td>\n",
       "      <td>Cumings, Mrs. John Bradley (Florence Briggs Th...</td>\n",
       "      <td>female</td>\n",
       "      <td>38.0</td>\n",
       "      <td>1</td>\n",
       "      <td>0</td>\n",
       "      <td>PC 17599</td>\n",
       "      <td>71.2833</td>\n",
       "      <td>C85</td>\n",
       "      <td>C</td>\n",
       "    </tr>\n",
       "    <tr>\n",
       "      <th>2</th>\n",
       "      <td>3</td>\n",
       "      <td>1</td>\n",
       "      <td>3</td>\n",
       "      <td>Heikkinen, Miss. Laina</td>\n",
       "      <td>female</td>\n",
       "      <td>26.0</td>\n",
       "      <td>0</td>\n",
       "      <td>0</td>\n",
       "      <td>STON/O2. 3101282</td>\n",
       "      <td>7.9250</td>\n",
       "      <td>NaN</td>\n",
       "      <td>S</td>\n",
       "    </tr>\n",
       "    <tr>\n",
       "      <th>3</th>\n",
       "      <td>4</td>\n",
       "      <td>1</td>\n",
       "      <td>1</td>\n",
       "      <td>Futrelle, Mrs. Jacques Heath (Lily May Peel)</td>\n",
       "      <td>female</td>\n",
       "      <td>35.0</td>\n",
       "      <td>1</td>\n",
       "      <td>0</td>\n",
       "      <td>113803</td>\n",
       "      <td>53.1000</td>\n",
       "      <td>C123</td>\n",
       "      <td>S</td>\n",
       "    </tr>\n",
       "    <tr>\n",
       "      <th>4</th>\n",
       "      <td>5</td>\n",
       "      <td>0</td>\n",
       "      <td>3</td>\n",
       "      <td>Allen, Mr. William Henry</td>\n",
       "      <td>male</td>\n",
       "      <td>35.0</td>\n",
       "      <td>0</td>\n",
       "      <td>0</td>\n",
       "      <td>373450</td>\n",
       "      <td>8.0500</td>\n",
       "      <td>NaN</td>\n",
       "      <td>S</td>\n",
       "    </tr>\n",
       "  </tbody>\n",
       "</table>\n",
       "</div>"
      ],
      "text/plain": [
       "   PassengerId  Survived  Pclass                                               Name     Sex   Age  SibSp  Parch            Ticket     Fare Cabin Embarked\n",
       "0            1         0       3                            Braund, Mr. Owen Harris    male  22.0      1      0         A/5 21171   7.2500   NaN        S\n",
       "1            2         1       1  Cumings, Mrs. John Bradley (Florence Briggs Th...  female  38.0      1      0          PC 17599  71.2833   C85        C\n",
       "2            3         1       3                             Heikkinen, Miss. Laina  female  26.0      0      0  STON/O2. 3101282   7.9250   NaN        S\n",
       "3            4         1       1       Futrelle, Mrs. Jacques Heath (Lily May Peel)  female  35.0      1      0            113803  53.1000  C123        S\n",
       "4            5         0       3                           Allen, Mr. William Henry    male  35.0      0      0            373450   8.0500   NaN        S"
      ]
     },
     "execution_count": 450,
     "metadata": {},
     "output_type": "execute_result"
    }
   ],
   "source": [
    "df = pd.read_csv(\"https://raw.githubusercontent.com/justmarkham/pandas-videos/master/data/titanic_train.csv\")\n",
    "df.head()"
   ]
  },
  {
   "cell_type": "code",
   "execution_count": 451,
   "id": "3cd9e7bc",
   "metadata": {},
   "outputs": [],
   "source": [
    "X = df[[\"Sex\", \"Name\"]]\n",
    "y = df[\"Survived\"]"
   ]
  },
  {
   "cell_type": "code",
   "execution_count": 452,
   "id": "fa470d9b",
   "metadata": {},
   "outputs": [],
   "source": [
    "vect = CountVectorizer()\n",
    "ohe = OneHotEncoder()\n",
    "ct = make_column_transformer(\n",
    "    (ohe,[\"Sex\"]),\n",
    "    (vect, \"Name\")\n",
    ")"
   ]
  },
  {
   "cell_type": "code",
   "execution_count": 453,
   "id": "a08d661c",
   "metadata": {},
   "outputs": [],
   "source": [
    "knn_clf = KNeighborsClassifier(n_neighbors=2)\n",
    "log_clf = LogisticRegression(solver= \"liblinear\", random_state=1)"
   ]
  },
  {
   "cell_type": "code",
   "execution_count": 454,
   "id": "3e739a88",
   "metadata": {},
   "outputs": [],
   "source": [
    "log_pipe = make_pipeline(ct, log_clf)\n",
    "\n",
    "knn_pipe = make_pipeline(ct, knn_clf)"
   ]
  },
  {
   "cell_type": "markdown",
   "id": "46c01d90",
   "metadata": {},
   "source": [
    "## cross validate whole pipeline"
   ]
  },
  {
   "cell_type": "code",
   "execution_count": 455,
   "id": "0cc086a9",
   "metadata": {},
   "outputs": [
    {
     "data": {
      "text/plain": [
       "0.8024543343167408"
      ]
     },
     "execution_count": 455,
     "metadata": {},
     "output_type": "execute_result"
    }
   ],
   "source": [
    "# for log reg model\n",
    "cross_val_score(log_pipe, X, y, cv=5, scoring='accuracy').mean()"
   ]
  },
  {
   "cell_type": "code",
   "execution_count": 456,
   "id": "3feec808",
   "metadata": {},
   "outputs": [
    {
     "data": {
      "text/plain": [
       "0.7564936287740882"
      ]
     },
     "execution_count": 456,
     "metadata": {},
     "output_type": "execute_result"
    }
   ],
   "source": [
    "##for knn model\n",
    "cross_val_score(knn_pipe, X, y, cv=5, scoring=\"accuracy\").mean()"
   ]
  },
  {
   "cell_type": "markdown",
   "id": "9d843feb",
   "metadata": {},
   "source": [
    "# grid search "
   ]
  },
  {
   "cell_type": "code",
   "execution_count": 457,
   "id": "e49addae",
   "metadata": {},
   "outputs": [
    {
     "data": {
      "text/plain": [
       "{'columntransformer__countvectorizer__min_df': [1, 2],\n",
       " 'logisticregression__penalty': ['l1', 'l2'],\n",
       " 'logisticregression__C': [0.1, 1, 10]}"
      ]
     },
     "execution_count": 457,
     "metadata": {},
     "output_type": "execute_result"
    }
   ],
   "source": [
    "##seperate with __\n",
    "params = {}\n",
    "params[\"columntransformer__countvectorizer__min_df\"] = [1, 2]\n",
    "params[\"logisticregression__penalty\"] = ['l1', 'l2']\n",
    "params[\"logisticregression__C\"] = [0.1, 1, 10]\n",
    "params"
   ]
  },
  {
   "cell_type": "code",
   "execution_count": 458,
   "id": "e9ba7c31",
   "metadata": {},
   "outputs": [
    {
     "data": {
      "text/plain": [
       "{'mean_fit_time': array([0.01581168, 0.01700282, 0.01758618, 0.01678562, 0.02543292,\n",
       "        0.01763239, 0.01598163, 0.01439419, 0.01503286, 0.01659145,\n",
       "        0.03939462, 0.01639948]),\n",
       " 'std_fit_time': array([0.00043266, 0.00089112, 0.00047953, 0.00071605, 0.00267416,\n",
       "        0.00049617, 0.00214289, 0.00045398, 0.00065162, 0.00135108,\n",
       "        0.00458951, 0.00149797]),\n",
       " 'mean_score_time': array([0.00520234, 0.00498629, 0.00521789, 0.00541563, 0.00536981,\n",
       "        0.00517859, 0.00501776, 0.00459595, 0.00517755, 0.00498848,\n",
       "        0.00520716, 0.00641108]),\n",
       " 'std_score_time': array([0.00097927, 0.00062832, 0.00040765, 0.00079266, 0.00049174,\n",
       "        0.00074088, 0.0006136 , 0.00046689, 0.00038506, 0.0006501 ,\n",
       "        0.0003978 , 0.00195174]),\n",
       " 'param_columntransformer__countvectorizer__min_df': masked_array(data=[1, 1, 1, 1, 1, 1, 2, 2, 2, 2, 2, 2],\n",
       "              mask=[False, False, False, False, False, False, False, False,\n",
       "                    False, False, False, False],\n",
       "        fill_value='?',\n",
       "             dtype=object),\n",
       " 'param_logisticregression__C': masked_array(data=[0.1, 0.1, 1, 1, 10, 10, 0.1, 0.1, 1, 1, 10, 10],\n",
       "              mask=[False, False, False, False, False, False, False, False,\n",
       "                    False, False, False, False],\n",
       "        fill_value='?',\n",
       "             dtype=object),\n",
       " 'param_logisticregression__penalty': masked_array(data=['l1', 'l2', 'l1', 'l2', 'l1', 'l2', 'l1', 'l2', 'l1',\n",
       "                    'l2', 'l1', 'l2'],\n",
       "              mask=[False, False, False, False, False, False, False, False,\n",
       "                    False, False, False, False],\n",
       "        fill_value='?',\n",
       "             dtype=object),\n",
       " 'params': [{'columntransformer__countvectorizer__min_df': 1,\n",
       "   'logisticregression__C': 0.1,\n",
       "   'logisticregression__penalty': 'l1'},\n",
       "  {'columntransformer__countvectorizer__min_df': 1,\n",
       "   'logisticregression__C': 0.1,\n",
       "   'logisticregression__penalty': 'l2'},\n",
       "  {'columntransformer__countvectorizer__min_df': 1,\n",
       "   'logisticregression__C': 1,\n",
       "   'logisticregression__penalty': 'l1'},\n",
       "  {'columntransformer__countvectorizer__min_df': 1,\n",
       "   'logisticregression__C': 1,\n",
       "   'logisticregression__penalty': 'l2'},\n",
       "  {'columntransformer__countvectorizer__min_df': 1,\n",
       "   'logisticregression__C': 10,\n",
       "   'logisticregression__penalty': 'l1'},\n",
       "  {'columntransformer__countvectorizer__min_df': 1,\n",
       "   'logisticregression__C': 10,\n",
       "   'logisticregression__penalty': 'l2'},\n",
       "  {'columntransformer__countvectorizer__min_df': 2,\n",
       "   'logisticregression__C': 0.1,\n",
       "   'logisticregression__penalty': 'l1'},\n",
       "  {'columntransformer__countvectorizer__min_df': 2,\n",
       "   'logisticregression__C': 0.1,\n",
       "   'logisticregression__penalty': 'l2'},\n",
       "  {'columntransformer__countvectorizer__min_df': 2,\n",
       "   'logisticregression__C': 1,\n",
       "   'logisticregression__penalty': 'l1'},\n",
       "  {'columntransformer__countvectorizer__min_df': 2,\n",
       "   'logisticregression__C': 1,\n",
       "   'logisticregression__penalty': 'l2'},\n",
       "  {'columntransformer__countvectorizer__min_df': 2,\n",
       "   'logisticregression__C': 10,\n",
       "   'logisticregression__penalty': 'l1'},\n",
       "  {'columntransformer__countvectorizer__min_df': 2,\n",
       "   'logisticregression__C': 10,\n",
       "   'logisticregression__penalty': 'l2'}],\n",
       " 'split0_test_score': array([0.80446927, 0.80446927, 0.84916201, 0.81564246, 0.8547486 ,\n",
       "        0.83240223, 0.80446927, 0.80446927, 0.84916201, 0.82122905,\n",
       "        0.8603352 , 0.8547486 ]),\n",
       " 'split1_test_score': array([0.80337079, 0.80337079, 0.81460674, 0.81460674, 0.80898876,\n",
       "        0.79775281, 0.80337079, 0.80337079, 0.81460674, 0.8258427 ,\n",
       "        0.78089888, 0.79775281]),\n",
       " 'split2_test_score': array([0.78651685, 0.78651685, 0.80337079, 0.80337079, 0.82022472,\n",
       "        0.81460674, 0.78651685, 0.78651685, 0.80337079, 0.80337079,\n",
       "        0.76404494, 0.78651685]),\n",
       " 'split3_test_score': array([0.75280899, 0.75280899, 0.78651685, 0.75280899, 0.78089888,\n",
       "        0.78089888, 0.75280899, 0.75280899, 0.78651685, 0.76404494,\n",
       "        0.7752809 , 0.78089888]),\n",
       " 'split4_test_score': array([0.78651685, 0.78651685, 0.85393258, 0.8258427 , 0.84269663,\n",
       "        0.84831461, 0.78651685, 0.78651685, 0.85393258, 0.83707865,\n",
       "        0.81460674, 0.84269663]),\n",
       " 'mean_test_score': array([0.78673655, 0.78673655, 0.8215178 , 0.80245433, 0.82151152,\n",
       "        0.81479505, 0.78673655, 0.78673655, 0.8215178 , 0.81031323,\n",
       "        0.79903333, 0.81252275]),\n",
       " 'std_test_score': array([0.01866721, 0.01866721, 0.02614216, 0.02582295, 0.02592827,\n",
       "        0.02397081, 0.01866721, 0.01866721, 0.02614216, 0.02555644,\n",
       "        0.03497906, 0.03029196]),\n",
       " 'rank_test_score': array([9, 9, 1, 7, 3, 4, 9, 9, 1, 6, 8, 5])}"
      ]
     },
     "execution_count": 458,
     "metadata": {},
     "output_type": "execute_result"
    }
   ],
   "source": [
    "from sklearn.model_selection import GridSearchCV\n",
    "\n",
    "grid = GridSearchCV(estimator=log_pipe,\n",
    "                   param_grid=params,\n",
    "                   cv= 5,\n",
    "                   scoring=\"accuracy\")\n",
    "grid.fit(X, y)\n",
    "grid_cv = grid.cv_results_\n",
    "grid_cv"
   ]
  },
  {
   "cell_type": "code",
   "execution_count": 459,
   "id": "e84a4232",
   "metadata": {},
   "outputs": [
    {
     "data": {
      "text/plain": [
       "0.8215177954930638"
      ]
     },
     "execution_count": 459,
     "metadata": {},
     "output_type": "execute_result"
    }
   ],
   "source": [
    "# we had 0.80 accuracy for cross_val with default parameters\n",
    "grid.best_score_"
   ]
  },
  {
   "cell_type": "code",
   "execution_count": 460,
   "id": "6171f8db",
   "metadata": {},
   "outputs": [
    {
     "data": {
      "text/plain": [
       "2"
      ]
     },
     "execution_count": 460,
     "metadata": {},
     "output_type": "execute_result"
    }
   ],
   "source": [
    "grid.best_index_"
   ]
  },
  {
   "cell_type": "code",
   "execution_count": 461,
   "id": "abbf4198",
   "metadata": {},
   "outputs": [
    {
     "data": {
      "text/plain": [
       "{'columntransformer__countvectorizer__min_df': 1,\n",
       " 'logisticregression__C': 1,\n",
       " 'logisticregression__penalty': 'l1'}"
      ]
     },
     "execution_count": 461,
     "metadata": {},
     "output_type": "execute_result"
    }
   ],
   "source": [
    "grid.best_params_"
   ]
  },
  {
   "cell_type": "code",
   "execution_count": 462,
   "id": "66513384",
   "metadata": {},
   "outputs": [
    {
     "data": {
      "text/html": [
       "<div>\n",
       "<style scoped>\n",
       "    .dataframe tbody tr th:only-of-type {\n",
       "        vertical-align: middle;\n",
       "    }\n",
       "\n",
       "    .dataframe tbody tr th {\n",
       "        vertical-align: top;\n",
       "    }\n",
       "\n",
       "    .dataframe thead th {\n",
       "        text-align: right;\n",
       "    }\n",
       "</style>\n",
       "<table border=\"1\" class=\"dataframe\">\n",
       "  <thead>\n",
       "    <tr style=\"text-align: right;\">\n",
       "      <th></th>\n",
       "      <th>mean_fit_time</th>\n",
       "      <th>std_fit_time</th>\n",
       "      <th>mean_score_time</th>\n",
       "      <th>std_score_time</th>\n",
       "      <th>param_columntransformer__countvectorizer__min_df</th>\n",
       "      <th>param_logisticregression__C</th>\n",
       "      <th>param_logisticregression__penalty</th>\n",
       "      <th>params</th>\n",
       "      <th>split0_test_score</th>\n",
       "      <th>split1_test_score</th>\n",
       "      <th>split2_test_score</th>\n",
       "      <th>split3_test_score</th>\n",
       "      <th>split4_test_score</th>\n",
       "      <th>mean_test_score</th>\n",
       "      <th>std_test_score</th>\n",
       "      <th>rank_test_score</th>\n",
       "    </tr>\n",
       "  </thead>\n",
       "  <tbody>\n",
       "    <tr>\n",
       "      <th>0</th>\n",
       "      <td>0.015812</td>\n",
       "      <td>0.000433</td>\n",
       "      <td>0.005202</td>\n",
       "      <td>0.000979</td>\n",
       "      <td>1</td>\n",
       "      <td>0.1</td>\n",
       "      <td>l1</td>\n",
       "      <td>{'columntransformer__countvectorizer__min_df':...</td>\n",
       "      <td>0.804469</td>\n",
       "      <td>0.803371</td>\n",
       "      <td>0.786517</td>\n",
       "      <td>0.752809</td>\n",
       "      <td>0.786517</td>\n",
       "      <td>0.786737</td>\n",
       "      <td>0.018667</td>\n",
       "      <td>9</td>\n",
       "    </tr>\n",
       "    <tr>\n",
       "      <th>1</th>\n",
       "      <td>0.017003</td>\n",
       "      <td>0.000891</td>\n",
       "      <td>0.004986</td>\n",
       "      <td>0.000628</td>\n",
       "      <td>1</td>\n",
       "      <td>0.1</td>\n",
       "      <td>l2</td>\n",
       "      <td>{'columntransformer__countvectorizer__min_df':...</td>\n",
       "      <td>0.804469</td>\n",
       "      <td>0.803371</td>\n",
       "      <td>0.786517</td>\n",
       "      <td>0.752809</td>\n",
       "      <td>0.786517</td>\n",
       "      <td>0.786737</td>\n",
       "      <td>0.018667</td>\n",
       "      <td>9</td>\n",
       "    </tr>\n",
       "    <tr>\n",
       "      <th>2</th>\n",
       "      <td>0.017586</td>\n",
       "      <td>0.000480</td>\n",
       "      <td>0.005218</td>\n",
       "      <td>0.000408</td>\n",
       "      <td>1</td>\n",
       "      <td>1</td>\n",
       "      <td>l1</td>\n",
       "      <td>{'columntransformer__countvectorizer__min_df':...</td>\n",
       "      <td>0.849162</td>\n",
       "      <td>0.814607</td>\n",
       "      <td>0.803371</td>\n",
       "      <td>0.786517</td>\n",
       "      <td>0.853933</td>\n",
       "      <td>0.821518</td>\n",
       "      <td>0.026142</td>\n",
       "      <td>1</td>\n",
       "    </tr>\n",
       "    <tr>\n",
       "      <th>3</th>\n",
       "      <td>0.016786</td>\n",
       "      <td>0.000716</td>\n",
       "      <td>0.005416</td>\n",
       "      <td>0.000793</td>\n",
       "      <td>1</td>\n",
       "      <td>1</td>\n",
       "      <td>l2</td>\n",
       "      <td>{'columntransformer__countvectorizer__min_df':...</td>\n",
       "      <td>0.815642</td>\n",
       "      <td>0.814607</td>\n",
       "      <td>0.803371</td>\n",
       "      <td>0.752809</td>\n",
       "      <td>0.825843</td>\n",
       "      <td>0.802454</td>\n",
       "      <td>0.025823</td>\n",
       "      <td>7</td>\n",
       "    </tr>\n",
       "    <tr>\n",
       "      <th>4</th>\n",
       "      <td>0.025433</td>\n",
       "      <td>0.002674</td>\n",
       "      <td>0.005370</td>\n",
       "      <td>0.000492</td>\n",
       "      <td>1</td>\n",
       "      <td>10</td>\n",
       "      <td>l1</td>\n",
       "      <td>{'columntransformer__countvectorizer__min_df':...</td>\n",
       "      <td>0.854749</td>\n",
       "      <td>0.808989</td>\n",
       "      <td>0.820225</td>\n",
       "      <td>0.780899</td>\n",
       "      <td>0.842697</td>\n",
       "      <td>0.821512</td>\n",
       "      <td>0.025928</td>\n",
       "      <td>3</td>\n",
       "    </tr>\n",
       "    <tr>\n",
       "      <th>5</th>\n",
       "      <td>0.017632</td>\n",
       "      <td>0.000496</td>\n",
       "      <td>0.005179</td>\n",
       "      <td>0.000741</td>\n",
       "      <td>1</td>\n",
       "      <td>10</td>\n",
       "      <td>l2</td>\n",
       "      <td>{'columntransformer__countvectorizer__min_df':...</td>\n",
       "      <td>0.832402</td>\n",
       "      <td>0.797753</td>\n",
       "      <td>0.814607</td>\n",
       "      <td>0.780899</td>\n",
       "      <td>0.848315</td>\n",
       "      <td>0.814795</td>\n",
       "      <td>0.023971</td>\n",
       "      <td>4</td>\n",
       "    </tr>\n",
       "    <tr>\n",
       "      <th>6</th>\n",
       "      <td>0.015982</td>\n",
       "      <td>0.002143</td>\n",
       "      <td>0.005018</td>\n",
       "      <td>0.000614</td>\n",
       "      <td>2</td>\n",
       "      <td>0.1</td>\n",
       "      <td>l1</td>\n",
       "      <td>{'columntransformer__countvectorizer__min_df':...</td>\n",
       "      <td>0.804469</td>\n",
       "      <td>0.803371</td>\n",
       "      <td>0.786517</td>\n",
       "      <td>0.752809</td>\n",
       "      <td>0.786517</td>\n",
       "      <td>0.786737</td>\n",
       "      <td>0.018667</td>\n",
       "      <td>9</td>\n",
       "    </tr>\n",
       "    <tr>\n",
       "      <th>7</th>\n",
       "      <td>0.014394</td>\n",
       "      <td>0.000454</td>\n",
       "      <td>0.004596</td>\n",
       "      <td>0.000467</td>\n",
       "      <td>2</td>\n",
       "      <td>0.1</td>\n",
       "      <td>l2</td>\n",
       "      <td>{'columntransformer__countvectorizer__min_df':...</td>\n",
       "      <td>0.804469</td>\n",
       "      <td>0.803371</td>\n",
       "      <td>0.786517</td>\n",
       "      <td>0.752809</td>\n",
       "      <td>0.786517</td>\n",
       "      <td>0.786737</td>\n",
       "      <td>0.018667</td>\n",
       "      <td>9</td>\n",
       "    </tr>\n",
       "    <tr>\n",
       "      <th>8</th>\n",
       "      <td>0.015033</td>\n",
       "      <td>0.000652</td>\n",
       "      <td>0.005178</td>\n",
       "      <td>0.000385</td>\n",
       "      <td>2</td>\n",
       "      <td>1</td>\n",
       "      <td>l1</td>\n",
       "      <td>{'columntransformer__countvectorizer__min_df':...</td>\n",
       "      <td>0.849162</td>\n",
       "      <td>0.814607</td>\n",
       "      <td>0.803371</td>\n",
       "      <td>0.786517</td>\n",
       "      <td>0.853933</td>\n",
       "      <td>0.821518</td>\n",
       "      <td>0.026142</td>\n",
       "      <td>1</td>\n",
       "    </tr>\n",
       "    <tr>\n",
       "      <th>9</th>\n",
       "      <td>0.016591</td>\n",
       "      <td>0.001351</td>\n",
       "      <td>0.004988</td>\n",
       "      <td>0.000650</td>\n",
       "      <td>2</td>\n",
       "      <td>1</td>\n",
       "      <td>l2</td>\n",
       "      <td>{'columntransformer__countvectorizer__min_df':...</td>\n",
       "      <td>0.821229</td>\n",
       "      <td>0.825843</td>\n",
       "      <td>0.803371</td>\n",
       "      <td>0.764045</td>\n",
       "      <td>0.837079</td>\n",
       "      <td>0.810313</td>\n",
       "      <td>0.025556</td>\n",
       "      <td>6</td>\n",
       "    </tr>\n",
       "    <tr>\n",
       "      <th>10</th>\n",
       "      <td>0.039395</td>\n",
       "      <td>0.004590</td>\n",
       "      <td>0.005207</td>\n",
       "      <td>0.000398</td>\n",
       "      <td>2</td>\n",
       "      <td>10</td>\n",
       "      <td>l1</td>\n",
       "      <td>{'columntransformer__countvectorizer__min_df':...</td>\n",
       "      <td>0.860335</td>\n",
       "      <td>0.780899</td>\n",
       "      <td>0.764045</td>\n",
       "      <td>0.775281</td>\n",
       "      <td>0.814607</td>\n",
       "      <td>0.799033</td>\n",
       "      <td>0.034979</td>\n",
       "      <td>8</td>\n",
       "    </tr>\n",
       "    <tr>\n",
       "      <th>11</th>\n",
       "      <td>0.016399</td>\n",
       "      <td>0.001498</td>\n",
       "      <td>0.006411</td>\n",
       "      <td>0.001952</td>\n",
       "      <td>2</td>\n",
       "      <td>10</td>\n",
       "      <td>l2</td>\n",
       "      <td>{'columntransformer__countvectorizer__min_df':...</td>\n",
       "      <td>0.854749</td>\n",
       "      <td>0.797753</td>\n",
       "      <td>0.786517</td>\n",
       "      <td>0.780899</td>\n",
       "      <td>0.842697</td>\n",
       "      <td>0.812523</td>\n",
       "      <td>0.030292</td>\n",
       "      <td>5</td>\n",
       "    </tr>\n",
       "  </tbody>\n",
       "</table>\n",
       "</div>"
      ],
      "text/plain": [
       "    mean_fit_time  std_fit_time  mean_score_time  std_score_time param_columntransformer__countvectorizer__min_df param_logisticregression__C param_logisticregression__penalty                                             params  split0_test_score  split1_test_score  split2_test_score  split3_test_score  split4_test_score  mean_test_score  std_test_score  rank_test_score\n",
       "0        0.015812      0.000433         0.005202        0.000979                                                1                         0.1                                l1  {'columntransformer__countvectorizer__min_df':...           0.804469           0.803371           0.786517           0.752809           0.786517         0.786737        0.018667                9\n",
       "1        0.017003      0.000891         0.004986        0.000628                                                1                         0.1                                l2  {'columntransformer__countvectorizer__min_df':...           0.804469           0.803371           0.786517           0.752809           0.786517         0.786737        0.018667                9\n",
       "2        0.017586      0.000480         0.005218        0.000408                                                1                           1                                l1  {'columntransformer__countvectorizer__min_df':...           0.849162           0.814607           0.803371           0.786517           0.853933         0.821518        0.026142                1\n",
       "3        0.016786      0.000716         0.005416        0.000793                                                1                           1                                l2  {'columntransformer__countvectorizer__min_df':...           0.815642           0.814607           0.803371           0.752809           0.825843         0.802454        0.025823                7\n",
       "4        0.025433      0.002674         0.005370        0.000492                                                1                          10                                l1  {'columntransformer__countvectorizer__min_df':...           0.854749           0.808989           0.820225           0.780899           0.842697         0.821512        0.025928                3\n",
       "5        0.017632      0.000496         0.005179        0.000741                                                1                          10                                l2  {'columntransformer__countvectorizer__min_df':...           0.832402           0.797753           0.814607           0.780899           0.848315         0.814795        0.023971                4\n",
       "6        0.015982      0.002143         0.005018        0.000614                                                2                         0.1                                l1  {'columntransformer__countvectorizer__min_df':...           0.804469           0.803371           0.786517           0.752809           0.786517         0.786737        0.018667                9\n",
       "7        0.014394      0.000454         0.004596        0.000467                                                2                         0.1                                l2  {'columntransformer__countvectorizer__min_df':...           0.804469           0.803371           0.786517           0.752809           0.786517         0.786737        0.018667                9\n",
       "8        0.015033      0.000652         0.005178        0.000385                                                2                           1                                l1  {'columntransformer__countvectorizer__min_df':...           0.849162           0.814607           0.803371           0.786517           0.853933         0.821518        0.026142                1\n",
       "9        0.016591      0.001351         0.004988        0.000650                                                2                           1                                l2  {'columntransformer__countvectorizer__min_df':...           0.821229           0.825843           0.803371           0.764045           0.837079         0.810313        0.025556                6\n",
       "10       0.039395      0.004590         0.005207        0.000398                                                2                          10                                l1  {'columntransformer__countvectorizer__min_df':...           0.860335           0.780899           0.764045           0.775281           0.814607         0.799033        0.034979                8\n",
       "11       0.016399      0.001498         0.006411        0.001952                                                2                          10                                l2  {'columntransformer__countvectorizer__min_df':...           0.854749           0.797753           0.786517           0.780899           0.842697         0.812523        0.030292                5"
      ]
     },
     "execution_count": 462,
     "metadata": {},
     "output_type": "execute_result"
    }
   ],
   "source": [
    "pd.DataFrame(grid_cv)"
   ]
  },
  {
   "cell_type": "code",
   "execution_count": 463,
   "id": "3ba9a64b",
   "metadata": {},
   "outputs": [
    {
     "data": {
      "text/plain": [
       "{'memory': None,\n",
       " 'steps': [('columntransformer',\n",
       "   ColumnTransformer(transformers=[('onehotencoder', OneHotEncoder(), ['Sex']),\n",
       "                                   ('countvectorizer', CountVectorizer(), 'Name')])),\n",
       "  ('logisticregression',\n",
       "   LogisticRegression(random_state=1, solver='liblinear'))],\n",
       " 'verbose': False,\n",
       " 'columntransformer': ColumnTransformer(transformers=[('onehotencoder', OneHotEncoder(), ['Sex']),\n",
       "                                 ('countvectorizer', CountVectorizer(), 'Name')]),\n",
       " 'logisticregression': LogisticRegression(random_state=1, solver='liblinear'),\n",
       " 'columntransformer__n_jobs': None,\n",
       " 'columntransformer__remainder': 'drop',\n",
       " 'columntransformer__sparse_threshold': 0.3,\n",
       " 'columntransformer__transformer_weights': None,\n",
       " 'columntransformer__transformers': [('onehotencoder',\n",
       "   OneHotEncoder(),\n",
       "   ['Sex']),\n",
       "  ('countvectorizer', CountVectorizer(), 'Name')],\n",
       " 'columntransformer__verbose': False,\n",
       " 'columntransformer__verbose_feature_names_out': True,\n",
       " 'columntransformer__onehotencoder': OneHotEncoder(),\n",
       " 'columntransformer__countvectorizer': CountVectorizer(),\n",
       " 'columntransformer__onehotencoder__categories': 'auto',\n",
       " 'columntransformer__onehotencoder__drop': None,\n",
       " 'columntransformer__onehotencoder__dtype': numpy.float64,\n",
       " 'columntransformer__onehotencoder__handle_unknown': 'error',\n",
       " 'columntransformer__onehotencoder__sparse': True,\n",
       " 'columntransformer__countvectorizer__analyzer': 'word',\n",
       " 'columntransformer__countvectorizer__binary': False,\n",
       " 'columntransformer__countvectorizer__decode_error': 'strict',\n",
       " 'columntransformer__countvectorizer__dtype': numpy.int64,\n",
       " 'columntransformer__countvectorizer__encoding': 'utf-8',\n",
       " 'columntransformer__countvectorizer__input': 'content',\n",
       " 'columntransformer__countvectorizer__lowercase': True,\n",
       " 'columntransformer__countvectorizer__max_df': 1.0,\n",
       " 'columntransformer__countvectorizer__max_features': None,\n",
       " 'columntransformer__countvectorizer__min_df': 1,\n",
       " 'columntransformer__countvectorizer__ngram_range': (1, 1),\n",
       " 'columntransformer__countvectorizer__preprocessor': None,\n",
       " 'columntransformer__countvectorizer__stop_words': None,\n",
       " 'columntransformer__countvectorizer__strip_accents': None,\n",
       " 'columntransformer__countvectorizer__token_pattern': '(?u)\\\\b\\\\w\\\\w+\\\\b',\n",
       " 'columntransformer__countvectorizer__tokenizer': None,\n",
       " 'columntransformer__countvectorizer__vocabulary': None,\n",
       " 'logisticregression__C': 1.0,\n",
       " 'logisticregression__class_weight': None,\n",
       " 'logisticregression__dual': False,\n",
       " 'logisticregression__fit_intercept': True,\n",
       " 'logisticregression__intercept_scaling': 1,\n",
       " 'logisticregression__l1_ratio': None,\n",
       " 'logisticregression__max_iter': 100,\n",
       " 'logisticregression__multi_class': 'auto',\n",
       " 'logisticregression__n_jobs': None,\n",
       " 'logisticregression__penalty': 'l2',\n",
       " 'logisticregression__random_state': 1,\n",
       " 'logisticregression__solver': 'liblinear',\n",
       " 'logisticregression__tol': 0.0001,\n",
       " 'logisticregression__verbose': 0,\n",
       " 'logisticregression__warm_start': False}"
      ]
     },
     "execution_count": 463,
     "metadata": {},
     "output_type": "execute_result"
    }
   ],
   "source": [
    "log_pipe.get_params()"
   ]
  },
  {
   "cell_type": "markdown",
   "id": "4cda2fff",
   "metadata": {},
   "source": [
    "# random grid search"
   ]
  },
  {
   "cell_type": "code",
   "execution_count": 464,
   "id": "a02d6d55",
   "metadata": {},
   "outputs": [],
   "source": [
    "X = df[\"Name\"]\n",
    "y = df[\"Survived\"]"
   ]
  },
  {
   "cell_type": "code",
   "execution_count": 465,
   "id": "ddd596c0",
   "metadata": {},
   "outputs": [],
   "source": [
    "vectorizer = CountVectorizer()\n",
    "# vectorizer.fit_transform(X).toarray()"
   ]
  },
  {
   "cell_type": "code",
   "execution_count": 466,
   "id": "10b05cec",
   "metadata": {},
   "outputs": [],
   "source": [
    "# ct = make_column_transformer(\n",
    "#     (vectorizer,\"Name\"),\n",
    "#     (vectorizer, \"Sex\")\n",
    "# )\n",
    "# ct.fit_transform(X).toarray()"
   ]
  },
  {
   "cell_type": "code",
   "execution_count": 467,
   "id": "77cedbde",
   "metadata": {},
   "outputs": [
    {
     "data": {
      "text/plain": [
       "0.8001820350260498"
      ]
     },
     "execution_count": 467,
     "metadata": {},
     "output_type": "execute_result"
    }
   ],
   "source": [
    "from sklearn.naive_bayes import MultinomialNB\n",
    "\n",
    "pipe = make_pipeline(vectorizer, MultinomialNB())\n",
    "\n",
    "cross_val_score(pipe, X, y, cv=5, scoring=\"accuracy\").mean()"
   ]
  },
  {
   "cell_type": "code",
   "execution_count": 468,
   "id": "2a35b127",
   "metadata": {},
   "outputs": [
    {
     "data": {
      "text/plain": [
       "{'memory': None,\n",
       " 'steps': [('countvectorizer', CountVectorizer()),\n",
       "  ('multinomialnb', MultinomialNB())],\n",
       " 'verbose': False,\n",
       " 'countvectorizer': CountVectorizer(),\n",
       " 'multinomialnb': MultinomialNB(),\n",
       " 'countvectorizer__analyzer': 'word',\n",
       " 'countvectorizer__binary': False,\n",
       " 'countvectorizer__decode_error': 'strict',\n",
       " 'countvectorizer__dtype': numpy.int64,\n",
       " 'countvectorizer__encoding': 'utf-8',\n",
       " 'countvectorizer__input': 'content',\n",
       " 'countvectorizer__lowercase': True,\n",
       " 'countvectorizer__max_df': 1.0,\n",
       " 'countvectorizer__max_features': None,\n",
       " 'countvectorizer__min_df': 1,\n",
       " 'countvectorizer__ngram_range': (1, 1),\n",
       " 'countvectorizer__preprocessor': None,\n",
       " 'countvectorizer__stop_words': None,\n",
       " 'countvectorizer__strip_accents': None,\n",
       " 'countvectorizer__token_pattern': '(?u)\\\\b\\\\w\\\\w+\\\\b',\n",
       " 'countvectorizer__tokenizer': None,\n",
       " 'countvectorizer__vocabulary': None,\n",
       " 'multinomialnb__alpha': 1.0,\n",
       " 'multinomialnb__class_prior': None,\n",
       " 'multinomialnb__fit_prior': True}"
      ]
     },
     "execution_count": 468,
     "metadata": {},
     "output_type": "execute_result"
    }
   ],
   "source": [
    "pipe.get_params()"
   ]
  },
  {
   "cell_type": "code",
   "execution_count": 469,
   "id": "34512618",
   "metadata": {},
   "outputs": [
    {
     "data": {
      "text/plain": [
       "{'countvectorizer__min_df': [1, 2, 3, 4],\n",
       " 'countvectorizer__lowercase': [True, False],\n",
       " 'multinomialnb__alpha': <scipy.stats._distn_infrastructure.rv_frozen at 0x26ed9b28640>}"
      ]
     },
     "execution_count": 469,
     "metadata": {},
     "output_type": "execute_result"
    }
   ],
   "source": [
    "import scipy as sp\n",
    "\n",
    "params = {}\n",
    "params[\"countvectorizer__min_df\"] = [1, 2, 3, 4]\n",
    "params[\"countvectorizer__lowercase\"] = [True, False]\n",
    "params[\"multinomialnb__alpha\"] = sp.stats.uniform(scale=1)  # can use np.linspace or np.logspace\n",
    "params"
   ]
  },
  {
   "cell_type": "code",
   "execution_count": 470,
   "id": "694a8f45",
   "metadata": {},
   "outputs": [
    {
     "data": {
      "text/plain": [
       "RandomizedSearchCV(cv=5,\n",
       "                   estimator=Pipeline(steps=[('countvectorizer',\n",
       "                                              CountVectorizer()),\n",
       "                                             ('multinomialnb',\n",
       "                                              MultinomialNB())]),\n",
       "                   param_distributions={'countvectorizer__lowercase': [True,\n",
       "                                                                       False],\n",
       "                                        'countvectorizer__min_df': [1, 2, 3, 4],\n",
       "                                        'multinomialnb__alpha': <scipy.stats._distn_infrastructure.rv_frozen object at 0x0000026ED9B28640>},\n",
       "                   scoring='accuracy')"
      ]
     },
     "execution_count": 470,
     "metadata": {},
     "output_type": "execute_result"
    }
   ],
   "source": [
    "##randomly choose and eval parameters for n_iter times\n",
    "from sklearn.model_selection import RandomizedSearchCV\n",
    "\n",
    "rand = RandomizedSearchCV(estimator=pipe,\n",
    "                  param_distributions=params,\n",
    "                  n_iter=10,\n",
    "                  cv=5,\n",
    "                  scoring='accuracy',\n",
    "#                   random_state=1\n",
    "                         )\n",
    "\n",
    "rand.fit(X, y)"
   ]
  },
  {
   "cell_type": "code",
   "execution_count": 471,
   "id": "6f5628b1",
   "metadata": {},
   "outputs": [
    {
     "data": {
      "text/plain": [
       "0.8035653756826313"
      ]
     },
     "execution_count": 471,
     "metadata": {},
     "output_type": "execute_result"
    }
   ],
   "source": [
    "rand.best_score_"
   ]
  },
  {
   "cell_type": "code",
   "execution_count": 472,
   "id": "481c7b88",
   "metadata": {},
   "outputs": [
    {
     "data": {
      "text/plain": [
       "{'countvectorizer__lowercase': True,\n",
       " 'countvectorizer__min_df': 2,\n",
       " 'multinomialnb__alpha': 0.6040524199825402}"
      ]
     },
     "execution_count": 472,
     "metadata": {},
     "output_type": "execute_result"
    }
   ],
   "source": [
    "rand.best_params_"
   ]
  },
  {
   "cell_type": "code",
   "execution_count": 473,
   "id": "7e775d8c",
   "metadata": {},
   "outputs": [
    {
     "data": {
      "text/html": [
       "<div>\n",
       "<style scoped>\n",
       "    .dataframe tbody tr th:only-of-type {\n",
       "        vertical-align: middle;\n",
       "    }\n",
       "\n",
       "    .dataframe tbody tr th {\n",
       "        vertical-align: top;\n",
       "    }\n",
       "\n",
       "    .dataframe thead th {\n",
       "        text-align: right;\n",
       "    }\n",
       "</style>\n",
       "<table border=\"1\" class=\"dataframe\">\n",
       "  <thead>\n",
       "    <tr style=\"text-align: right;\">\n",
       "      <th></th>\n",
       "      <th>params</th>\n",
       "      <th>mean_test_score</th>\n",
       "      <th>rank_test_score</th>\n",
       "    </tr>\n",
       "  </thead>\n",
       "  <tbody>\n",
       "    <tr>\n",
       "      <th>0</th>\n",
       "      <td>{'countvectorizer__lowercase': True, 'countvec...</td>\n",
       "      <td>0.803565</td>\n",
       "      <td>1</td>\n",
       "    </tr>\n",
       "    <tr>\n",
       "      <th>6</th>\n",
       "      <td>{'countvectorizer__lowercase': False, 'countve...</td>\n",
       "      <td>0.803565</td>\n",
       "      <td>1</td>\n",
       "    </tr>\n",
       "    <tr>\n",
       "      <th>4</th>\n",
       "      <td>{'countvectorizer__lowercase': False, 'countve...</td>\n",
       "      <td>0.800201</td>\n",
       "      <td>3</td>\n",
       "    </tr>\n",
       "    <tr>\n",
       "      <th>8</th>\n",
       "      <td>{'countvectorizer__lowercase': False, 'countve...</td>\n",
       "      <td>0.799071</td>\n",
       "      <td>4</td>\n",
       "    </tr>\n",
       "    <tr>\n",
       "      <th>7</th>\n",
       "      <td>{'countvectorizer__lowercase': False, 'countve...</td>\n",
       "      <td>0.797966</td>\n",
       "      <td>5</td>\n",
       "    </tr>\n",
       "    <tr>\n",
       "      <th>3</th>\n",
       "      <td>{'countvectorizer__lowercase': False, 'countve...</td>\n",
       "      <td>0.797947</td>\n",
       "      <td>6</td>\n",
       "    </tr>\n",
       "    <tr>\n",
       "      <th>9</th>\n",
       "      <td>{'countvectorizer__lowercase': True, 'countvec...</td>\n",
       "      <td>0.796836</td>\n",
       "      <td>7</td>\n",
       "    </tr>\n",
       "    <tr>\n",
       "      <th>2</th>\n",
       "      <td>{'countvectorizer__lowercase': False, 'countve...</td>\n",
       "      <td>0.796824</td>\n",
       "      <td>8</td>\n",
       "    </tr>\n",
       "    <tr>\n",
       "      <th>5</th>\n",
       "      <td>{'countvectorizer__lowercase': True, 'countvec...</td>\n",
       "      <td>0.796818</td>\n",
       "      <td>9</td>\n",
       "    </tr>\n",
       "    <tr>\n",
       "      <th>1</th>\n",
       "      <td>{'countvectorizer__lowercase': False, 'countve...</td>\n",
       "      <td>0.790095</td>\n",
       "      <td>10</td>\n",
       "    </tr>\n",
       "  </tbody>\n",
       "</table>\n",
       "</div>"
      ],
      "text/plain": [
       "                                              params  mean_test_score  rank_test_score\n",
       "0  {'countvectorizer__lowercase': True, 'countvec...         0.803565                1\n",
       "6  {'countvectorizer__lowercase': False, 'countve...         0.803565                1\n",
       "4  {'countvectorizer__lowercase': False, 'countve...         0.800201                3\n",
       "8  {'countvectorizer__lowercase': False, 'countve...         0.799071                4\n",
       "7  {'countvectorizer__lowercase': False, 'countve...         0.797966                5\n",
       "3  {'countvectorizer__lowercase': False, 'countve...         0.797947                6\n",
       "9  {'countvectorizer__lowercase': True, 'countvec...         0.796836                7\n",
       "2  {'countvectorizer__lowercase': False, 'countve...         0.796824                8\n",
       "5  {'countvectorizer__lowercase': True, 'countvec...         0.796818                9\n",
       "1  {'countvectorizer__lowercase': False, 'countve...         0.790095               10"
      ]
     },
     "execution_count": 473,
     "metadata": {},
     "output_type": "execute_result"
    }
   ],
   "source": [
    "results = pd.DataFrame(rand.cv_results_)\n",
    "results.sort_values('rank_test_score')[[\"params\",\"mean_test_score\",\"rank_test_score\"]]"
   ]
  },
  {
   "cell_type": "code",
   "execution_count": 474,
   "id": "190d2cfe",
   "metadata": {},
   "outputs": [
    {
     "data": {
      "text/plain": [
       "array([{'countvectorizer__lowercase': True, 'countvectorizer__min_df': 2, 'multinomialnb__alpha': 0.6040524199825402},\n",
       "       {'countvectorizer__lowercase': False, 'countvectorizer__min_df': 4, 'multinomialnb__alpha': 0.7781056099172469},\n",
       "       {'countvectorizer__lowercase': False, 'countvectorizer__min_df': 4, 'multinomialnb__alpha': 0.01770245913252977},\n",
       "       {'countvectorizer__lowercase': False, 'countvectorizer__min_df': 4, 'multinomialnb__alpha': 0.16307274249774706},\n",
       "       {'countvectorizer__lowercase': False, 'countvectorizer__min_df': 3, 'multinomialnb__alpha': 0.5166357457715272},\n",
       "       {'countvectorizer__lowercase': True, 'countvectorizer__min_df': 2, 'multinomialnb__alpha': 0.3061893597776443},\n",
       "       {'countvectorizer__lowercase': False, 'countvectorizer__min_df': 3, 'multinomialnb__alpha': 0.4179740395675551},\n",
       "       {'countvectorizer__lowercase': False, 'countvectorizer__min_df': 3, 'multinomialnb__alpha': 0.7722755421602978},\n",
       "       {'countvectorizer__lowercase': False, 'countvectorizer__min_df': 4, 'multinomialnb__alpha': 0.14274303743692796},\n",
       "       {'countvectorizer__lowercase': True, 'countvectorizer__min_df': 4, 'multinomialnb__alpha': 0.6608366575541442}],\n",
       "      dtype=object)"
      ]
     },
     "execution_count": 474,
     "metadata": {},
     "output_type": "execute_result"
    }
   ],
   "source": [
    "results[\"params\"].values"
   ]
  },
  {
   "cell_type": "code",
   "execution_count": 475,
   "id": "230ff64e",
   "metadata": {},
   "outputs": [
    {
     "data": {
      "text/plain": [
       "array(['countvectorizer-1__aaron', 'countvectorizer-1__abbing',\n",
       "       'countvectorizer-1__abbott', ..., 'countvectorizer-1__zimmerman',\n",
       "       'countvectorizer-2__female', 'countvectorizer-2__male'],\n",
       "      dtype=object)"
      ]
     },
     "execution_count": 475,
     "metadata": {},
     "output_type": "execute_result"
    }
   ],
   "source": [
    "X = df[[\"Name\",\"Sex\"]]\n",
    "\n",
    "\n",
    "\n",
    "ct = make_column_transformer(\n",
    "    (vectorizer, \"Name\"),\n",
    "    (vectorizer, \"Sex\")\n",
    ")\n",
    "ct.fit_transform(X, y)\n",
    "ct.get_feature_names_out()"
   ]
  }
 ],
 "metadata": {
  "kernelspec": {
   "display_name": "Python 3 (ipykernel)",
   "language": "python",
   "name": "python3"
  },
  "language_info": {
   "codemirror_mode": {
    "name": "ipython",
    "version": 3
   },
   "file_extension": ".py",
   "mimetype": "text/x-python",
   "name": "python",
   "nbconvert_exporter": "python",
   "pygments_lexer": "ipython3",
   "version": "3.9.12"
  }
 },
 "nbformat": 4,
 "nbformat_minor": 5
}
