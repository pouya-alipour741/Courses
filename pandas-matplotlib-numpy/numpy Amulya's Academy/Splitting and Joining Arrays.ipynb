{
 "cells": [
  {
   "cell_type": "code",
   "execution_count": 103,
   "id": "eb6ccddf",
   "metadata": {},
   "outputs": [
    {
     "data": {
      "text/plain": [
       "array([[1, 2],\n",
       "       [3, 4],\n",
       "       [5, 6]])"
      ]
     },
     "execution_count": 103,
     "metadata": {},
     "output_type": "execute_result"
    }
   ],
   "source": [
    "import numpy as np\n",
    "\n",
    "a= np.array([[1,2],[3,4]])\n",
    "b= np.array([[5,6]])\n",
    "np.concatenate((a,b))\n"
   ]
  },
  {
   "cell_type": "code",
   "execution_count": 104,
   "id": "c562f453",
   "metadata": {},
   "outputs": [
    {
     "name": "stdout",
     "output_type": "stream",
     "text": [
      "[[ 1  1]\n",
      " [ 4 -3]\n",
      " [ 7  5]]\n",
      "[[-5 10]\n",
      " [11  6]]\n",
      "\n",
      "and concat res is:\n"
     ]
    },
    {
     "data": {
      "text/plain": [
       "array([[ 1,  1],\n",
       "       [ 4, -3],\n",
       "       [ 7,  5],\n",
       "       [-5, 10],\n",
       "       [11,  6]])"
      ]
     },
     "execution_count": 104,
     "metadata": {},
     "output_type": "execute_result"
    }
   ],
   "source": [
    "###concat methods\n",
    "\n",
    "a = np.random.randint(-4,8,(3,2))\n",
    "b= np.random.randint(-7,12,(2,2))\n",
    "print(a)\n",
    "print(b)\n",
    "print(\"\\nand concat res is:\")\n",
    "c=np.full_like(np.random.randint(2,90,(5,2)),4)\n",
    "np.concatenate((a,b),out=c)   ##out must be defined before and should have same dimension and same size\n",
    "c"
   ]
  },
  {
   "cell_type": "code",
   "execution_count": 105,
   "id": "114929d0",
   "metadata": {
    "scrolled": true
   },
   "outputs": [
    {
     "data": {
      "text/plain": [
       "array([[0, 1],\n",
       "       [2, 3],\n",
       "       [4, 5]])"
      ]
     },
     "execution_count": 105,
     "metadata": {},
     "output_type": "execute_result"
    }
   ],
   "source": [
    "a = np.arange(6)\n",
    "a = a.reshape(3,2)\n",
    "a"
   ]
  },
  {
   "cell_type": "code",
   "execution_count": 106,
   "id": "c0e6dfd4",
   "metadata": {
    "scrolled": true
   },
   "outputs": [],
   "source": [
    "b = np.arange(10)\n",
    "b = b.reshape(5,2)"
   ]
  },
  {
   "cell_type": "code",
   "execution_count": 107,
   "id": "45e488ac",
   "metadata": {
    "scrolled": false
   },
   "outputs": [
    {
     "data": {
      "text/plain": [
       "array([[0, 1],\n",
       "       [2, 3],\n",
       "       [4, 5],\n",
       "       [0, 1],\n",
       "       [2, 3],\n",
       "       [4, 5],\n",
       "       [6, 7],\n",
       "       [8, 9]])"
      ]
     },
     "execution_count": 107,
     "metadata": {},
     "output_type": "execute_result"
    }
   ],
   "source": [
    "np.concatenate((a,b))"
   ]
  },
  {
   "cell_type": "code",
   "execution_count": 108,
   "id": "c41d3b09",
   "metadata": {
    "scrolled": false
   },
   "outputs": [
    {
     "ename": "ValueError",
     "evalue": "all the input array dimensions except for the concatenation axis must match exactly, but along dimension 0, the array at index 0 has size 3 and the array at index 1 has size 5",
     "output_type": "error",
     "traceback": [
      "\u001b[1;31m---------------------------------------------------------------------------\u001b[0m",
      "\u001b[1;31mValueError\u001b[0m                                Traceback (most recent call last)",
      "Cell \u001b[1;32mIn[108], line 1\u001b[0m\n\u001b[1;32m----> 1\u001b[0m \u001b[43mnp\u001b[49m\u001b[38;5;241;43m.\u001b[39;49m\u001b[43mconcatenate\u001b[49m\u001b[43m(\u001b[49m\u001b[43m(\u001b[49m\u001b[43ma\u001b[49m\u001b[43m,\u001b[49m\u001b[43mb\u001b[49m\u001b[43m)\u001b[49m\u001b[43m,\u001b[49m\u001b[43maxis\u001b[49m\u001b[38;5;241;43m=\u001b[39;49m\u001b[38;5;241;43m1\u001b[39;49m\u001b[43m)\u001b[49m  \u001b[38;5;66;03m##error \u001b[39;00m\n",
      "File \u001b[1;32m<__array_function__ internals>:200\u001b[0m, in \u001b[0;36mconcatenate\u001b[1;34m(*args, **kwargs)\u001b[0m\n",
      "\u001b[1;31mValueError\u001b[0m: all the input array dimensions except for the concatenation axis must match exactly, but along dimension 0, the array at index 0 has size 3 and the array at index 1 has size 5"
     ]
    }
   ],
   "source": [
    "np.concatenate((a,b),axis=1)  ##error "
   ]
  },
  {
   "cell_type": "code",
   "execution_count": null,
   "id": "e7b98eb6",
   "metadata": {},
   "outputs": [],
   "source": [
    "a = np.arange(6).reshape(2,3)\n",
    "b = np.arange(10).reshape(2,5)\n",
    "\n",
    "np.concatenate((a,b),axis=1)    ##axis= 1 ,it checks on columns so we need to have same number of rows and vice versa for axis=0                  \n",
    "                        \n",
    "\n"
   ]
  },
  {
   "cell_type": "code",
   "execution_count": 109,
   "id": "a4786a5a",
   "metadata": {
    "scrolled": true
   },
   "outputs": [
    {
     "data": {
      "text/plain": [
       "array([[1, 2, 5],\n",
       "       [3, 4, 6]])"
      ]
     },
     "execution_count": 109,
     "metadata": {},
     "output_type": "execute_result"
    }
   ],
   "source": [
    "a= np.array([[1,2],[3,4]])\n",
    "b= np.array([[5,6]])\n",
    "np.concatenate((a,b.T),axis=1)   ##because of transpose changing shape ,now only works with axis=1 option"
   ]
  },
  {
   "cell_type": "code",
   "execution_count": 110,
   "id": "de4d3e01",
   "metadata": {},
   "outputs": [],
   "source": [
    "a = np.arange(5)\n",
    "b = np.arange(6)\n",
    "c = np.arange(6)"
   ]
  },
  {
   "cell_type": "code",
   "execution_count": 111,
   "id": "1f7bf110",
   "metadata": {
    "scrolled": true
   },
   "outputs": [
    {
     "ename": "ValueError",
     "evalue": "all the input array dimensions except for the concatenation axis must match exactly, but along dimension 1, the array at index 0 has size 5 and the array at index 1 has size 6",
     "output_type": "error",
     "traceback": [
      "\u001b[1;31m---------------------------------------------------------------------------\u001b[0m",
      "\u001b[1;31mValueError\u001b[0m                                Traceback (most recent call last)",
      "Cell \u001b[1;32mIn[111], line 1\u001b[0m\n\u001b[1;32m----> 1\u001b[0m \u001b[43mnp\u001b[49m\u001b[38;5;241;43m.\u001b[39;49m\u001b[43mvstack\u001b[49m\u001b[43m(\u001b[49m\u001b[43m(\u001b[49m\u001b[43ma\u001b[49m\u001b[43m,\u001b[49m\u001b[43mc\u001b[49m\u001b[43m)\u001b[49m\u001b[43m)\u001b[49m  \u001b[38;5;66;03m##error because both must have same size and dimension\u001b[39;00m\n",
      "File \u001b[1;32m<__array_function__ internals>:200\u001b[0m, in \u001b[0;36mvstack\u001b[1;34m(*args, **kwargs)\u001b[0m\n",
      "File \u001b[1;32m~\\jupyter projects\\Amulya's Academy\\amulya_numpy_virt\\lib\\site-packages\\numpy\\core\\shape_base.py:296\u001b[0m, in \u001b[0;36mvstack\u001b[1;34m(tup, dtype, casting)\u001b[0m\n\u001b[0;32m    294\u001b[0m \u001b[38;5;28;01mif\u001b[39;00m \u001b[38;5;129;01mnot\u001b[39;00m \u001b[38;5;28misinstance\u001b[39m(arrs, \u001b[38;5;28mlist\u001b[39m):\n\u001b[0;32m    295\u001b[0m     arrs \u001b[38;5;241m=\u001b[39m [arrs]\n\u001b[1;32m--> 296\u001b[0m \u001b[38;5;28;01mreturn\u001b[39;00m \u001b[43m_nx\u001b[49m\u001b[38;5;241;43m.\u001b[39;49m\u001b[43mconcatenate\u001b[49m\u001b[43m(\u001b[49m\u001b[43marrs\u001b[49m\u001b[43m,\u001b[49m\u001b[43m \u001b[49m\u001b[38;5;241;43m0\u001b[39;49m\u001b[43m,\u001b[49m\u001b[43m \u001b[49m\u001b[43mdtype\u001b[49m\u001b[38;5;241;43m=\u001b[39;49m\u001b[43mdtype\u001b[49m\u001b[43m,\u001b[49m\u001b[43m \u001b[49m\u001b[43mcasting\u001b[49m\u001b[38;5;241;43m=\u001b[39;49m\u001b[43mcasting\u001b[49m\u001b[43m)\u001b[49m\n",
      "File \u001b[1;32m<__array_function__ internals>:200\u001b[0m, in \u001b[0;36mconcatenate\u001b[1;34m(*args, **kwargs)\u001b[0m\n",
      "\u001b[1;31mValueError\u001b[0m: all the input array dimensions except for the concatenation axis must match exactly, but along dimension 1, the array at index 0 has size 5 and the array at index 1 has size 6"
     ]
    }
   ],
   "source": [
    "np.vstack((a,c))  ##error because both must have same size and dimension"
   ]
  },
  {
   "cell_type": "code",
   "execution_count": null,
   "id": "021c91e8",
   "metadata": {},
   "outputs": [],
   "source": [
    "##vstack when combining two 1dimension matrix ,make a 2d output unlike concat \n",
    "#for 2Dimension+ work the same as concatenate with axis=0\n",
    "also\n",
    "np.vstack((b,c))"
   ]
  },
  {
   "cell_type": "code",
   "execution_count": null,
   "id": "e0d6cceb",
   "metadata": {
    "scrolled": true
   },
   "outputs": [],
   "source": [
    "np.concatenate((a,b))"
   ]
  },
  {
   "cell_type": "code",
   "execution_count": null,
   "id": "4038d39f",
   "metadata": {},
   "outputs": [],
   "source": [
    "a = np.arange(5)\n",
    "b = np.arange(6)\n",
    "c = np.arange(6)\n",
    "\n",
    "##hstack is like concat with axis=0 for 1Dimension and is like concat with axis=1 for 2Dimension+"
   ]
  },
  {
   "cell_type": "code",
   "execution_count": null,
   "id": "4c802f20",
   "metadata": {},
   "outputs": [],
   "source": [
    "np.hstack((a,b))"
   ]
  },
  {
   "cell_type": "code",
   "execution_count": 112,
   "id": "3f3839dd",
   "metadata": {},
   "outputs": [
    {
     "data": {
      "text/plain": [
       "array([[1, 2, 5],\n",
       "       [3, 4, 6]])"
      ]
     },
     "execution_count": 112,
     "metadata": {},
     "output_type": "execute_result"
    }
   ],
   "source": [
    "a= np.array([[1,2],[3,4]])\n",
    "b= np.array([[5,6]])\n",
    "np.concatenate((a,b.T),axis=1) "
   ]
  },
  {
   "cell_type": "code",
   "execution_count": 113,
   "id": "74bbe481",
   "metadata": {
    "scrolled": true
   },
   "outputs": [
    {
     "data": {
      "text/plain": [
       "array([[1, 2, 5],\n",
       "       [3, 4, 6]])"
      ]
     },
     "execution_count": 113,
     "metadata": {},
     "output_type": "execute_result"
    }
   ],
   "source": [
    "np.hstack((a,b.T))"
   ]
  },
  {
   "cell_type": "code",
   "execution_count": 114,
   "id": "f53b58aa",
   "metadata": {},
   "outputs": [
    {
     "data": {
      "text/plain": [
       "array([58, 93, 69, 11, 50, 52, 80, 56, 52, 88])"
      ]
     },
     "execution_count": 114,
     "metadata": {},
     "output_type": "execute_result"
    }
   ],
   "source": [
    "####split methods\n",
    "a = np.random.randint(100,size=(10,))\n",
    "a"
   ]
  },
  {
   "cell_type": "code",
   "execution_count": 115,
   "id": "c46da0f7",
   "metadata": {},
   "outputs": [
    {
     "data": {
      "text/plain": [
       "[array([58, 93, 69, 11, 50]), array([52, 80, 56, 52, 88])]"
      ]
     },
     "execution_count": 115,
     "metadata": {},
     "output_type": "execute_result"
    }
   ],
   "source": [
    "np.split(a,2)"
   ]
  },
  {
   "cell_type": "code",
   "execution_count": 116,
   "id": "d90784c5",
   "metadata": {},
   "outputs": [
    {
     "data": {
      "text/plain": [
       "array([[ 9,  8, 26, 57, 36],\n",
       "       [51, 30, 74, 55, 33],\n",
       "       [ 9, 66, 67, 72, 18],\n",
       "       [42, 11, 33, 44, 46]])"
      ]
     },
     "execution_count": 116,
     "metadata": {},
     "output_type": "execute_result"
    }
   ],
   "source": [
    "a = np.random.randint(5,75,(4,5))\n",
    "a"
   ]
  },
  {
   "cell_type": "code",
   "execution_count": 117,
   "id": "3d47cc0e",
   "metadata": {},
   "outputs": [
    {
     "data": {
      "text/plain": [
       "[array([[ 9,  8, 26, 57, 36]]),\n",
       " array([[51, 30, 74, 55, 33]]),\n",
       " array([[ 9, 66, 67, 72, 18]]),\n",
       " array([[42, 11, 33, 44, 46]])]"
      ]
     },
     "execution_count": 117,
     "metadata": {},
     "output_type": "execute_result"
    }
   ],
   "source": [
    "e,b,*c = np.split(a,4)\n",
    "np.split(a,4)  ##default is axis=0 so we need multiplier of 4 rows for this to work"
   ]
  },
  {
   "cell_type": "code",
   "execution_count": 118,
   "id": "076ae593",
   "metadata": {},
   "outputs": [
    {
     "data": {
      "text/plain": [
       "array([[ 9,  8, 26, 57, 36]])"
      ]
     },
     "execution_count": 118,
     "metadata": {},
     "output_type": "execute_result"
    }
   ],
   "source": [
    "e"
   ]
  },
  {
   "cell_type": "code",
   "execution_count": 125,
   "id": "2163fe5b",
   "metadata": {
    "scrolled": true
   },
   "outputs": [
    {
     "data": {
      "text/plain": [
       "[array([[ 9, 66, 67, 72, 18]]), array([[42, 11, 33, 44, 46]])]"
      ]
     },
     "execution_count": 125,
     "metadata": {},
     "output_type": "execute_result"
    }
   ],
   "source": [
    "c"
   ]
  },
  {
   "cell_type": "code",
   "execution_count": 134,
   "id": "7152630d",
   "metadata": {
    "scrolled": true
   },
   "outputs": [
    {
     "data": {
      "text/plain": [
       "[array([[30, 74],\n",
       "        [59, 10],\n",
       "        [66, 46]]),\n",
       " array([[64, 76],\n",
       "        [70,  9],\n",
       "        [54, 92]]),\n",
       " array([[44, 62],\n",
       "        [67, 73],\n",
       "        [12, 41]])]"
      ]
     },
     "execution_count": 134,
     "metadata": {},
     "output_type": "execute_result"
    }
   ],
   "source": [
    "a = np.random.randint(100,size=(3,6))\n",
    "np.split(a,3,axis=1)  ##split to 3parts based on number of columns"
   ]
  },
  {
   "cell_type": "code",
   "execution_count": 135,
   "id": "1b0a4ef4",
   "metadata": {
    "scrolled": true
   },
   "outputs": [
    {
     "data": {
      "text/plain": [
       "[array([[30, 74],\n",
       "        [59, 10],\n",
       "        [66, 46]]),\n",
       " array([[64, 76],\n",
       "        [70,  9],\n",
       "        [54, 92]]),\n",
       " array([[44, 62],\n",
       "        [67, 73],\n",
       "        [12, 41]])]"
      ]
     },
     "execution_count": 135,
     "metadata": {},
     "output_type": "execute_result"
    }
   ],
   "source": [
    "np.hsplit(a,3)  ##hsplit same as split with axis=1 default"
   ]
  },
  {
   "cell_type": "code",
   "execution_count": 136,
   "id": "2052e7c9",
   "metadata": {
    "scrolled": true
   },
   "outputs": [
    {
     "data": {
      "text/plain": [
       "[array([[30, 74, 64, 76, 44, 62]]),\n",
       " array([[59, 10, 70,  9, 67, 73]]),\n",
       " array([[66, 46, 54, 92, 12, 41]])]"
      ]
     },
     "execution_count": 136,
     "metadata": {},
     "output_type": "execute_result"
    }
   ],
   "source": [
    "np.vsplit(a,3)  ##vsplit same as split except it has no axis= parameter"
   ]
  },
  {
   "cell_type": "code",
   "execution_count": 137,
   "id": "b91d1845",
   "metadata": {
    "scrolled": false
   },
   "outputs": [
    {
     "data": {
      "text/plain": [
       "[array([[30, 74, 64, 76, 44, 62]]),\n",
       " array([[59, 10, 70,  9, 67, 73]]),\n",
       " array([[66, 46, 54, 92, 12, 41]])]"
      ]
     },
     "execution_count": 137,
     "metadata": {},
     "output_type": "execute_result"
    }
   ],
   "source": [
    "np.split(a,3)"
   ]
  },
  {
   "cell_type": "code",
   "execution_count": null,
   "id": "65b5c46c",
   "metadata": {},
   "outputs": [],
   "source": []
  }
 ],
 "metadata": {
  "kernelspec": {
   "display_name": "amulya_numpy",
   "language": "python",
   "name": "amulya_numpy"
  },
  "language_info": {
   "codemirror_mode": {
    "name": "ipython",
    "version": 3
   },
   "file_extension": ".py",
   "mimetype": "text/x-python",
   "name": "python",
   "nbconvert_exporter": "python",
   "pygments_lexer": "ipython3",
   "version": "3.10.6"
  }
 },
 "nbformat": 4,
 "nbformat_minor": 5
}
