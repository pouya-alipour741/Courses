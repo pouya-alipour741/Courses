{
 "cells": [
  {
   "cell_type": "code",
   "execution_count": 6,
   "id": "fd9847a5",
   "metadata": {},
   "outputs": [
    {
     "data": {
      "text/plain": [
       "array([2., 3.])"
      ]
     },
     "execution_count": 6,
     "metadata": {},
     "output_type": "execute_result"
    }
   ],
   "source": [
    "import numpy as np\n",
    "\n",
    "'''3x + y = 9\n",
    "      x + 2y = 8'''\n",
    "\n",
    "a = np.array([[3,1],[1,2]])\n",
    "b = np.array([9,8])\n",
    "\n",
    "np.linalg.solve(a,b)\n",
    "\n",
    "# hence x= 2 , y=3"
   ]
  },
  {
   "cell_type": "code",
   "execution_count": 11,
   "id": "5fa643f7",
   "metadata": {},
   "outputs": [
    {
     "data": {
      "text/plain": [
       "array([18.53658537, -5.85365854, -6.58536585])"
      ]
     },
     "execution_count": 11,
     "metadata": {},
     "output_type": "execute_result"
    }
   ],
   "source": [
    "'''3x + y + 3z = 30\n",
    "   x + 2y -2z = 20\n",
    "   2x -5y + 4z = 40'''\n",
    "\n",
    "x = np.array([[3,1,3],[1,2,-2],[2,-5,4]])\n",
    "y = np.array([30,20,40])\n",
    "\n",
    "np.linalg.solve(x,y)\n",
    "\n",
    "# hence x= 18.5 , y=-5.8, z=-6.5"
   ]
  }
 ],
 "metadata": {
  "kernelspec": {
   "display_name": "amulya_numpy",
   "language": "python",
   "name": "amulya_numpy"
  },
  "language_info": {
   "codemirror_mode": {
    "name": "ipython",
    "version": 3
   },
   "file_extension": ".py",
   "mimetype": "text/x-python",
   "name": "python",
   "nbconvert_exporter": "python",
   "pygments_lexer": "ipython3",
   "version": "3.10.6"
  }
 },
 "nbformat": 4,
 "nbformat_minor": 5
}
