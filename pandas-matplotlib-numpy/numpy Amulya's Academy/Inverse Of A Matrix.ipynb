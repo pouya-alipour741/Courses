{
 "cells": [
  {
   "cell_type": "code",
   "execution_count": 4,
   "id": "315b93a4",
   "metadata": {
    "scrolled": true
   },
   "outputs": [
    {
     "data": {
      "text/plain": [
       "array([[3, 3],\n",
       "       [1, 3]])"
      ]
     },
     "execution_count": 4,
     "metadata": {},
     "output_type": "execute_result"
    }
   ],
   "source": [
    "import numpy as np\n",
    "\n",
    "a = np.random.randint(1,5,(2,2))\n",
    "a"
   ]
  },
  {
   "cell_type": "code",
   "execution_count": 7,
   "id": "7a4aa82f",
   "metadata": {},
   "outputs": [],
   "source": [
    "b = np.linalg.inv(a)  ##inverse of the matrix a"
   ]
  },
  {
   "cell_type": "code",
   "execution_count": 19,
   "id": "c38860bb",
   "metadata": {
    "scrolled": true
   },
   "outputs": [
    {
     "data": {
      "text/plain": [
       "array([[1.00000000e+00, 0.00000000e+00],\n",
       "       [2.77555756e-17, 1.00000000e+00]])"
      ]
     },
     "execution_count": 19,
     "metadata": {},
     "output_type": "execute_result"
    }
   ],
   "source": [
    "np.dot(a,b)  ##should be close to identity matrix"
   ]
  },
  {
   "cell_type": "code",
   "execution_count": 15,
   "id": "4b1d2776",
   "metadata": {
    "scrolled": true
   },
   "outputs": [
    {
     "data": {
      "text/plain": [
       "array([[0., 0., 1., 0.],\n",
       "       [0., 0., 0., 1.],\n",
       "       [0., 0., 0., 0.]])"
      ]
     },
     "execution_count": 15,
     "metadata": {},
     "output_type": "execute_result"
    }
   ],
   "source": [
    "np.eye(3,4,2)"
   ]
  },
  {
   "cell_type": "code",
   "execution_count": 16,
   "id": "9e66bad9",
   "metadata": {},
   "outputs": [
    {
     "data": {
      "text/plain": [
       "array([[1., 0.],\n",
       "       [0., 1.]])"
      ]
     },
     "execution_count": 16,
     "metadata": {},
     "output_type": "execute_result"
    }
   ],
   "source": [
    "np.eye(2)"
   ]
  },
  {
   "cell_type": "code",
   "execution_count": 17,
   "id": "60badd81",
   "metadata": {
    "scrolled": true
   },
   "outputs": [
    {
     "data": {
      "text/plain": [
       "True"
      ]
     },
     "execution_count": 17,
     "metadata": {},
     "output_type": "execute_result"
    }
   ],
   "source": [
    "np.allclose(np.dot(a,b),np.eye(2))   ###returns true if two values are close within a tolerance"
   ]
  },
  {
   "cell_type": "code",
   "execution_count": 21,
   "id": "9699dd1b",
   "metadata": {
    "scrolled": true
   },
   "outputs": [
    {
     "name": "stdout",
     "output_type": "stream",
     "text": [
      "Help on function inv in module numpy.linalg:\n",
      "\n",
      "inv(a)\n",
      "    Compute the (multiplicative) inverse of a matrix.\n",
      "    \n",
      "    Given a square matrix `a`, return the matrix `ainv` satisfying\n",
      "    ``dot(a, ainv) = dot(ainv, a) = eye(a.shape[0])``.\n",
      "    \n",
      "    Parameters\n",
      "    ----------\n",
      "    a : (..., M, M) array_like\n",
      "        Matrix to be inverted.\n",
      "    \n",
      "    Returns\n",
      "    -------\n",
      "    ainv : (..., M, M) ndarray or matrix\n",
      "        (Multiplicative) inverse of the matrix `a`.\n",
      "    \n",
      "    Raises\n",
      "    ------\n",
      "    LinAlgError\n",
      "        If `a` is not square or inversion fails.\n",
      "    \n",
      "    See Also\n",
      "    --------\n",
      "    scipy.linalg.inv : Similar function in SciPy.\n",
      "    \n",
      "    Notes\n",
      "    -----\n",
      "    \n",
      "    .. versionadded:: 1.8.0\n",
      "    \n",
      "    Broadcasting rules apply, see the `numpy.linalg` documentation for\n",
      "    details.\n",
      "    \n",
      "    Examples\n",
      "    --------\n",
      "    >>> from numpy.linalg import inv\n",
      "    >>> a = np.array([[1., 2.], [3., 4.]])\n",
      "    >>> ainv = inv(a)\n",
      "    >>> np.allclose(np.dot(a, ainv), np.eye(2))\n",
      "    True\n",
      "    >>> np.allclose(np.dot(ainv, a), np.eye(2))\n",
      "    True\n",
      "    \n",
      "    If a is a matrix object, then the return value is a matrix as well:\n",
      "    \n",
      "    >>> ainv = inv(np.matrix(a))\n",
      "    >>> ainv\n",
      "    matrix([[-2. ,  1. ],\n",
      "            [ 1.5, -0.5]])\n",
      "    \n",
      "    Inverses of several matrices can be computed at once:\n",
      "    \n",
      "    >>> a = np.array([[[1., 2.], [3., 4.]], [[1, 3], [3, 5]]])\n",
      "    >>> inv(a)\n",
      "    array([[[-2.  ,  1.  ],\n",
      "            [ 1.5 , -0.5 ]],\n",
      "           [[-1.25,  0.75],\n",
      "            [ 0.75, -0.25]]])\n",
      "\n"
     ]
    }
   ],
   "source": [
    "help(np.linalg.inv)"
   ]
  }
 ],
 "metadata": {
  "kernelspec": {
   "display_name": "amulya_numpy",
   "language": "python",
   "name": "amulya_numpy"
  },
  "language_info": {
   "codemirror_mode": {
    "name": "ipython",
    "version": 3
   },
   "file_extension": ".py",
   "mimetype": "text/x-python",
   "name": "python",
   "nbconvert_exporter": "python",
   "pygments_lexer": "ipython3",
   "version": "3.10.6"
  }
 },
 "nbformat": 4,
 "nbformat_minor": 5
}
