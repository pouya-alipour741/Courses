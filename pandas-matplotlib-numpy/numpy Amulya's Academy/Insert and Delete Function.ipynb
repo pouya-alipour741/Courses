{
 "cells": [
  {
   "cell_type": "code",
   "execution_count": 5,
   "id": "48cc5cee",
   "metadata": {},
   "outputs": [
    {
     "data": {
      "text/plain": [
       "array([84, 37, 40, 13, 99, 34, 22, 96, 91, 52])"
      ]
     },
     "execution_count": 5,
     "metadata": {},
     "output_type": "execute_result"
    }
   ],
   "source": [
    "import numpy as np\n",
    "\n",
    "##1dimension\n",
    "a = np.random.randint(100,size=(10,))\n",
    "a"
   ]
  },
  {
   "cell_type": "code",
   "execution_count": 8,
   "id": "af47ee3b",
   "metadata": {},
   "outputs": [
    {
     "data": {
      "text/plain": [
       "10"
      ]
     },
     "execution_count": 8,
     "metadata": {},
     "output_type": "execute_result"
    }
   ],
   "source": [
    "a.size"
   ]
  },
  {
   "cell_type": "code",
   "execution_count": 10,
   "id": "1594c301",
   "metadata": {},
   "outputs": [],
   "source": [
    "b = np.insert(a,1,170)"
   ]
  },
  {
   "cell_type": "code",
   "execution_count": 11,
   "id": "71dc2774",
   "metadata": {},
   "outputs": [
    {
     "data": {
      "text/plain": [
       "11"
      ]
     },
     "execution_count": 11,
     "metadata": {},
     "output_type": "execute_result"
    }
   ],
   "source": [
    "b.size"
   ]
  },
  {
   "cell_type": "code",
   "execution_count": 13,
   "id": "6027b21e",
   "metadata": {},
   "outputs": [
    {
     "data": {
      "text/plain": [
       "array([ 84, 110,  37,  40, 110,  13,  99,  34,  22,  96,  91,  52])"
      ]
     },
     "execution_count": 13,
     "metadata": {},
     "output_type": "execute_result"
    }
   ],
   "source": [
    "np.insert(a,(1,3),110)"
   ]
  },
  {
   "cell_type": "code",
   "execution_count": 14,
   "id": "4aa78a28",
   "metadata": {},
   "outputs": [
    {
     "data": {
      "text/plain": [
       "array([ 84, 110,  37,  40, 140,  13,  99,  34,  22,  96,  91,  52])"
      ]
     },
     "execution_count": 14,
     "metadata": {},
     "output_type": "execute_result"
    }
   ],
   "source": [
    "np.insert(a,(1,3),(110,140))"
   ]
  },
  {
   "cell_type": "code",
   "execution_count": 16,
   "id": "db863b69",
   "metadata": {},
   "outputs": [
    {
     "data": {
      "text/plain": [
       "array([[ 4,  5],\n",
       "       [10, 12]])"
      ]
     },
     "execution_count": 16,
     "metadata": {},
     "output_type": "execute_result"
    }
   ],
   "source": [
    "##2dimension\n",
    "a = np.array([[4,5],[10,12]])\n",
    "a"
   ]
  },
  {
   "cell_type": "code",
   "execution_count": 17,
   "id": "758d4174",
   "metadata": {},
   "outputs": [
    {
     "data": {
      "text/plain": [
       "array([ 4, 25,  5, 10, 12])"
      ]
     },
     "execution_count": 17,
     "metadata": {},
     "output_type": "execute_result"
    }
   ],
   "source": [
    "np.insert(a,1,25)  ##if no axis= is given it will flatten the data first"
   ]
  },
  {
   "cell_type": "code",
   "execution_count": 18,
   "id": "d31b2b7f",
   "metadata": {},
   "outputs": [
    {
     "data": {
      "text/plain": [
       "array([[ 4,  5],\n",
       "       [25, 25],\n",
       "       [10, 12]])"
      ]
     },
     "execution_count": 18,
     "metadata": {},
     "output_type": "execute_result"
    }
   ],
   "source": [
    "np.insert(a,1,25,axis=0)  ##broadcasting "
   ]
  },
  {
   "cell_type": "code",
   "execution_count": 19,
   "id": "93ad8868",
   "metadata": {},
   "outputs": [
    {
     "data": {
      "text/plain": [
       "array([[ 4, 25,  5],\n",
       "       [10, 25, 12]])"
      ]
     },
     "execution_count": 19,
     "metadata": {},
     "output_type": "execute_result"
    }
   ],
   "source": [
    "np.insert(a,1,25,axis=1)"
   ]
  },
  {
   "cell_type": "code",
   "execution_count": 30,
   "id": "87732116",
   "metadata": {
    "scrolled": false
   },
   "outputs": [],
   "source": [
    "x = np.insert(a,1,[25,50],axis=1)"
   ]
  },
  {
   "cell_type": "code",
   "execution_count": 33,
   "id": "3fd1eaaf",
   "metadata": {},
   "outputs": [],
   "source": [
    "y = np.insert(a,[1],[[25],[50]],axis=1)  ##same as above"
   ]
  },
  {
   "cell_type": "code",
   "execution_count": 34,
   "id": "2ceca0ad",
   "metadata": {},
   "outputs": [
    {
     "data": {
      "text/plain": [
       "True"
      ]
     },
     "execution_count": 34,
     "metadata": {},
     "output_type": "execute_result"
    }
   ],
   "source": [
    "np.array_equal(x,y)"
   ]
  },
  {
   "cell_type": "code",
   "execution_count": 23,
   "id": "7922a860",
   "metadata": {
    "scrolled": true
   },
   "outputs": [
    {
     "name": "stdout",
     "output_type": "stream",
     "text": [
      "Help on function insert in module numpy:\n",
      "\n",
      "insert(arr, obj, values, axis=None)\n",
      "    Insert values along the given axis before the given indices.\n",
      "    \n",
      "    Parameters\n",
      "    ----------\n",
      "    arr : array_like\n",
      "        Input array.\n",
      "    obj : int, slice or sequence of ints\n",
      "        Object that defines the index or indices before which `values` is\n",
      "        inserted.\n",
      "    \n",
      "        .. versionadded:: 1.8.0\n",
      "    \n",
      "        Support for multiple insertions when `obj` is a single scalar or a\n",
      "        sequence with one element (similar to calling insert multiple\n",
      "        times).\n",
      "    values : array_like\n",
      "        Values to insert into `arr`. If the type of `values` is different\n",
      "        from that of `arr`, `values` is converted to the type of `arr`.\n",
      "        `values` should be shaped so that ``arr[...,obj,...] = values``\n",
      "        is legal.\n",
      "    axis : int, optional\n",
      "        Axis along which to insert `values`.  If `axis` is None then `arr`\n",
      "        is flattened first.\n",
      "    \n",
      "    Returns\n",
      "    -------\n",
      "    out : ndarray\n",
      "        A copy of `arr` with `values` inserted.  Note that `insert`\n",
      "        does not occur in-place: a new array is returned. If\n",
      "        `axis` is None, `out` is a flattened array.\n",
      "    \n",
      "    See Also\n",
      "    --------\n",
      "    append : Append elements at the end of an array.\n",
      "    concatenate : Join a sequence of arrays along an existing axis.\n",
      "    delete : Delete elements from an array.\n",
      "    \n",
      "    Notes\n",
      "    -----\n",
      "    Note that for higher dimensional inserts ``obj=0`` behaves very different\n",
      "    from ``obj=[0]`` just like ``arr[:,0,:] = values`` is different from\n",
      "    ``arr[:,[0],:] = values``.\n",
      "    \n",
      "    Examples\n",
      "    --------\n",
      "    >>> a = np.array([[1, 1], [2, 2], [3, 3]])\n",
      "    >>> a\n",
      "    array([[1, 1],\n",
      "           [2, 2],\n",
      "           [3, 3]])\n",
      "    >>> np.insert(a, 1, 5)\n",
      "    array([1, 5, 1, ..., 2, 3, 3])\n",
      "    >>> np.insert(a, 1, 5, axis=1)\n",
      "    array([[1, 5, 1],\n",
      "           [2, 5, 2],\n",
      "           [3, 5, 3]])\n",
      "    \n",
      "    Difference between sequence and scalars:\n",
      "    \n",
      "    >>> np.insert(a, [1], [[1],[2],[3]], axis=1)\n",
      "    array([[1, 1, 1],\n",
      "           [2, 2, 2],\n",
      "           [3, 3, 3]])\n",
      "    >>> np.array_equal(np.insert(a, 1, [1, 2, 3], axis=1),\n",
      "    ...                np.insert(a, [1], [[1],[2],[3]], axis=1))\n",
      "    True\n",
      "    \n",
      "    >>> b = a.flatten()\n",
      "    >>> b\n",
      "    array([1, 1, 2, 2, 3, 3])\n",
      "    >>> np.insert(b, [2, 2], [5, 6])\n",
      "    array([1, 1, 5, ..., 2, 3, 3])\n",
      "    \n",
      "    >>> np.insert(b, slice(2, 4), [5, 6])\n",
      "    array([1, 1, 5, ..., 2, 3, 3])\n",
      "    \n",
      "    >>> np.insert(b, [2, 2], [7.13, False]) # type casting\n",
      "    array([1, 1, 7, ..., 2, 3, 3])\n",
      "    \n",
      "    >>> x = np.arange(8).reshape(2, 4)\n",
      "    >>> idx = (1, 3)\n",
      "    >>> np.insert(x, idx, 999, axis=1)\n",
      "    array([[  0, 999,   1,   2, 999,   3],\n",
      "           [  4, 999,   5,   6, 999,   7]])\n",
      "\n"
     ]
    }
   ],
   "source": [
    "##more info\n",
    "help(np.insert) "
   ]
  },
  {
   "cell_type": "code",
   "execution_count": 35,
   "id": "8f669d9d",
   "metadata": {},
   "outputs": [
    {
     "data": {
      "text/plain": [
       "array([ 1,  2,  3,  4,  5,  6,  7,  8,  9, 10])"
      ]
     },
     "execution_count": 35,
     "metadata": {},
     "output_type": "execute_result"
    }
   ],
   "source": [
    "###append\n",
    "a = np.arange(1,11)\n",
    "a"
   ]
  },
  {
   "cell_type": "code",
   "execution_count": 36,
   "id": "dc6d8f9a",
   "metadata": {},
   "outputs": [
    {
     "data": {
      "text/plain": [
       "array([   1,    2,    3,    4,    5,    6,    7,    8,    9,   10, 1234])"
      ]
     },
     "execution_count": 36,
     "metadata": {},
     "output_type": "execute_result"
    }
   ],
   "source": [
    "np.append(a,1234)"
   ]
  },
  {
   "cell_type": "code",
   "execution_count": 41,
   "id": "4328a105",
   "metadata": {},
   "outputs": [
    {
     "data": {
      "text/plain": [
       "array([ 1,  2,  3,  4,  5,  6,  7,  8,  9, 10,  0,  1,  2,  3])"
      ]
     },
     "execution_count": 41,
     "metadata": {},
     "output_type": "execute_result"
    }
   ],
   "source": [
    "np.concatenate((a,np.arange(4)))  ##flashback"
   ]
  },
  {
   "cell_type": "code",
   "execution_count": 44,
   "id": "5145ba06",
   "metadata": {
    "scrolled": true
   },
   "outputs": [
    {
     "data": {
      "text/plain": [
       "array([[ 2, -5],\n",
       "       [ 2, -4]])"
      ]
     },
     "execution_count": 44,
     "metadata": {},
     "output_type": "execute_result"
    }
   ],
   "source": [
    "##2D\n",
    "a = np.random.randint(-5,5,(2,2))\n",
    "a"
   ]
  },
  {
   "cell_type": "code",
   "execution_count": 49,
   "id": "6ef14fc4",
   "metadata": {
    "scrolled": true
   },
   "outputs": [
    {
     "data": {
      "text/plain": [
       "array([[ 2, -5],\n",
       "       [ 2, -4],\n",
       "       [ 3,  4]])"
      ]
     },
     "execution_count": 49,
     "metadata": {},
     "output_type": "execute_result"
    }
   ],
   "source": [
    "np.append(a,[[3,4]],axis=0)"
   ]
  },
  {
   "cell_type": "code",
   "execution_count": 52,
   "id": "539bc08c",
   "metadata": {},
   "outputs": [
    {
     "data": {
      "text/plain": [
       "array([[ 2, -5,  3],\n",
       "       [ 2, -4,  4]])"
      ]
     },
     "execution_count": 52,
     "metadata": {},
     "output_type": "execute_result"
    }
   ],
   "source": [
    "np.append(a,[[3],[4]],axis=1)"
   ]
  },
  {
   "cell_type": "code",
   "execution_count": 53,
   "id": "45eb15d5",
   "metadata": {},
   "outputs": [
    {
     "data": {
      "text/plain": [
       "array([[1, 2],\n",
       "       [3, 4]])"
      ]
     },
     "execution_count": 53,
     "metadata": {},
     "output_type": "execute_result"
    }
   ],
   "source": [
    "a = np.array([[1,2],[3,4]])\n",
    "a\n"
   ]
  },
  {
   "cell_type": "code",
   "execution_count": 54,
   "id": "f3497b63",
   "metadata": {},
   "outputs": [
    {
     "data": {
      "text/plain": [
       "array([1, 3, 4])"
      ]
     },
     "execution_count": 54,
     "metadata": {},
     "output_type": "execute_result"
    }
   ],
   "source": [
    "np.delete(a,1)"
   ]
  },
  {
   "cell_type": "code",
   "execution_count": 58,
   "id": "35009cf0",
   "metadata": {},
   "outputs": [
    {
     "data": {
      "text/plain": [
       "array([[1, 2]])"
      ]
     },
     "execution_count": 58,
     "metadata": {},
     "output_type": "execute_result"
    }
   ],
   "source": [
    "np.delete(a,1,axis=0)"
   ]
  },
  {
   "cell_type": "code",
   "execution_count": 56,
   "id": "805b808f",
   "metadata": {
    "scrolled": true
   },
   "outputs": [
    {
     "data": {
      "text/plain": [
       "array([[1],\n",
       "       [3]])"
      ]
     },
     "execution_count": 56,
     "metadata": {},
     "output_type": "execute_result"
    }
   ],
   "source": [
    "np.delete(a,1,axis=1)"
   ]
  },
  {
   "cell_type": "code",
   "execution_count": null,
   "id": "14d1ecbf",
   "metadata": {},
   "outputs": [],
   "source": []
  }
 ],
 "metadata": {
  "kernelspec": {
   "display_name": "panda_venv_jupyter",
   "language": "python",
   "name": "panda_venv_jupyter"
  },
  "language_info": {
   "codemirror_mode": {
    "name": "ipython",
    "version": 3
   },
   "file_extension": ".py",
   "mimetype": "text/x-python",
   "name": "python",
   "nbconvert_exporter": "python",
   "pygments_lexer": "ipython3",
   "version": "3.10.6"
  }
 },
 "nbformat": 4,
 "nbformat_minor": 5
}
