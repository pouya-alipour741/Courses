{
 "cells": [
  {
   "cell_type": "code",
   "execution_count": 2,
   "id": "6f842660",
   "metadata": {},
   "outputs": [],
   "source": [
    "import pandas as pd\n",
    "import numpy as np"
   ]
  },
  {
   "cell_type": "code",
   "execution_count": 3,
   "id": "ff0b8b74",
   "metadata": {},
   "outputs": [],
   "source": [
    "my_series = [5,4,26,9]\n",
    "my_index = ['A','B','C','D']"
   ]
  },
  {
   "cell_type": "code",
   "execution_count": 5,
   "id": "4c5df3b3",
   "metadata": {
    "scrolled": true
   },
   "outputs": [
    {
     "data": {
      "text/plain": [
       "A     5\n",
       "B     4\n",
       "C    26\n",
       "D     9\n",
       "dtype: int64"
      ]
     },
     "execution_count": 5,
     "metadata": {},
     "output_type": "execute_result"
    }
   ],
   "source": [
    "my_var = pd.Series(my_series,my_index)\n",
    "my_var"
   ]
  },
  {
   "cell_type": "code",
   "execution_count": 6,
   "id": "edf836f3",
   "metadata": {
    "scrolled": true
   },
   "outputs": [
    {
     "data": {
      "text/plain": [
       "Tesla            12\n",
       "Astone martin    76\n",
       "Benz             54\n",
       "dtype: int64"
      ]
     },
     "execution_count": 6,
     "metadata": {},
     "output_type": "execute_result"
    }
   ],
   "source": [
    "cars = {'Tesla':12,'Astone martin':76,'Benz':54}\n",
    "my_var2 = pd.Series(cars)\n",
    "my_var2"
   ]
  }
 ],
 "metadata": {
  "kernelspec": {
   "display_name": "panda_venv_jupyter",
   "language": "python",
   "name": "panda_venv_jupyter"
  },
  "language_info": {
   "codemirror_mode": {
    "name": "ipython",
    "version": 3
   },
   "file_extension": ".py",
   "mimetype": "text/x-python",
   "name": "python",
   "nbconvert_exporter": "python",
   "pygments_lexer": "ipython3",
   "version": "3.10.6"
  }
 },
 "nbformat": 4,
 "nbformat_minor": 5
}
